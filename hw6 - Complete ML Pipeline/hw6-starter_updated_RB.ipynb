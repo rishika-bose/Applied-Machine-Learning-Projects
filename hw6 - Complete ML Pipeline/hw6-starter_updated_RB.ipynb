{
  "metadata": {
    "kernelspec": {
      "name": "python",
      "display_name": "Python (Pyodide)",
      "language": "python"
    },
    "language_info": {
      "codemirror_mode": {
        "name": "python",
        "version": 3
      },
      "file_extension": ".py",
      "mimetype": "text/x-python",
      "name": "python",
      "nbconvert_exporter": "python",
      "pygments_lexer": "ipython3",
      "version": "3.8"
    }
  },
  "nbformat_minor": 4,
  "nbformat": 4,
  "cells": [
    {
      "cell_type": "markdown",
      "source": "# CPSC 330 - Applied Machine Learning \n\n## Homework 6: Putting it all together \n### Associated lectures: All material till lecture 13 \n\n**Due date: Wednesday, March 15, 2023 at 11:59pm**",
      "metadata": {}
    },
    {
      "cell_type": "markdown",
      "source": "Note: this is an incomplete version. Complete version was submitted.",
      "metadata": {}
    },
    {
      "cell_type": "markdown",
      "source": "## Table of contents\n\n- [Submission instructions](#si)\n- [Understanding the problem](#1)\n- [Data splitting](#2)\n- [EDA](#3)\n- (Optional) [Feature engineering](#4)\n- [Preprocessing and transformations](#5)\n- [Baseline model](#6)\n- [Linear models](#7)\n- [Different classifiers](#8)\n- (Optional) [Feature selection](#9)\n- [Hyperparameter optimization](#10)\n- [Interpretation and feature importances](#11)\n- [Results on the test set](#12)\n- (Optional) [Explaining predictions](#13)\n- [Summary of the results](#14)",
      "metadata": {}
    },
    {
      "cell_type": "markdown",
      "source": "## Imports ",
      "metadata": {}
    },
    {
      "cell_type": "code",
      "source": "import os\n\n%matplotlib inline\nimport sys\n\nimport matplotlib.pyplot as plt\nimport numpy as np\nimport pandas as pd\nimport seaborn as sns\nimport xgboost as xgb\nfrom sklearn.compose import ColumnTransformer, make_column_transformer\nfrom sklearn.dummy import DummyClassifier\nfrom sklearn.ensemble import RandomForestClassifier\nfrom sklearn.impute import SimpleImputer\nfrom sklearn.linear_model import LogisticRegression\nfrom sklearn.metrics import (\n    classification_report,\n    confusion_matrix,\n    f1_score,\n    make_scorer,\n    plot_confusion_matrix,\n)\nfrom sklearn.model_selection import (\n    GridSearchCV,\n    RandomizedSearchCV,\n    cross_val_score,\n    cross_validate,\n    train_test_split,\n)\nfrom sklearn.pipeline import Pipeline, make_pipeline\nfrom sklearn.preprocessing import OneHotEncoder, OrdinalEncoder, StandardScaler\nfrom sklearn.svm import SVC",
      "metadata": {
        "trusted": true
      },
      "execution_count": 1,
      "outputs": [
        {
          "ename": "<class 'ModuleNotFoundError'>",
          "evalue": "No module named 'seaborn'",
          "traceback": [
            "\u001b[0;31m---------------------------------------------------------------------------\u001b[0m",
            "\u001b[0;31mModuleNotFoundError\u001b[0m                       Traceback (most recent call last)",
            "Cell \u001b[0;32mIn[1], line 9\u001b[0m\n\u001b[1;32m      7\u001b[0m \u001b[38;5;28;01mimport\u001b[39;00m \u001b[38;5;21;01mnumpy\u001b[39;00m \u001b[38;5;28;01mas\u001b[39;00m \u001b[38;5;21;01mnp\u001b[39;00m\n\u001b[1;32m      8\u001b[0m \u001b[38;5;28;01mimport\u001b[39;00m \u001b[38;5;21;01mpandas\u001b[39;00m \u001b[38;5;28;01mas\u001b[39;00m \u001b[38;5;21;01mpd\u001b[39;00m\n\u001b[0;32m----> 9\u001b[0m \u001b[38;5;28;01mimport\u001b[39;00m \u001b[38;5;21;01mseaborn\u001b[39;00m \u001b[38;5;28;01mas\u001b[39;00m \u001b[38;5;21;01msns\u001b[39;00m\n\u001b[1;32m     10\u001b[0m \u001b[38;5;28;01mimport\u001b[39;00m \u001b[38;5;21;01mxgboost\u001b[39;00m \u001b[38;5;28;01mas\u001b[39;00m \u001b[38;5;21;01mxgb\u001b[39;00m\n\u001b[1;32m     11\u001b[0m \u001b[38;5;28;01mfrom\u001b[39;00m \u001b[38;5;21;01msklearn\u001b[39;00m\u001b[38;5;21;01m.\u001b[39;00m\u001b[38;5;21;01mcompose\u001b[39;00m \u001b[38;5;28;01mimport\u001b[39;00m ColumnTransformer, make_column_transformer\n",
            "\u001b[0;31mModuleNotFoundError\u001b[0m: No module named 'seaborn'"
          ],
          "output_type": "error"
        }
      ]
    },
    {
      "cell_type": "markdown",
      "source": "<br><br>",
      "metadata": {}
    },
    {
      "cell_type": "markdown",
      "source": "## Instructions \n<hr>\nrubric={points:2}\n\nFollow the [homework submission instructions](https://github.com/UBC-CS/cpsc330-2022W2/blob/main/docs/homework_instructions.md). \n\n**You may work on this homework in a group and submit your assignment as a group.** Below are some instructions on working as a group.  \n- The maximum group size is 3. \n- Use group work as an opportunity to collaborate and learn new things from each other. \n- Be respectful to each other and make sure you understand all the concepts in the assignment well. \n- It's your responsibility to make sure that the assignment is submitted by one of the group members before the deadline. \n- You can find the instructions on how to do group submission on Gradescope [here](https://help.gradescope.com/article/m5qz2xsnjy-student-add-group-members).",
      "metadata": {}
    },
    {
      "cell_type": "markdown",
      "source": "<br><br>",
      "metadata": {}
    },
    {
      "cell_type": "markdown",
      "source": "## Introduction <a name=\"in\"></a>\n<hr>\n\nAt this point we are at the end of supervised machine learning part of the course. So in this homework, you will be working on an open-ended mini-project, where you will put all the different things you have learned so far together to solve an interesting problem.\n\nA few notes and tips when you work on this mini-project: \n\n#### Tips\n\n1. This mini-project is open-ended, and while working on it, there might be some situations where you'll have to use your own judgment and make your own decisions (as you would be doing when you work as a data scientist). **Make sure you explain your decisions whenever necessary.** \n2. **Do not include everything you ever tried in your submission** -- it's fine just to have your final code. That said, your code should be reproducible and well-documented. For example, if you chose your hyperparameters based on some hyperparameter optimization experiment, you should leave in the code for that experiment so that someone else could re-run it and obtain the same hyperparameters, rather than mysteriously just setting the hyperparameters to some (carefully chosen) values in your code. \n3. If you realize that you are repeating a lot of code try to organize it in functions. Clear presentation of your code, experiments, and results is the key to be successful in this lab. You may use code from lecture notes or previous lab solutions with appropriate attributions. \n4. If you are having trouble running models on your laptop because of the size of the dataset, you can create your train/test split in such a way that you have less data in the train split. If you end up doing this, please write a note to the grader in the submission explaining why you are doing it.  \n\n#### Assessment\n\nWe plan to grade fairly and leniently. We don't have some secret target score that you need to achieve to get a good grade. **You'll be assessed on demonstration of mastery of course topics, clear presentation, and the quality of your analysis and results.** For example, if you just have a bunch of code and no text or figures, that's not good. If you do a bunch of sane things and get a lower accuracy than your friend, don't sweat it.\n\n#### A final note\n\nFinally, this style of this \"project\" question is different from other assignments. It'll be up to you to decide when you're \"done\" -- in fact, this is one of the hardest parts of real projects. But please don't spend WAY too much time on this... perhaps \"a few hours\" (2-8 hours???) is a good guideline for a typical submission. Of course if you're having fun you're welcome to spend as much time as you want! But, if so, try not to do it out of perfectionism or getting the best possible grade. Do it because you're learning and enjoying it. Students from the past cohorts have found such kind of labs useful and fun and I hope you enjoy it as well. ",
      "metadata": {}
    },
    {
      "cell_type": "markdown",
      "source": "<br><br>",
      "metadata": {}
    },
    {
      "cell_type": "markdown",
      "source": "## 1. Understanding the problem <a name=\"1\"></a>\n<hr>\nrubric={points:4}\n\nIn this mini project, you will be working on a classification problem of predicting whether a customer will cancel the reservation they have made at a hotel. \nFor this problem, you will use [Reservation Cancellation Prediction Dataset](https://www.kaggle.com/datasets/gauravduttakiit/reservation-cancellation-prediction?select=train__dataset.csv). In this data set, there are about 18.000 examples and 18 features (including the target), and the goal is to estimate whether a person will cancel their booking; this column is labeled \"booking_status\" in the data (1 = canceled). \n\n**Your tasks:**\n\n1. Spend some time understanding the problem and what each feature means. You can find this information in the documentation on [the dataset page on Kaggle](https://www.kaggle.com/datasets/gauravduttakiit/reservation-cancellation-prediction?select=train__dataset.csv). Write a few sentences on your initial thoughts on the problem and the dataset. \n2. Download the dataset and read it as a pandas dataframe. ",
      "metadata": {}
    },
    {
      "cell_type": "markdown",
      "source": "Answer 1.\nThis seems like a useful and easily applicable prediction problem. The dataset is not too high-dimensional, with only 18 features, and has quite a lot of samples (18,000) - meaning models that suffer from the 'curse of dimensionality' could potentially be used, and there will likely not be a problem with having small validation splits. The variable 'Booking_ID' should likely be dropped, as it is a unique value that is unlikely to be useful in prediction. ",
      "metadata": {}
    },
    {
      "cell_type": "code",
      "source": "#based on hw5\ndf = pd.read_csv(\"./data/train__dataset.csv\", encoding=\"utf-8\")",
      "metadata": {
        "trusted": true
      },
      "execution_count": 2,
      "outputs": []
    },
    {
      "cell_type": "markdown",
      "source": "<br><br>",
      "metadata": {}
    },
    {
      "cell_type": "markdown",
      "source": "## 2. Data splitting <a name=\"2\"></a>\n<hr>\nrubric={points:2}\n\n**Your tasks:**\n\n1. Split the data into train and test portions. ",
      "metadata": {}
    },
    {
      "cell_type": "code",
      "source": "#based on hw5\n\ntrain_df, test_df = train_test_split(df, test_size=0.3, random_state=123)",
      "metadata": {
        "trusted": true
      },
      "execution_count": 3,
      "outputs": [
        {
          "ename": "<class 'NameError'>",
          "evalue": "name 'train_test_split' is not defined",
          "traceback": [
            "\u001b[0;31m---------------------------------------------------------------------------\u001b[0m",
            "\u001b[0;31mNameError\u001b[0m                                 Traceback (most recent call last)",
            "Cell \u001b[0;32mIn[3], line 3\u001b[0m\n\u001b[1;32m      1\u001b[0m \u001b[38;5;66;03m#based on hw5\u001b[39;00m\n\u001b[0;32m----> 3\u001b[0m train_df, test_df \u001b[38;5;241m=\u001b[39m \u001b[43mtrain_test_split\u001b[49m(df, test_size\u001b[38;5;241m=\u001b[39m\u001b[38;5;241m0.3\u001b[39m, random_state\u001b[38;5;241m=\u001b[39m\u001b[38;5;241m123\u001b[39m)\n",
            "\u001b[0;31mNameError\u001b[0m: name 'train_test_split' is not defined"
          ],
          "output_type": "error"
        }
      ]
    },
    {
      "cell_type": "markdown",
      "source": "<br><br>",
      "metadata": {}
    },
    {
      "cell_type": "markdown",
      "source": "## 3. EDA <a name=\"3\"></a>\n<hr>\nrubric={points:10}\n\n**Your tasks:**\n\n1. Perform exploratory data analysis on the train set.\n2. Include at least two summary statistics and two visualizations that you find useful, and accompany each one with a sentence explaining it.\n3. Summarize your initial observations about the data. \n4. Pick appropriate metric/metrics for assessment. ",
      "metadata": {}
    },
    {
      "cell_type": "markdown",
      "source": "**View a sample of the dataset**",
      "metadata": {}
    },
    {
      "cell_type": "code",
      "source": "train_df.head()",
      "metadata": {
        "trusted": true
      },
      "execution_count": 4,
      "outputs": [
        {
          "ename": "<class 'NameError'>",
          "evalue": "name 'train_df' is not defined",
          "traceback": [
            "\u001b[0;31m---------------------------------------------------------------------------\u001b[0m",
            "\u001b[0;31mNameError\u001b[0m                                 Traceback (most recent call last)",
            "Cell \u001b[0;32mIn[4], line 1\u001b[0m\n\u001b[0;32m----> 1\u001b[0m \u001b[43mtrain_df\u001b[49m\u001b[38;5;241m.\u001b[39mhead()\n",
            "\u001b[0;31mNameError\u001b[0m: name 'train_df' is not defined"
          ],
          "output_type": "error"
        }
      ]
    },
    {
      "cell_type": "markdown",
      "source": "**Look at the data types of each feature**\n\nBelow it is shown that all the features are encoded as numbers. However, from the feature descriptions on the dataset page it is apparent that some features (e.g. type_of_meal_plan, room_type_reserved) are actually categorical or binary, not numerical.",
      "metadata": {}
    },
    {
      "cell_type": "code",
      "source": "train_df.info()",
      "metadata": {
        "trusted": true
      },
      "execution_count": 5,
      "outputs": [
        {
          "ename": "<class 'NameError'>",
          "evalue": "name 'train_df' is not defined",
          "traceback": [
            "\u001b[0;31m---------------------------------------------------------------------------\u001b[0m",
            "\u001b[0;31mNameError\u001b[0m                                 Traceback (most recent call last)",
            "Cell \u001b[0;32mIn[5], line 1\u001b[0m\n\u001b[0;32m----> 1\u001b[0m \u001b[43mtrain_df\u001b[49m\u001b[38;5;241m.\u001b[39minfo()\n",
            "\u001b[0;31mNameError\u001b[0m: name 'train_df' is not defined"
          ],
          "output_type": "error"
        }
      ]
    },
    {
      "cell_type": "markdown",
      "source": "**Check for missing values**\n\nIt appears from the above that there are no missing values, but this is checked below:",
      "metadata": {}
    },
    {
      "cell_type": "code",
      "source": "df.isna().sum()",
      "metadata": {
        "trusted": true
      },
      "execution_count": 6,
      "outputs": [
        {
          "execution_count": 6,
          "output_type": "execute_result",
          "data": {
            "text/plain": "no_of_adults                            0\nno_of_children                          0\nno_of_weekend_nights                    0\nno_of_week_nights                       0\ntype_of_meal_plan                       0\nrequired_car_parking_space              0\nroom_type_reserved                      0\nlead_time                               0\narrival_year                            0\narrival_month                           0\narrival_date                            0\nmarket_segment_type                     0\nrepeated_guest                          0\nno_of_previous_cancellations            0\nno_of_previous_bookings_not_canceled    0\navg_price_per_room                      0\nno_of_special_requests                  0\nbooking_status                          0\ndtype: int64"
          },
          "metadata": {}
        }
      ]
    },
    {
      "cell_type": "markdown",
      "source": "**Look at summary statistics for each feature**\n\nThe table below gives summary statistics including mean, stdev, and values at the 0th, 25th, 50th, 75th and 100th percentile.\nNote that these statistics are not meaningful for all the features, as some are categorical or binary.",
      "metadata": {}
    },
    {
      "cell_type": "code",
      "source": "train_df.describe()",
      "metadata": {
        "trusted": true
      },
      "execution_count": 7,
      "outputs": [
        {
          "ename": "<class 'NameError'>",
          "evalue": "name 'train_df' is not defined",
          "traceback": [
            "\u001b[0;31m---------------------------------------------------------------------------\u001b[0m",
            "\u001b[0;31mNameError\u001b[0m                                 Traceback (most recent call last)",
            "Cell \u001b[0;32mIn[7], line 1\u001b[0m\n\u001b[0;32m----> 1\u001b[0m \u001b[43mtrain_df\u001b[49m\u001b[38;5;241m.\u001b[39mdescribe()\n",
            "\u001b[0;31mNameError\u001b[0m: name 'train_df' is not defined"
          ],
          "output_type": "error"
        }
      ]
    },
    {
      "cell_type": "markdown",
      "source": "It may be interesting to note that:\n* The mean number of adults checking in is 1.85, with a relatively low stdev and all of the 25th, 50th, and 75th percentiles are 2. This implies a very tight distribution, with most check-ins having around 2 adults. \n* The mean number of children = ~0.11. This is below 1, implying most check in without children. ",
      "metadata": {}
    },
    {
      "cell_type": "code",
      "source": "train_df.hist(bins=50, figsize=(20, 15));",
      "metadata": {
        "trusted": true
      },
      "execution_count": 8,
      "outputs": [
        {
          "ename": "<class 'NameError'>",
          "evalue": "name 'train_df' is not defined",
          "traceback": [
            "\u001b[0;31m---------------------------------------------------------------------------\u001b[0m",
            "\u001b[0;31mNameError\u001b[0m                                 Traceback (most recent call last)",
            "Cell \u001b[0;32mIn[8], line 1\u001b[0m\n\u001b[0;32m----> 1\u001b[0m \u001b[43mtrain_df\u001b[49m\u001b[38;5;241m.\u001b[39mhist(bins\u001b[38;5;241m=\u001b[39m\u001b[38;5;241m50\u001b[39m, figsize\u001b[38;5;241m=\u001b[39m(\u001b[38;5;241m20\u001b[39m, \u001b[38;5;241m15\u001b[39m));\n",
            "\u001b[0;31mNameError\u001b[0m: name 'train_df' is not defined"
          ],
          "output_type": "error"
        }
      ]
    },
    {
      "cell_type": "markdown",
      "source": "The lead-time and avg_price_per_room are the only features with continuous values",
      "metadata": {}
    },
    {
      "cell_type": "code",
      "source": "booked = train_df[train_df.booking_status == 0]\ncancelled = train_df[train_df.booking_status == 1]\n\n#plotting histograms for each numeric column\nfig, axis = plt.subplots(9,2,figsize=(20, 60))\nbooked.hist(ax=axis, label = \"Not Cancelled\")\ncancelled.hist(ax=axis, label = \"Cancelled\")\nplt.legend()",
      "metadata": {
        "trusted": true
      },
      "execution_count": 9,
      "outputs": [
        {
          "ename": "<class 'NameError'>",
          "evalue": "name 'train_df' is not defined",
          "traceback": [
            "\u001b[0;31m---------------------------------------------------------------------------\u001b[0m",
            "\u001b[0;31mNameError\u001b[0m                                 Traceback (most recent call last)",
            "Cell \u001b[0;32mIn[9], line 1\u001b[0m\n\u001b[0;32m----> 1\u001b[0m booked \u001b[38;5;241m=\u001b[39m \u001b[43mtrain_df\u001b[49m[train_df\u001b[38;5;241m.\u001b[39mbooking_status \u001b[38;5;241m==\u001b[39m \u001b[38;5;241m0\u001b[39m]\n\u001b[1;32m      2\u001b[0m cancelled \u001b[38;5;241m=\u001b[39m train_df[train_df\u001b[38;5;241m.\u001b[39mbooking_status \u001b[38;5;241m==\u001b[39m \u001b[38;5;241m1\u001b[39m]\n\u001b[1;32m      4\u001b[0m \u001b[38;5;66;03m#plotting histograms for each numeric column\u001b[39;00m\n",
            "\u001b[0;31mNameError\u001b[0m: name 'train_df' is not defined"
          ],
          "output_type": "error"
        }
      ]
    },
    {
      "cell_type": "markdown",
      "source": "In all features, people tend to not cancel their rooms, where the count of negative class(Not cancelled) is always higher than the positive class in among all values in each feature.",
      "metadata": {}
    },
    {
      "cell_type": "markdown",
      "source": "**Feature Correlations**\n\nThe graph below shows the correlations between each feature and every feature in the dataset. Darker blue squares show higher correlations.\nNote that:\n* this may miss non-linear relationships between variables.\n* this is befpre preprocessing, so it may be useful to view this again after preprocessing.",
      "metadata": {}
    },
    {
      "cell_type": "code",
      "source": "cor = train_df.iloc[:, :18].corr()\nplt.figure(figsize=(15, 15))\nsns.set(font_scale=1)\nsns.heatmap(cor, annot=True, cmap=plt.cm.Blues);",
      "metadata": {
        "trusted": true
      },
      "execution_count": 10,
      "outputs": [
        {
          "ename": "<class 'NameError'>",
          "evalue": "name 'train_df' is not defined",
          "traceback": [
            "\u001b[0;31m---------------------------------------------------------------------------\u001b[0m",
            "\u001b[0;31mNameError\u001b[0m                                 Traceback (most recent call last)",
            "Cell \u001b[0;32mIn[10], line 1\u001b[0m\n\u001b[0;32m----> 1\u001b[0m cor \u001b[38;5;241m=\u001b[39m \u001b[43mtrain_df\u001b[49m\u001b[38;5;241m.\u001b[39miloc[:, :\u001b[38;5;241m18\u001b[39m]\u001b[38;5;241m.\u001b[39mcorr()\n\u001b[1;32m      2\u001b[0m plt\u001b[38;5;241m.\u001b[39mfigure(figsize\u001b[38;5;241m=\u001b[39m(\u001b[38;5;241m15\u001b[39m, \u001b[38;5;241m15\u001b[39m))\n\u001b[1;32m      3\u001b[0m sns\u001b[38;5;241m.\u001b[39mset(font_scale\u001b[38;5;241m=\u001b[39m\u001b[38;5;241m1\u001b[39m)\n",
            "\u001b[0;31mNameError\u001b[0m: name 'train_df' is not defined"
          ],
          "output_type": "error"
        }
      ]
    },
    {
      "cell_type": "markdown",
      "source": "Interestingly, there seems to be a fairly high positive correlation between 'lead time' (number of days between the date of booking and the arrival date) and booking status being = 1(i.e. cancelled). As lead time may be an important variable for our prediction, we look into its distribution below.",
      "metadata": {}
    },
    {
      "cell_type": "code",
      "source": "df['lead_time'].plot(kind='kde')\nplt.xlabel('Lead time')\nplt.title('Lead time distribution')",
      "metadata": {
        "trusted": true
      },
      "execution_count": 11,
      "outputs": [
        {
          "execution_count": 11,
          "output_type": "execute_result",
          "data": {
            "text/plain": "Text(0.5, 1.0, 'Lead time distribution')"
          },
          "metadata": {}
        },
        {
          "output_type": "display_data",
          "data": {
            "text/plain": "<Figure size 640x480 with 1 Axes>",
            "image/png": "[encoded data removed]"
          },
          "metadata": {}
        }
      ]
    },
    {
      "cell_type": "markdown",
      "source": "This shows there is one large peak and some bumps following it, but it is not clear how this related to booking status. Below, we show the lead time distribution by booking status.",
      "metadata": {}
    },
    {
      "cell_type": "code",
      "source": "df.groupby('booking_status')['lead_time'].plot(kind='kde')\nplt.legend(['0', '1'], title='Booking Status')\nplt.xlabel('Lead time')\nplt.title('Lead time distribution separated by booking status')",
      "metadata": {
        "trusted": true
      },
      "execution_count": 12,
      "outputs": [
        {
          "execution_count": 12,
          "output_type": "execute_result",
          "data": {
            "text/plain": "Text(0.5, 1.0, 'Lead time distribution separated by booking status')"
          },
          "metadata": {}
        },
        {
          "output_type": "display_data",
          "data": {
            "text/plain": "<Figure size 640x480 with 1 Axes>",
            "image/png": "[encoded data removed]"
          },
          "metadata": {}
        }
      ]
    },
    {
      "cell_type": "markdown",
      "source": "**Class imbalance**:\n\nThe number of those who cancelled their booking (1) and those who didn't (0) is below.",
      "metadata": {}
    },
    {
      "cell_type": "code",
      "source": "df['booking_status'].value_counts()",
      "metadata": {
        "trusted": true
      },
      "execution_count": 13,
      "outputs": [
        {
          "execution_count": 13,
          "output_type": "execute_result",
          "data": {
            "text/plain": "0    12195\n1     5942\nName: booking_status, dtype: int64"
          },
          "metadata": {}
        }
      ]
    },
    {
      "cell_type": "markdown",
      "source": "**Initial observations about the data:**\n* It is not a very high-dimensional dataset (before pre-processing, which may had columns through one-hot encoding)\n* There are a few moderate-sized correlations between different features (this may be an issue in linear models)\n* There are no missing values\n* The target feature is binary\n* There is some class imbalance (around half as many cancelled bookings as non-cancelled) but it is not as imbalanced as might be expected.\n\n\n",
      "metadata": {}
    },
    {
      "cell_type": "markdown",
      "source": "**Appropriate metric/metrics for assessment:**\n\nThe dataset page describes cancellations as 'less desirable and possibly revenue-diminishing for hotels'. We can assume that for this application, it is more important to correctly detect cancellations (booking_status=1) rather than non-cancellations (booking_status=0). \n\nFalse negatives may cause the hotel to lose money, and so we want to minimise them. Therefore high **recall** is more important than high precision. \nHowever, a given model may give different recall and precision scores across different thresholds. To account for this, it may be useful to look at the **PR plot and ROC curve**, and the associated **AP and AUROC scores**. ",
      "metadata": {}
    },
    {
      "cell_type": "markdown",
      "source": "<br><br>",
      "metadata": {}
    },
    {
      "cell_type": "markdown",
      "source": "## (Optional) 4. Feature engineering <a name=\"4\"></a>\n<hr>\nrubric={points:1}\n\n**Your tasks:**\n\n1. Carry out feature engineering. In other words, extract new features relevant for the problem and work with your new feature set in the following exercises. You may have to go back and forth between feature engineering and preprocessing. ",
      "metadata": {}
    },
    {
      "cell_type": "code",
      "source": "import math as m\n#NOTE all these should not be used for every model (e.g. use subset for linear models)\n\ntrain_df_all = train_df\ntest_df_all = test_df\n\n#transformed lead time:\n#explanation: it seems that larger lead times are related to higher prob. of cancellation (from above). \n#             It is possible that this relationship is not linear. It may be sublinear, as it is possible\n#             the efect would decrease over time. This could be modelled with a log relationship.\n#             Taking the log(lead_time) is a problem because lead_time can be 0. Therefore I used a 'pseudo \n#             logarithm', as described in the source below. It has the following properties:\n#             1. pseudoLog10(x) is defined for all real x.\n#             2. pseudoLog10(0) = 0.\n#             3. pseudoLog10(-x) = -pseudoLog10(x).\n#reference: https://win-vector.com/2012/03/01/modeling-trick-the-signed-pseudo-logarithm/\ntrain_df_all['log_lead_time'] = train_df['lead_time'].transform(lambda x: m.asinh(x/2)/m.log10(10))\ntest_df_all['log_lead_time'] = test_df['lead_time'].transform(lambda x: m.asinh(x/2)/m.log10(10))\n\n#binary children:\n# explanation: it is possible that the number of children is less important than whether there are children at all.\n#              therefore a binary column is added where bin_children=1 means there are children, and \n#              bin_children=0 means there are non3.\ntrain_df_all['bin_children'] = np.where(train_df['no_of_children'] > 0, 1, 0)\ntest_df_all['bin_children'] = np.where(test_df['no_of_children'] > 0, 1, 0)\n\n#binary adults:\n# explanation: it appears there are some cases where number of adults is 0 as well. This may be an exceptional case\n#              and could perhaps be related to cancellations. \ntrain_df_all['bin_adults'] = np.where(train_df['no_of_adults'] > 0, 1, 0)\ntest_df_all['bin_adults'] = np.where(test_df['no_of_adults'] > 0, 1, 0)\n\n#categorical arrival date:\n# explanation: arrival_date has a lot of different values, and does not seem that useful by itself. However, it is possible \n# there is some relationship to which part of the month someone books for, and cancellations. To test this, arrival_date is grouped\n# into one of three sections in the new column cat_arrival_date\ntrain_df_all['cat_arrival_date'] = np.where(train_df['arrival_date'] > 20, 3, \n                                      (np.where(train_df['arrival_date'] > 10, 2, 1)))\ntest_df_all['cat_arrival_date'] = np.where(test_df['arrival_date'] > 20, 3, \n                                      (np.where(test_df['arrival_date'] > 10, 2, 1)))\n",
      "metadata": {
        "trusted": true
      },
      "execution_count": 14,
      "outputs": [
        {
          "ename": "<class 'NameError'>",
          "evalue": "name 'train_df' is not defined",
          "traceback": [
            "\u001b[0;31m---------------------------------------------------------------------------\u001b[0m",
            "\u001b[0;31mNameError\u001b[0m                                 Traceback (most recent call last)",
            "Cell \u001b[0;32mIn[14], line 4\u001b[0m\n\u001b[1;32m      1\u001b[0m \u001b[38;5;28;01mimport\u001b[39;00m \u001b[38;5;21;01mmath\u001b[39;00m \u001b[38;5;28;01mas\u001b[39;00m \u001b[38;5;21;01mm\u001b[39;00m\n\u001b[1;32m      2\u001b[0m \u001b[38;5;66;03m#NOTE all these should not be used for every model (e.g. use subset for linear models)\u001b[39;00m\n\u001b[0;32m----> 4\u001b[0m train_df_all \u001b[38;5;241m=\u001b[39m \u001b[43mtrain_df\u001b[49m\n\u001b[1;32m      5\u001b[0m test_df_all \u001b[38;5;241m=\u001b[39m test_df\n\u001b[1;32m      7\u001b[0m \u001b[38;5;66;03m#transformed lead time:\u001b[39;00m\n\u001b[1;32m      8\u001b[0m \u001b[38;5;66;03m#explanation: it seems that larger lead times are related to higher prob. of cancellation (from above). \u001b[39;00m\n\u001b[1;32m      9\u001b[0m \u001b[38;5;66;03m#             It is possible that this relationship is not linear. It may be sublinear, as it is possible\u001b[39;00m\n\u001b[0;32m   (...)\u001b[0m\n\u001b[1;32m     15\u001b[0m \u001b[38;5;66;03m#             3. pseudoLog10(-x) = -pseudoLog10(x).\u001b[39;00m\n\u001b[1;32m     16\u001b[0m \u001b[38;5;66;03m#reference: https://win-vector.com/2012/03/01/modeling-trick-the-signed-pseudo-logarithm/\u001b[39;00m\n",
            "\u001b[0;31mNameError\u001b[0m: name 'train_df' is not defined"
          ],
          "output_type": "error"
        }
      ]
    },
    {
      "cell_type": "markdown",
      "source": "<br><br>",
      "metadata": {}
    },
    {
      "cell_type": "markdown",
      "source": "## 5. Preprocessing and transformations <a name=\"5\"></a>\n<hr>\nrubric={points:10}\n\n**Your tasks:**\n\n1. Identify different feature types and the transformations you would apply on each feature type. \n2. Define a column transformer, if necessary. ",
      "metadata": {}
    },
    {
      "cell_type": "code",
      "source": "# month could potentially be ordinal, but this may assume that the relationship will be linear\n# however e.g. there may be more bookings in summer, or some other period, rather than an increase/decrease \n# along the year. Therefore month is kept as categorical.\n# the same argument applies to \nfeatures_cat = ['type_of_meal_plan',\n                'room_type_reserved',\n                'arrival_year', #only two values - could be considered bin but do not want to drop one\n                'arrival_month', #see above\n                'market_segment_type', #there may be some ordering but we are not told\n                'cat_arrival_date' #see above\n               ]\n#features_ord = []\nfeatures_bin = ['required_car_parking_space',\n                'repeated_guest',\n                'bin_children',\n                'bin_adults'\n               ]\nfeatures_num = ['no_of_adults',\n                'no_of_children',\n                'no_of_weekend_nights',\n                'no_of_week_nights',\n                'lead_time',\n                'no_of_previous_cancellations',\n                'no_of_previous_bookings_not_canceled',\n                'avg_price_per_room',\n                'no_of_special_requests',\n                'log_lead_time'                \n               ]\nfeatures_drop = ['arrival_date'] \n#features_pass = []\n\ntarget = 'booking_status'",
      "metadata": {
        "trusted": true
      },
      "execution_count": 15,
      "outputs": []
    },
    {
      "cell_type": "code",
      "source": "#based on lecture 6\n\ntransformer_categorical = OneHotEncoder(handle_unknown=\"ignore\")\ntransformer_numeric = StandardScaler()\n\npreprocessor = make_column_transformer(\n    (transformer_categorical, features_cat),\n    (transformer_numeric, features_num),\n    (\"passthrough\", features_bin),\n    (\"drop\", features_drop)\n)\npreprocessor",
      "metadata": {
        "trusted": true
      },
      "execution_count": 16,
      "outputs": [
        {
          "ename": "<class 'NameError'>",
          "evalue": "name 'OneHotEncoder' is not defined",
          "traceback": [
            "\u001b[0;31m---------------------------------------------------------------------------\u001b[0m",
            "\u001b[0;31mNameError\u001b[0m                                 Traceback (most recent call last)",
            "Cell \u001b[0;32mIn[16], line 3\u001b[0m\n\u001b[1;32m      1\u001b[0m \u001b[38;5;66;03m#based on lecture 6\u001b[39;00m\n\u001b[0;32m----> 3\u001b[0m transformer_categorical \u001b[38;5;241m=\u001b[39m \u001b[43mOneHotEncoder\u001b[49m(handle_unknown\u001b[38;5;241m=\u001b[39m\u001b[38;5;124m\"\u001b[39m\u001b[38;5;124mignore\u001b[39m\u001b[38;5;124m\"\u001b[39m)\n\u001b[1;32m      4\u001b[0m transformer_numeric \u001b[38;5;241m=\u001b[39m StandardScaler()\n\u001b[1;32m      6\u001b[0m preprocessor \u001b[38;5;241m=\u001b[39m make_column_transformer(\n\u001b[1;32m      7\u001b[0m     (transformer_categorical, features_cat),\n\u001b[1;32m      8\u001b[0m     (transformer_numeric, features_num),\n\u001b[1;32m      9\u001b[0m     (\u001b[38;5;124m\"\u001b[39m\u001b[38;5;124mpassthrough\u001b[39m\u001b[38;5;124m\"\u001b[39m, features_bin),\n\u001b[1;32m     10\u001b[0m     (\u001b[38;5;124m\"\u001b[39m\u001b[38;5;124mdrop\u001b[39m\u001b[38;5;124m\"\u001b[39m, features_drop)\n\u001b[1;32m     11\u001b[0m )\n",
            "\u001b[0;31mNameError\u001b[0m: name 'OneHotEncoder' is not defined"
          ],
          "output_type": "error"
        }
      ]
    },
    {
      "cell_type": "markdown",
      "source": "<br><br>",
      "metadata": {}
    },
    {
      "cell_type": "markdown",
      "source": "## 6. Baseline model <a name=\"6\"></a>\n<hr>\n\nrubric={points:2}\n\n**Your tasks:**\n1. Try `scikit-learn`'s baseline model and report results.",
      "metadata": {}
    },
    {
      "cell_type": "code",
      "source": "X_train = train_df_all.drop(columns='booking_status')\ny_train = train_df_all['booking_status']\nX_test = test_df_all.drop(columns='booking_status')\ny_test = test_df_all['booking_status']",
      "metadata": {
        "trusted": true
      },
      "execution_count": 17,
      "outputs": [
        {
          "ename": "<class 'NameError'>",
          "evalue": "name 'train_df_all' is not defined",
          "traceback": [
            "\u001b[0;31m---------------------------------------------------------------------------\u001b[0m",
            "\u001b[0;31mNameError\u001b[0m                                 Traceback (most recent call last)",
            "Cell \u001b[0;32mIn[17], line 1\u001b[0m\n\u001b[0;32m----> 1\u001b[0m X_train \u001b[38;5;241m=\u001b[39m \u001b[43mtrain_df_all\u001b[49m\u001b[38;5;241m.\u001b[39mdrop(columns\u001b[38;5;241m=\u001b[39m\u001b[38;5;124m'\u001b[39m\u001b[38;5;124mbooking_status\u001b[39m\u001b[38;5;124m'\u001b[39m)\n\u001b[1;32m      2\u001b[0m y_train \u001b[38;5;241m=\u001b[39m train_df_all[\u001b[38;5;124m'\u001b[39m\u001b[38;5;124mbooking_status\u001b[39m\u001b[38;5;124m'\u001b[39m]\n\u001b[1;32m      3\u001b[0m X_test \u001b[38;5;241m=\u001b[39m test_df_all\u001b[38;5;241m.\u001b[39mdrop(columns\u001b[38;5;241m=\u001b[39m\u001b[38;5;124m'\u001b[39m\u001b[38;5;124mbooking_status\u001b[39m\u001b[38;5;124m'\u001b[39m)\n",
            "\u001b[0;31mNameError\u001b[0m: name 'train_df_all' is not defined"
          ],
          "output_type": "error"
        }
      ]
    },
    {
      "cell_type": "code",
      "source": "scoring_base = [\"accuracy\"] #\"recall\", \"precision\", \"f1\"]\npipe_baseline = make_pipeline(preprocessor, DummyClassifier(strategy=\"most_frequent\"))\nscores_baseline = cross_validate(pipe_baseline, X_train, y_train, scoring=scoring_base)\npd.DataFrame(scores_baseline).mean()",
      "metadata": {
        "trusted": true
      },
      "execution_count": 18,
      "outputs": [
        {
          "ename": "<class 'NameError'>",
          "evalue": "name 'make_pipeline' is not defined",
          "traceback": [
            "\u001b[0;31m---------------------------------------------------------------------------\u001b[0m",
            "\u001b[0;31mNameError\u001b[0m                                 Traceback (most recent call last)",
            "Cell \u001b[0;32mIn[18], line 2\u001b[0m\n\u001b[1;32m      1\u001b[0m scoring_base \u001b[38;5;241m=\u001b[39m [\u001b[38;5;124m\"\u001b[39m\u001b[38;5;124maccuracy\u001b[39m\u001b[38;5;124m\"\u001b[39m] \u001b[38;5;66;03m#\"recall\", \"precision\", \"f1\"]\u001b[39;00m\n\u001b[0;32m----> 2\u001b[0m pipe_baseline \u001b[38;5;241m=\u001b[39m \u001b[43mmake_pipeline\u001b[49m(preprocessor, DummyClassifier(strategy\u001b[38;5;241m=\u001b[39m\u001b[38;5;124m\"\u001b[39m\u001b[38;5;124mmost_frequent\u001b[39m\u001b[38;5;124m\"\u001b[39m))\n\u001b[1;32m      3\u001b[0m scores_baseline \u001b[38;5;241m=\u001b[39m cross_validate(pipe_baseline, X_train, y_train, scoring\u001b[38;5;241m=\u001b[39mscoring_base)\n\u001b[1;32m      4\u001b[0m pd\u001b[38;5;241m.\u001b[39mDataFrame(scores_baseline)\u001b[38;5;241m.\u001b[39mmean()\n",
            "\u001b[0;31mNameError\u001b[0m: name 'make_pipeline' is not defined"
          ],
          "output_type": "error"
        }
      ]
    },
    {
      "cell_type": "markdown",
      "source": "As it is predicting the most frequent class, it is always predicting a negative. Accuracy is around 67% (which is the frequency of the negative class).\nOther metrics such as recall, precision and f1 are left out as they would be 0.",
      "metadata": {}
    },
    {
      "cell_type": "markdown",
      "source": "<br><br>",
      "metadata": {}
    },
    {
      "cell_type": "markdown",
      "source": "## 7. Linear models <a name=\"7\"></a>\n<hr>\nrubric={points:12}\n\n**Your tasks:**\n\n1. Try logistic regression as a first real attempt. \n2. Carry out hyperparameter tuning to explore different values for the complexity hyperparameter `C`. \n3. Report validation scores along with standard deviation. \n4. Summarize your results.",
      "metadata": {}
    },
    {
      "cell_type": "markdown",
      "source": "**Scores without optimised hyperparameters**",
      "metadata": {}
    },
    {
      "cell_type": "code",
      "source": "#Without hyperparamenter tuning:\n#TODO check if I should use Ridge here?\n#TODO check that C is the only HP to optimise?\nscoring = [\"accuracy\", \"recall\", \"precision\", \"f1\"]\npipe_linear1 = make_pipeline(preprocessor, LogisticRegression(max_iter = 225)) #anyting lower causes warning\nscores_linear1 = cross_validate(pipe_linear1, X_train, y_train, scoring=scoring)\n#pd.DataFrame(scores_linear1)\npd.concat(\n    [pd.DataFrame(scores_linear1).mean(), pd.DataFrame(scores_linear1).std()],\n    axis=1, keys=[\"validation scores\", \"stdev\"]\n)\n",
      "metadata": {
        "trusted": true
      },
      "execution_count": 19,
      "outputs": [
        {
          "ename": "<class 'NameError'>",
          "evalue": "name 'make_pipeline' is not defined",
          "traceback": [
            "\u001b[0;31m---------------------------------------------------------------------------\u001b[0m",
            "\u001b[0;31mNameError\u001b[0m                                 Traceback (most recent call last)",
            "Cell \u001b[0;32mIn[19], line 5\u001b[0m\n\u001b[1;32m      1\u001b[0m \u001b[38;5;66;03m#Without hyperparamenter tuning:\u001b[39;00m\n\u001b[1;32m      2\u001b[0m \u001b[38;5;66;03m#TODO check if I should use Ridge here?\u001b[39;00m\n\u001b[1;32m      3\u001b[0m \u001b[38;5;66;03m#TODO check that C is the only HP to optimise?\u001b[39;00m\n\u001b[1;32m      4\u001b[0m scoring \u001b[38;5;241m=\u001b[39m [\u001b[38;5;124m\"\u001b[39m\u001b[38;5;124maccuracy\u001b[39m\u001b[38;5;124m\"\u001b[39m, \u001b[38;5;124m\"\u001b[39m\u001b[38;5;124mrecall\u001b[39m\u001b[38;5;124m\"\u001b[39m, \u001b[38;5;124m\"\u001b[39m\u001b[38;5;124mprecision\u001b[39m\u001b[38;5;124m\"\u001b[39m, \u001b[38;5;124m\"\u001b[39m\u001b[38;5;124mf1\u001b[39m\u001b[38;5;124m\"\u001b[39m]\n\u001b[0;32m----> 5\u001b[0m pipe_linear1 \u001b[38;5;241m=\u001b[39m \u001b[43mmake_pipeline\u001b[49m(preprocessor, LogisticRegression(max_iter \u001b[38;5;241m=\u001b[39m \u001b[38;5;241m225\u001b[39m)) \u001b[38;5;66;03m#anyting lower causes warning\u001b[39;00m\n\u001b[1;32m      6\u001b[0m scores_linear1 \u001b[38;5;241m=\u001b[39m cross_validate(pipe_linear1, X_train, y_train, scoring\u001b[38;5;241m=\u001b[39mscoring)\n\u001b[1;32m      7\u001b[0m \u001b[38;5;66;03m#pd.DataFrame(scores_linear1)\u001b[39;00m\n",
            "\u001b[0;31mNameError\u001b[0m: name 'make_pipeline' is not defined"
          ],
          "output_type": "error"
        }
      ]
    },
    {
      "cell_type": "code",
      "source": "#based on lecture 8\nfrom scipy.stats import loguniform\n#Hyperparameter tuning:\n# Doing grid search because there is only one HP and not many values\nparam_grid = {\n    \"logisticregression__C\": [0.001, 0.01, 0.1, 1.0, 10, 100],\n}\n\ngrid_search = GridSearchCV(\n    pipe_linear1, param_grid, cv=5, n_jobs=-1, return_train_score=True\n)",
      "metadata": {
        "trusted": true
      },
      "execution_count": 20,
      "outputs": [
        {
          "ename": "<class 'NameError'>",
          "evalue": "name 'GridSearchCV' is not defined",
          "traceback": [
            "\u001b[0;31m---------------------------------------------------------------------------\u001b[0m",
            "\u001b[0;31mNameError\u001b[0m                                 Traceback (most recent call last)",
            "Cell \u001b[0;32mIn[20], line 9\u001b[0m\n\u001b[1;32m      3\u001b[0m \u001b[38;5;66;03m#Hyperparameter tuning:\u001b[39;00m\n\u001b[1;32m      4\u001b[0m \u001b[38;5;66;03m# Doing grid search because there is only one HP and not many values\u001b[39;00m\n\u001b[1;32m      5\u001b[0m param_grid \u001b[38;5;241m=\u001b[39m {\n\u001b[1;32m      6\u001b[0m     \u001b[38;5;124m\"\u001b[39m\u001b[38;5;124mlogisticregression__C\u001b[39m\u001b[38;5;124m\"\u001b[39m: [\u001b[38;5;241m0.001\u001b[39m, \u001b[38;5;241m0.01\u001b[39m, \u001b[38;5;241m0.1\u001b[39m, \u001b[38;5;241m1.0\u001b[39m, \u001b[38;5;241m10\u001b[39m, \u001b[38;5;241m100\u001b[39m],\n\u001b[1;32m      7\u001b[0m }\n\u001b[0;32m----> 9\u001b[0m grid_search \u001b[38;5;241m=\u001b[39m \u001b[43mGridSearchCV\u001b[49m(\n\u001b[1;32m     10\u001b[0m     pipe_linear1, param_grid, cv\u001b[38;5;241m=\u001b[39m\u001b[38;5;241m5\u001b[39m, n_jobs\u001b[38;5;241m=\u001b[39m\u001b[38;5;241m-\u001b[39m\u001b[38;5;241m1\u001b[39m, return_train_score\u001b[38;5;241m=\u001b[39m\u001b[38;5;28;01mTrue\u001b[39;00m\n\u001b[1;32m     11\u001b[0m )\n",
            "\u001b[0;31mNameError\u001b[0m: name 'GridSearchCV' is not defined"
          ],
          "output_type": "error"
        }
      ]
    },
    {
      "cell_type": "code",
      "source": "grid_search.fit(X_train, y_train)\ngrid_search",
      "metadata": {
        "trusted": true
      },
      "execution_count": 21,
      "outputs": [
        {
          "ename": "<class 'NameError'>",
          "evalue": "name 'grid_search' is not defined",
          "traceback": [
            "\u001b[0;31m---------------------------------------------------------------------------\u001b[0m",
            "\u001b[0;31mNameError\u001b[0m                                 Traceback (most recent call last)",
            "Cell \u001b[0;32mIn[21], line 1\u001b[0m\n\u001b[0;32m----> 1\u001b[0m \u001b[43mgrid_search\u001b[49m\u001b[38;5;241m.\u001b[39mfit(X_train, y_train)\n\u001b[1;32m      2\u001b[0m grid_search\n",
            "\u001b[0;31mNameError\u001b[0m: name 'grid_search' is not defined"
          ],
          "output_type": "error"
        }
      ]
    },
    {
      "cell_type": "code",
      "source": "print(\"Best score from grid search:\", grid_search.best_score_)",
      "metadata": {
        "trusted": true
      },
      "execution_count": 22,
      "outputs": [
        {
          "ename": "<class 'NameError'>",
          "evalue": "name 'grid_search' is not defined",
          "traceback": [
            "\u001b[0;31m---------------------------------------------------------------------------\u001b[0m",
            "\u001b[0;31mNameError\u001b[0m                                 Traceback (most recent call last)",
            "Cell \u001b[0;32mIn[22], line 1\u001b[0m\n\u001b[0;32m----> 1\u001b[0m \u001b[38;5;28mprint\u001b[39m(\u001b[38;5;124m\"\u001b[39m\u001b[38;5;124mBest score from grid search:\u001b[39m\u001b[38;5;124m\"\u001b[39m, \u001b[43mgrid_search\u001b[49m\u001b[38;5;241m.\u001b[39mbest_score_)\n",
            "\u001b[0;31mNameError\u001b[0m: name 'grid_search' is not defined"
          ],
          "output_type": "error"
        }
      ]
    },
    {
      "cell_type": "code",
      "source": "print(\"Best params from grid search:\", grid_search.best_params_)",
      "metadata": {
        "trusted": true
      },
      "execution_count": 23,
      "outputs": [
        {
          "ename": "<class 'NameError'>",
          "evalue": "name 'grid_search' is not defined",
          "traceback": [
            "\u001b[0;31m---------------------------------------------------------------------------\u001b[0m",
            "\u001b[0;31mNameError\u001b[0m                                 Traceback (most recent call last)",
            "Cell \u001b[0;32mIn[23], line 1\u001b[0m\n\u001b[0;32m----> 1\u001b[0m \u001b[38;5;28mprint\u001b[39m(\u001b[38;5;124m\"\u001b[39m\u001b[38;5;124mBest params from grid search:\u001b[39m\u001b[38;5;124m\"\u001b[39m, \u001b[43mgrid_search\u001b[49m\u001b[38;5;241m.\u001b[39mbest_params_)\n",
            "\u001b[0;31mNameError\u001b[0m: name 'grid_search' is not defined"
          ],
          "output_type": "error"
        }
      ]
    },
    {
      "cell_type": "markdown",
      "source": "**Scores with optimised hyperparameter**",
      "metadata": {}
    },
    {
      "cell_type": "code",
      "source": "scoring = [\"accuracy\", \"recall\", \"precision\", \"f1\"]\npipe_linear2 = make_pipeline(preprocessor, LogisticRegression(C=0.1, max_iter = 225)) #anyting lower causes warning\nscores_linear2 = cross_validate(pipe_linear2, X_train, y_train, scoring=scoring)\npd.concat(\n    [pd.DataFrame(scores_linear2).mean(), pd.DataFrame(scores_linear2).std()],\n    axis=1, keys=[\"validation scores\", \"stdev\"]\n)\n",
      "metadata": {
        "trusted": true
      },
      "execution_count": 24,
      "outputs": [
        {
          "ename": "<class 'NameError'>",
          "evalue": "name 'make_pipeline' is not defined",
          "traceback": [
            "\u001b[0;31m---------------------------------------------------------------------------\u001b[0m",
            "\u001b[0;31mNameError\u001b[0m                                 Traceback (most recent call last)",
            "Cell \u001b[0;32mIn[24], line 2\u001b[0m\n\u001b[1;32m      1\u001b[0m scoring \u001b[38;5;241m=\u001b[39m [\u001b[38;5;124m\"\u001b[39m\u001b[38;5;124maccuracy\u001b[39m\u001b[38;5;124m\"\u001b[39m, \u001b[38;5;124m\"\u001b[39m\u001b[38;5;124mrecall\u001b[39m\u001b[38;5;124m\"\u001b[39m, \u001b[38;5;124m\"\u001b[39m\u001b[38;5;124mprecision\u001b[39m\u001b[38;5;124m\"\u001b[39m, \u001b[38;5;124m\"\u001b[39m\u001b[38;5;124mf1\u001b[39m\u001b[38;5;124m\"\u001b[39m]\n\u001b[0;32m----> 2\u001b[0m pipe_linear2 \u001b[38;5;241m=\u001b[39m \u001b[43mmake_pipeline\u001b[49m(preprocessor, LogisticRegression(C\u001b[38;5;241m=\u001b[39m\u001b[38;5;241m0.1\u001b[39m, max_iter \u001b[38;5;241m=\u001b[39m \u001b[38;5;241m225\u001b[39m)) \u001b[38;5;66;03m#anyting lower causes warning\u001b[39;00m\n\u001b[1;32m      3\u001b[0m scores_linear2 \u001b[38;5;241m=\u001b[39m cross_validate(pipe_linear2, X_train, y_train, scoring\u001b[38;5;241m=\u001b[39mscoring)\n\u001b[1;32m      4\u001b[0m pd\u001b[38;5;241m.\u001b[39mconcat(\n\u001b[1;32m      5\u001b[0m     [pd\u001b[38;5;241m.\u001b[39mDataFrame(scores_linear2)\u001b[38;5;241m.\u001b[39mmean(), pd\u001b[38;5;241m.\u001b[39mDataFrame(scores_linear2)\u001b[38;5;241m.\u001b[39mstd()],\n\u001b[1;32m      6\u001b[0m     axis\u001b[38;5;241m=\u001b[39m\u001b[38;5;241m1\u001b[39m, keys\u001b[38;5;241m=\u001b[39m[\u001b[38;5;124m\"\u001b[39m\u001b[38;5;124mvalidation scores\u001b[39m\u001b[38;5;124m\"\u001b[39m, \u001b[38;5;124m\"\u001b[39m\u001b[38;5;124mstdev\u001b[39m\u001b[38;5;124m\"\u001b[39m]\n\u001b[1;32m      7\u001b[0m )\n",
            "\u001b[0;31mNameError\u001b[0m: name 'make_pipeline' is not defined"
          ],
          "output_type": "error"
        }
      ]
    },
    {
      "cell_type": "markdown",
      "source": "We can also look at the ROC and PR curves:",
      "metadata": {}
    },
    {
      "cell_type": "code",
      "source": "#Code below based on lecture 9\nfrom sklearn.metrics import accuracy_score, f1_score, precision_score, recall_score\nfrom sklearn.metrics import precision_recall_curve\n\nprecision, recall, thresholds = precision_recall_curve(\n    y_test, grid_search.predict_proba(X_test)[:, 1]\n)\nplt.plot(precision, recall, label=\"logistic regression: PR curve\")\nplt.xlabel(\"Precision\")\nplt.ylabel(\"Recall\")\nplt.plot(\n    precision_score(y_test, grid_search.predict(X_test)),\n    recall_score(y_test, grid_search.predict(X_test)),\n    \"or\",\n    markersize=10,\n    label=\"threshold 0.5\",\n)\nplt.legend(loc=\"best\");",
      "metadata": {
        "trusted": true
      },
      "execution_count": 25,
      "outputs": [
        {
          "ename": "<class 'NameError'>",
          "evalue": "name 'y_test' is not defined",
          "traceback": [
            "\u001b[0;31m---------------------------------------------------------------------------\u001b[0m",
            "\u001b[0;31mNameError\u001b[0m                                 Traceback (most recent call last)",
            "Cell \u001b[0;32mIn[25], line 6\u001b[0m\n\u001b[1;32m      2\u001b[0m \u001b[38;5;28;01mfrom\u001b[39;00m \u001b[38;5;21;01msklearn\u001b[39;00m\u001b[38;5;21;01m.\u001b[39;00m\u001b[38;5;21;01mmetrics\u001b[39;00m \u001b[38;5;28;01mimport\u001b[39;00m accuracy_score, f1_score, precision_score, recall_score\n\u001b[1;32m      3\u001b[0m \u001b[38;5;28;01mfrom\u001b[39;00m \u001b[38;5;21;01msklearn\u001b[39;00m\u001b[38;5;21;01m.\u001b[39;00m\u001b[38;5;21;01mmetrics\u001b[39;00m \u001b[38;5;28;01mimport\u001b[39;00m precision_recall_curve\n\u001b[1;32m      5\u001b[0m precision, recall, thresholds \u001b[38;5;241m=\u001b[39m precision_recall_curve(\n\u001b[0;32m----> 6\u001b[0m     \u001b[43my_test\u001b[49m, grid_search\u001b[38;5;241m.\u001b[39mpredict_proba(X_test)[:, \u001b[38;5;241m1\u001b[39m]\n\u001b[1;32m      7\u001b[0m )\n\u001b[1;32m      8\u001b[0m plt\u001b[38;5;241m.\u001b[39mplot(precision, recall, label\u001b[38;5;241m=\u001b[39m\u001b[38;5;124m\"\u001b[39m\u001b[38;5;124mlogistic regression: PR curve\u001b[39m\u001b[38;5;124m\"\u001b[39m)\n\u001b[1;32m      9\u001b[0m plt\u001b[38;5;241m.\u001b[39mxlabel(\u001b[38;5;124m\"\u001b[39m\u001b[38;5;124mPrecision\u001b[39m\u001b[38;5;124m\"\u001b[39m)\n",
            "\u001b[0;31mNameError\u001b[0m: name 'y_test' is not defined"
          ],
          "output_type": "error"
        }
      ]
    },
    {
      "cell_type": "code",
      "source": "from sklearn.metrics import average_precision_score\n\nap_lr = average_precision_score(y_test, grid_search.predict_proba(X_test)[:, 1])\nprint(\"Average precision of logistic regression: {:.3f}\".format(ap_lr))",
      "metadata": {
        "trusted": true
      },
      "execution_count": 26,
      "outputs": [
        {
          "ename": "<class 'NameError'>",
          "evalue": "name 'y_test' is not defined",
          "traceback": [
            "\u001b[0;31m---------------------------------------------------------------------------\u001b[0m",
            "\u001b[0;31mNameError\u001b[0m                                 Traceback (most recent call last)",
            "Cell \u001b[0;32mIn[26], line 3\u001b[0m\n\u001b[1;32m      1\u001b[0m \u001b[38;5;28;01mfrom\u001b[39;00m \u001b[38;5;21;01msklearn\u001b[39;00m\u001b[38;5;21;01m.\u001b[39;00m\u001b[38;5;21;01mmetrics\u001b[39;00m \u001b[38;5;28;01mimport\u001b[39;00m average_precision_score\n\u001b[0;32m----> 3\u001b[0m ap_lr \u001b[38;5;241m=\u001b[39m average_precision_score(\u001b[43my_test\u001b[49m, grid_search\u001b[38;5;241m.\u001b[39mpredict_proba(X_test)[:, \u001b[38;5;241m1\u001b[39m])\n\u001b[1;32m      4\u001b[0m \u001b[38;5;28mprint\u001b[39m(\u001b[38;5;124m\"\u001b[39m\u001b[38;5;124mAverage precision of logistic regression: \u001b[39m\u001b[38;5;132;01m{:.3f}\u001b[39;00m\u001b[38;5;124m\"\u001b[39m\u001b[38;5;241m.\u001b[39mformat(ap_lr))\n",
            "\u001b[0;31mNameError\u001b[0m: name 'y_test' is not defined"
          ],
          "output_type": "error"
        }
      ]
    },
    {
      "cell_type": "code",
      "source": "#TODO check it is ok to use test data here? Or do I need a separate validation set?\nfrom sklearn.metrics import roc_curve\n\nfpr, tpr, thresholds = roc_curve(y_test, grid_search.predict_proba(X_test)[:, 1])\nplt.plot(fpr, tpr, label=\"ROC Curve\")\nplt.xlabel(\"FPR\")\nplt.ylabel(\"TPR (recall)\")\n\ndefault_threshold = np.argmin(np.abs(thresholds - 0.5))\n\nplt.plot(\n    fpr[default_threshold],\n    tpr[default_threshold],\n    \"or\",\n    markersize=10,\n    label=\"threshold 0.5\",\n)\nplt.legend(loc=\"best\");",
      "metadata": {
        "trusted": true
      },
      "execution_count": 27,
      "outputs": [
        {
          "ename": "<class 'NameError'>",
          "evalue": "name 'y_test' is not defined",
          "traceback": [
            "\u001b[0;31m---------------------------------------------------------------------------\u001b[0m",
            "\u001b[0;31mNameError\u001b[0m                                 Traceback (most recent call last)",
            "Cell \u001b[0;32mIn[27], line 4\u001b[0m\n\u001b[1;32m      1\u001b[0m \u001b[38;5;66;03m#TODO check it is ok to use test data here? Or do I need a separate validation set?\u001b[39;00m\n\u001b[1;32m      2\u001b[0m \u001b[38;5;28;01mfrom\u001b[39;00m \u001b[38;5;21;01msklearn\u001b[39;00m\u001b[38;5;21;01m.\u001b[39;00m\u001b[38;5;21;01mmetrics\u001b[39;00m \u001b[38;5;28;01mimport\u001b[39;00m roc_curve\n\u001b[0;32m----> 4\u001b[0m fpr, tpr, thresholds \u001b[38;5;241m=\u001b[39m roc_curve(\u001b[43my_test\u001b[49m, grid_search\u001b[38;5;241m.\u001b[39mpredict_proba(X_test)[:, \u001b[38;5;241m1\u001b[39m])\n\u001b[1;32m      5\u001b[0m plt\u001b[38;5;241m.\u001b[39mplot(fpr, tpr, label\u001b[38;5;241m=\u001b[39m\u001b[38;5;124m\"\u001b[39m\u001b[38;5;124mROC Curve\u001b[39m\u001b[38;5;124m\"\u001b[39m)\n\u001b[1;32m      6\u001b[0m plt\u001b[38;5;241m.\u001b[39mxlabel(\u001b[38;5;124m\"\u001b[39m\u001b[38;5;124mFPR\u001b[39m\u001b[38;5;124m\"\u001b[39m)\n",
            "\u001b[0;31mNameError\u001b[0m: name 'y_test' is not defined"
          ],
          "output_type": "error"
        }
      ]
    },
    {
      "cell_type": "code",
      "source": "from sklearn.metrics import roc_auc_score\n\nroc_lr = roc_auc_score(y_test, grid_search.predict_proba(X_test)[:, 1])\nprint(\"AUC for logistic regression: {:.3f}\".format(roc_lr))",
      "metadata": {
        "trusted": true
      },
      "execution_count": 28,
      "outputs": [
        {
          "ename": "<class 'NameError'>",
          "evalue": "name 'y_test' is not defined",
          "traceback": [
            "\u001b[0;31m---------------------------------------------------------------------------\u001b[0m",
            "\u001b[0;31mNameError\u001b[0m                                 Traceback (most recent call last)",
            "Cell \u001b[0;32mIn[28], line 3\u001b[0m\n\u001b[1;32m      1\u001b[0m \u001b[38;5;28;01mfrom\u001b[39;00m \u001b[38;5;21;01msklearn\u001b[39;00m\u001b[38;5;21;01m.\u001b[39;00m\u001b[38;5;21;01mmetrics\u001b[39;00m \u001b[38;5;28;01mimport\u001b[39;00m roc_auc_score\n\u001b[0;32m----> 3\u001b[0m roc_lr \u001b[38;5;241m=\u001b[39m roc_auc_score(\u001b[43my_test\u001b[49m, grid_search\u001b[38;5;241m.\u001b[39mpredict_proba(X_test)[:, \u001b[38;5;241m1\u001b[39m])\n\u001b[1;32m      4\u001b[0m \u001b[38;5;28mprint\u001b[39m(\u001b[38;5;124m\"\u001b[39m\u001b[38;5;124mAUC for logistic regression: \u001b[39m\u001b[38;5;132;01m{:.3f}\u001b[39;00m\u001b[38;5;124m\"\u001b[39m\u001b[38;5;241m.\u001b[39mformat(roc_lr))\n",
            "\u001b[0;31mNameError\u001b[0m: name 'y_test' is not defined"
          ],
          "output_type": "error"
        }
      ]
    },
    {
      "cell_type": "markdown",
      "source": "**Summary**\n\nThe accuracy is fairly high, but the recall is not vey good, and is worse than the precision. \nThe PR curve shows that having a high recall would require a fairly low precision. The ROC curve shows that, similarly, high recall would lead to a fairly high false positive rate. \nThese metrics mean, in general, this model may not be suitable for this application. However if the client does not mind high false positive rates/low precision, it could be possible to set the threshold such that there is high recall.\n\nSome ways to improve the model might be to weight the classes to help with class imbalance or to change the penalty type.",
      "metadata": {}
    },
    {
      "cell_type": "markdown",
      "source": "<br><br>",
      "metadata": {}
    },
    {
      "cell_type": "markdown",
      "source": "## 8. Different classifiers <a name=\"8\"></a>\n<hr>\nrubric={points:15}\n\n**Your tasks:**\n1. Try at least 3 other models aside from logistic regression. At least one of these models should be a tree-based ensemble model (e.g., lgbm, random forest, xgboost). \n2. Summarize your results. Can you beat logistic regression? ",
      "metadata": {}
    },
    {
      "cell_type": "code",
      "source": "import xgboost as xgb",
      "metadata": {
        "trusted": true
      },
      "execution_count": 29,
      "outputs": []
    },
    {
      "cell_type": "markdown",
      "source": "**XGBoost**\n\nTypically has better scores than a random forest, without being too slow. ",
      "metadata": {}
    },
    {
      "cell_type": "code",
      "source": "scoring = [\"accuracy\", \"recall\", \"precision\", \"f1\"]\npipe_xgb1 = make_pipeline(preprocessor, XGBClassifier()) \nscores_xgb1 = cross_validate(pipe_xgb2, X_train, y_train, scoring=scoring)\npd.concat(\n    [pd.DataFrame(scores_xgb1).mean(), pd.DataFrame(scores_xgb1).std()],\n    axis=1, keys=[\"validation scores\", \"stdev\"]\n)",
      "metadata": {
        "trusted": true
      },
      "execution_count": 30,
      "outputs": [
        {
          "ename": "<class 'NameError'>",
          "evalue": "name 'make_pipeline' is not defined",
          "traceback": [
            "\u001b[0;31m---------------------------------------------------------------------------\u001b[0m",
            "\u001b[0;31mNameError\u001b[0m                                 Traceback (most recent call last)",
            "Cell \u001b[0;32mIn[30], line 2\u001b[0m\n\u001b[1;32m      1\u001b[0m scoring \u001b[38;5;241m=\u001b[39m [\u001b[38;5;124m\"\u001b[39m\u001b[38;5;124maccuracy\u001b[39m\u001b[38;5;124m\"\u001b[39m, \u001b[38;5;124m\"\u001b[39m\u001b[38;5;124mrecall\u001b[39m\u001b[38;5;124m\"\u001b[39m, \u001b[38;5;124m\"\u001b[39m\u001b[38;5;124mprecision\u001b[39m\u001b[38;5;124m\"\u001b[39m, \u001b[38;5;124m\"\u001b[39m\u001b[38;5;124mf1\u001b[39m\u001b[38;5;124m\"\u001b[39m]\n\u001b[0;32m----> 2\u001b[0m pipe_xgb1 \u001b[38;5;241m=\u001b[39m \u001b[43mmake_pipeline\u001b[49m(preprocessor, XGBClassifier()) \n\u001b[1;32m      3\u001b[0m scores_xgb1 \u001b[38;5;241m=\u001b[39m cross_validate(pipe_xgb2, X_train, y_train, scoring\u001b[38;5;241m=\u001b[39mscoring)\n\u001b[1;32m      4\u001b[0m pd\u001b[38;5;241m.\u001b[39mconcat(\n\u001b[1;32m      5\u001b[0m     [pd\u001b[38;5;241m.\u001b[39mDataFrame(scores_xgb1)\u001b[38;5;241m.\u001b[39mmean(), pd\u001b[38;5;241m.\u001b[39mDataFrame(scores_xgb1)\u001b[38;5;241m.\u001b[39mstd()],\n\u001b[1;32m      6\u001b[0m     axis\u001b[38;5;241m=\u001b[39m\u001b[38;5;241m1\u001b[39m, keys\u001b[38;5;241m=\u001b[39m[\u001b[38;5;124m\"\u001b[39m\u001b[38;5;124mvalidation scores\u001b[39m\u001b[38;5;124m\"\u001b[39m, \u001b[38;5;124m\"\u001b[39m\u001b[38;5;124mstdev\u001b[39m\u001b[38;5;124m\"\u001b[39m]\n\u001b[1;32m      7\u001b[0m )\n",
            "\u001b[0;31mNameError\u001b[0m: name 'make_pipeline' is not defined"
          ],
          "output_type": "error"
        }
      ]
    },
    {
      "cell_type": "code",
      "source": "#SVM\nfrom sklearn.svm import SVC\nscoring = [\"accuracy\", \"recall\", \"precision\", \"f1\"]\npipe_svc = make_pipeline(preprocessor, SVC()) \nscores_svc = cross_validate(pipe_svc, X_train, y_train, scoring=scoring)\npd.concat(\n    [pd.DataFrame(scores_svc).mean(), pd.DataFrame(scores_svc).std()],\n    axis=1, keys=[\"validation scores\", \"stdev\"]\n)",
      "metadata": {
        "trusted": true
      },
      "execution_count": 31,
      "outputs": [
        {
          "ename": "<class 'NameError'>",
          "evalue": "name 'make_pipeline' is not defined",
          "traceback": [
            "\u001b[0;31m---------------------------------------------------------------------------\u001b[0m",
            "\u001b[0;31mNameError\u001b[0m                                 Traceback (most recent call last)",
            "Cell \u001b[0;32mIn[31], line 4\u001b[0m\n\u001b[1;32m      2\u001b[0m \u001b[38;5;28;01mfrom\u001b[39;00m \u001b[38;5;21;01msklearn\u001b[39;00m\u001b[38;5;21;01m.\u001b[39;00m\u001b[38;5;21;01msvm\u001b[39;00m \u001b[38;5;28;01mimport\u001b[39;00m SVC\n\u001b[1;32m      3\u001b[0m scoring \u001b[38;5;241m=\u001b[39m [\u001b[38;5;124m\"\u001b[39m\u001b[38;5;124maccuracy\u001b[39m\u001b[38;5;124m\"\u001b[39m, \u001b[38;5;124m\"\u001b[39m\u001b[38;5;124mrecall\u001b[39m\u001b[38;5;124m\"\u001b[39m, \u001b[38;5;124m\"\u001b[39m\u001b[38;5;124mprecision\u001b[39m\u001b[38;5;124m\"\u001b[39m, \u001b[38;5;124m\"\u001b[39m\u001b[38;5;124mf1\u001b[39m\u001b[38;5;124m\"\u001b[39m]\n\u001b[0;32m----> 4\u001b[0m pipe_svc \u001b[38;5;241m=\u001b[39m \u001b[43mmake_pipeline\u001b[49m(preprocessor, SVC()) \n\u001b[1;32m      5\u001b[0m scores_svc \u001b[38;5;241m=\u001b[39m cross_validate(pipe_svc, X_train, y_train, scoring\u001b[38;5;241m=\u001b[39mscoring)\n\u001b[1;32m      6\u001b[0m pd\u001b[38;5;241m.\u001b[39mconcat(\n\u001b[1;32m      7\u001b[0m     [pd\u001b[38;5;241m.\u001b[39mDataFrame(scores_svc)\u001b[38;5;241m.\u001b[39mmean(), pd\u001b[38;5;241m.\u001b[39mDataFrame(scores_svc)\u001b[38;5;241m.\u001b[39mstd()],\n\u001b[1;32m      8\u001b[0m     axis\u001b[38;5;241m=\u001b[39m\u001b[38;5;241m1\u001b[39m, keys\u001b[38;5;241m=\u001b[39m[\u001b[38;5;124m\"\u001b[39m\u001b[38;5;124mvalidation scores\u001b[39m\u001b[38;5;124m\"\u001b[39m, \u001b[38;5;124m\"\u001b[39m\u001b[38;5;124mstdev\u001b[39m\u001b[38;5;124m\"\u001b[39m]\n\u001b[1;32m      9\u001b[0m )\n",
            "\u001b[0;31mNameError\u001b[0m: name 'make_pipeline' is not defined"
          ],
          "output_type": "error"
        }
      ]
    },
    {
      "cell_type": "code",
      "source": "",
      "metadata": {},
      "execution_count": null,
      "outputs": []
    },
    {
      "cell_type": "code",
      "source": "#Get model w/ best recall and look at the ROC and PR curves",
      "metadata": {
        "trusted": true
      },
      "execution_count": 32,
      "outputs": []
    },
    {
      "cell_type": "markdown",
      "source": "<br><br>",
      "metadata": {}
    },
    {
      "cell_type": "markdown",
      "source": "## (Optional) 9. Feature selection <a name=\"9\"></a>\n<hr>\nrubric={points:1}\n\n**Your tasks:**\n\nMake some attempts to select relevant features. You may try `RFECV` or forward selection. Do the results improve with feature selection? Summarize your results. If you see improvements in the results, keep feature selection in your pipeline. If not, you may abandon it in the next exercises. ",
      "metadata": {}
    },
    {
      "cell_type": "code",
      "source": "#consider colinearities from feat. engineering",
      "metadata": {
        "trusted": true
      },
      "execution_count": 33,
      "outputs": []
    },
    {
      "cell_type": "code",
      "source": "#based on lecture 13",
      "metadata": {
        "trusted": true
      },
      "execution_count": 34,
      "outputs": []
    },
    {
      "cell_type": "code",
      "source": "from sklearn.feature_selection import RFE\n\n# create ranking of features\nrfe = RFE(LogisticRegression(max_iter=1000), n_features_to_select=5)\n\nfrom sklearn.feature_selection import RFECV\npipe_rfecv = make_pipeline(\n    preprocessor,\n    RFECV(LogisticRegression(max_iter=2000, C=0.1)),\n    XGBClassifier(random_state=123),\n)\n\npd.DataFrame(cross_validate(pipe_9, X_train, y_train_FE, return_train_score=True, scoring=\"recall\")).mean()",
      "metadata": {
        "trusted": true
      },
      "execution_count": 35,
      "outputs": [
        {
          "ename": "<class 'NameError'>",
          "evalue": "name 'LogisticRegression' is not defined",
          "traceback": [
            "\u001b[0;31m---------------------------------------------------------------------------\u001b[0m",
            "\u001b[0;31mNameError\u001b[0m                                 Traceback (most recent call last)",
            "Cell \u001b[0;32mIn[35], line 4\u001b[0m\n\u001b[1;32m      1\u001b[0m \u001b[38;5;28;01mfrom\u001b[39;00m \u001b[38;5;21;01msklearn\u001b[39;00m\u001b[38;5;21;01m.\u001b[39;00m\u001b[38;5;21;01mfeature_selection\u001b[39;00m \u001b[38;5;28;01mimport\u001b[39;00m RFE\n\u001b[1;32m      3\u001b[0m \u001b[38;5;66;03m# create ranking of features\u001b[39;00m\n\u001b[0;32m----> 4\u001b[0m rfe \u001b[38;5;241m=\u001b[39m RFE(\u001b[43mLogisticRegression\u001b[49m(max_iter\u001b[38;5;241m=\u001b[39m\u001b[38;5;241m1000\u001b[39m), n_features_to_select\u001b[38;5;241m=\u001b[39m\u001b[38;5;241m5\u001b[39m)\n\u001b[1;32m      6\u001b[0m \u001b[38;5;28;01mfrom\u001b[39;00m \u001b[38;5;21;01msklearn\u001b[39;00m\u001b[38;5;21;01m.\u001b[39;00m\u001b[38;5;21;01mfeature_selection\u001b[39;00m \u001b[38;5;28;01mimport\u001b[39;00m RFECV\n\u001b[1;32m      7\u001b[0m pipe_rfecv \u001b[38;5;241m=\u001b[39m make_pipeline(\n\u001b[1;32m      8\u001b[0m     preprocessor,\n\u001b[1;32m      9\u001b[0m     RFECV(LogisticRegression(max_iter\u001b[38;5;241m=\u001b[39m\u001b[38;5;241m2000\u001b[39m, C\u001b[38;5;241m=\u001b[39m\u001b[38;5;241m0.1\u001b[39m)),\n\u001b[1;32m     10\u001b[0m     XGBClassifier(random_state\u001b[38;5;241m=\u001b[39m\u001b[38;5;241m123\u001b[39m),\n\u001b[1;32m     11\u001b[0m )\n",
            "\u001b[0;31mNameError\u001b[0m: name 'LogisticRegression' is not defined"
          ],
          "output_type": "error"
        }
      ]
    },
    {
      "cell_type": "code",
      "source": "print(rfe.ranking_)",
      "metadata": {
        "trusted": true
      },
      "execution_count": 36,
      "outputs": [
        {
          "ename": "<class 'NameError'>",
          "evalue": "name 'rfe' is not defined",
          "traceback": [
            "\u001b[0;31m---------------------------------------------------------------------------\u001b[0m",
            "\u001b[0;31mNameError\u001b[0m                                 Traceback (most recent call last)",
            "Cell \u001b[0;32mIn[36], line 1\u001b[0m\n\u001b[0;32m----> 1\u001b[0m \u001b[38;5;28mprint\u001b[39m(\u001b[43mrfe\u001b[49m\u001b[38;5;241m.\u001b[39mranking_)\n",
            "\u001b[0;31mNameError\u001b[0m: name 'rfe' is not defined"
          ],
          "output_type": "error"
        }
      ]
    },
    {
      "cell_type": "code",
      "source": "len(X_train_scaled.columns)\n#TODO ADD column names",
      "metadata": {
        "trusted": true
      },
      "execution_count": 37,
      "outputs": [
        {
          "ename": "<class 'NameError'>",
          "evalue": "name 'X_train_scaled' is not defined",
          "traceback": [
            "\u001b[0;31m---------------------------------------------------------------------------\u001b[0m",
            "\u001b[0;31mNameError\u001b[0m                                 Traceback (most recent call last)",
            "Cell \u001b[0;32mIn[37], line 1\u001b[0m\n\u001b[0;32m----> 1\u001b[0m \u001b[38;5;28mlen\u001b[39m(\u001b[43mX_train_scaled\u001b[49m\u001b[38;5;241m.\u001b[39mcolumns)\n\u001b[1;32m      2\u001b[0m \u001b[38;5;66;03m#TODO ADD column names\u001b[39;00m\n",
            "\u001b[0;31mNameError\u001b[0m: name 'X_train_scaled' is not defined"
          ],
          "output_type": "error"
        }
      ]
    },
    {
      "cell_type": "code",
      "source": "pd.DataFrame({\n    'feature': list(X_train.columns[0:4]),\n    'rank': rfe.ranking_\n})",
      "metadata": {
        "trusted": true
      },
      "execution_count": 38,
      "outputs": [
        {
          "ename": "<class 'NameError'>",
          "evalue": "name 'X_train' is not defined",
          "traceback": [
            "\u001b[0;31m---------------------------------------------------------------------------\u001b[0m",
            "\u001b[0;31mNameError\u001b[0m                                 Traceback (most recent call last)",
            "Cell \u001b[0;32mIn[38], line 2\u001b[0m\n\u001b[1;32m      1\u001b[0m pd\u001b[38;5;241m.\u001b[39mDataFrame({\n\u001b[0;32m----> 2\u001b[0m     \u001b[38;5;124m'\u001b[39m\u001b[38;5;124mfeature\u001b[39m\u001b[38;5;124m'\u001b[39m: \u001b[38;5;28mlist\u001b[39m(\u001b[43mX_train\u001b[49m\u001b[38;5;241m.\u001b[39mcolumns[\u001b[38;5;241m0\u001b[39m:\u001b[38;5;241m4\u001b[39m]),\n\u001b[1;32m      3\u001b[0m     \u001b[38;5;124m'\u001b[39m\u001b[38;5;124mrank\u001b[39m\u001b[38;5;124m'\u001b[39m: rfe\u001b[38;5;241m.\u001b[39mranking_\n\u001b[1;32m      4\u001b[0m })\n",
            "\u001b[0;31mNameError\u001b[0m: name 'X_train' is not defined"
          ],
          "output_type": "error"
        }
      ]
    },
    {
      "cell_type": "markdown",
      "source": "<br><br>",
      "metadata": {}
    },
    {
      "cell_type": "markdown",
      "source": "## 10. Hyperparameter optimization <a name=\"10\"></a>\n<hr>\nrubric={points:15}\n\n**Your tasks:**\n\nMake some attempts to optimize hyperparameters for the models you've tried and summarize your results. You may pick one of the best performing models from the previous exercise and tune hyperparameters only for that model. You may use `sklearn`'s methods for hyperparameter optimization or fancier Bayesian optimization methods. \n  - [GridSearchCV](http://scikit-learn.org/stable/modules/generated/sklearn.model_selection.GridSearchCV.html)   \n  - [RandomizedSearchCV](http://scikit-learn.org/stable/modules/generated/sklearn.model_selection.RandomizedSearchCV.html)\n  - [scikit-optimize](https://github.com/scikit-optimize/scikit-optimize)",
      "metadata": {}
    },
    {
      "cell_type": "code",
      "source": "#based on lecture 11\nfrom xgboost import XGBClassifier\n\npipe_xgb = make_pipeline(\n    preprocessor, XGBClassifier(random_state=123, eval_metric=\"logloss\", verbosity=0)\n)",
      "metadata": {
        "trusted": true
      },
      "execution_count": 39,
      "outputs": [
        {
          "ename": "<class 'NameError'>",
          "evalue": "name 'make_pipeline' is not defined",
          "traceback": [
            "\u001b[0;31m---------------------------------------------------------------------------\u001b[0m",
            "\u001b[0;31mNameError\u001b[0m                                 Traceback (most recent call last)",
            "Cell \u001b[0;32mIn[39], line 4\u001b[0m\n\u001b[1;32m      1\u001b[0m \u001b[38;5;66;03m#based on lecture 11\u001b[39;00m\n\u001b[1;32m      2\u001b[0m \u001b[38;5;28;01mfrom\u001b[39;00m \u001b[38;5;21;01mxgboost\u001b[39;00m \u001b[38;5;28;01mimport\u001b[39;00m XGBClassifier\n\u001b[0;32m----> 4\u001b[0m pipe_xgb \u001b[38;5;241m=\u001b[39m \u001b[43mmake_pipeline\u001b[49m(\n\u001b[1;32m      5\u001b[0m     preprocessor, XGBClassifier(random_state\u001b[38;5;241m=\u001b[39m\u001b[38;5;241m123\u001b[39m, eval_metric\u001b[38;5;241m=\u001b[39m\u001b[38;5;124m\"\u001b[39m\u001b[38;5;124mlogloss\u001b[39m\u001b[38;5;124m\"\u001b[39m, verbosity\u001b[38;5;241m=\u001b[39m\u001b[38;5;241m0\u001b[39m)\n\u001b[1;32m      6\u001b[0m )\n",
            "\u001b[0;31mNameError\u001b[0m: name 'make_pipeline' is not defined"
          ],
          "output_type": "error"
        }
      ]
    },
    {
      "cell_type": "code",
      "source": "param_grid_xgb = {\n    \"xgbclassifier__n_estimators\": [1.0, 10, 100, 1000, 10000],\n    \"xgbclassifier__learning_rate\":[0.001, 0.01, 0.1, 1.0, 10, 100]\n}\n\nrandom_search_xgb = RandomizedSearchCV(\n    pipe_xgb, param_distributions=param_grid_xgb, n_jobs=-1, n_iter=10, cv=5, random_state=123\n)",
      "metadata": {
        "trusted": true
      },
      "execution_count": 40,
      "outputs": [
        {
          "ename": "<class 'NameError'>",
          "evalue": "name 'RandomizedSearchCV' is not defined",
          "traceback": [
            "\u001b[0;31m---------------------------------------------------------------------------\u001b[0m",
            "\u001b[0;31mNameError\u001b[0m                                 Traceback (most recent call last)",
            "Cell \u001b[0;32mIn[40], line 6\u001b[0m\n\u001b[1;32m      1\u001b[0m param_grid_xgb \u001b[38;5;241m=\u001b[39m {\n\u001b[1;32m      2\u001b[0m     \u001b[38;5;124m\"\u001b[39m\u001b[38;5;124mxgbclassifier__n_estimators\u001b[39m\u001b[38;5;124m\"\u001b[39m: [\u001b[38;5;241m1.0\u001b[39m, \u001b[38;5;241m10\u001b[39m, \u001b[38;5;241m100\u001b[39m, \u001b[38;5;241m1000\u001b[39m, \u001b[38;5;241m10000\u001b[39m],\n\u001b[1;32m      3\u001b[0m     \u001b[38;5;124m\"\u001b[39m\u001b[38;5;124mxgbclassifier__learning_rate\u001b[39m\u001b[38;5;124m\"\u001b[39m:[\u001b[38;5;241m0.001\u001b[39m, \u001b[38;5;241m0.01\u001b[39m, \u001b[38;5;241m0.1\u001b[39m, \u001b[38;5;241m1.0\u001b[39m, \u001b[38;5;241m10\u001b[39m, \u001b[38;5;241m100\u001b[39m]\n\u001b[1;32m      4\u001b[0m }\n\u001b[0;32m----> 6\u001b[0m random_search_xgb \u001b[38;5;241m=\u001b[39m \u001b[43mRandomizedSearchCV\u001b[49m(\n\u001b[1;32m      7\u001b[0m     pipe_xgb, param_distributions\u001b[38;5;241m=\u001b[39mparam_grid_xgb, n_jobs\u001b[38;5;241m=\u001b[39m\u001b[38;5;241m-\u001b[39m\u001b[38;5;241m1\u001b[39m, n_iter\u001b[38;5;241m=\u001b[39m\u001b[38;5;241m10\u001b[39m, cv\u001b[38;5;241m=\u001b[39m\u001b[38;5;241m5\u001b[39m, random_state\u001b[38;5;241m=\u001b[39m\u001b[38;5;241m123\u001b[39m\n\u001b[1;32m      8\u001b[0m )\n",
            "\u001b[0;31mNameError\u001b[0m: name 'RandomizedSearchCV' is not defined"
          ],
          "output_type": "error"
        }
      ]
    },
    {
      "cell_type": "code",
      "source": "random_search_xgb.fit(X_train, y_train)\nprint(\"Best params from grid search:\", random_search_xgb.best_params_)",
      "metadata": {
        "trusted": true
      },
      "execution_count": 41,
      "outputs": [
        {
          "ename": "<class 'NameError'>",
          "evalue": "name 'random_search_xgb' is not defined",
          "traceback": [
            "\u001b[0;31m---------------------------------------------------------------------------\u001b[0m",
            "\u001b[0;31mNameError\u001b[0m                                 Traceback (most recent call last)",
            "Cell \u001b[0;32mIn[41], line 1\u001b[0m\n\u001b[0;32m----> 1\u001b[0m \u001b[43mrandom_search_xgb\u001b[49m\u001b[38;5;241m.\u001b[39mfit(X_train, y_train)\n\u001b[1;32m      2\u001b[0m \u001b[38;5;28mprint\u001b[39m(\u001b[38;5;124m\"\u001b[39m\u001b[38;5;124mBest params from grid search:\u001b[39m\u001b[38;5;124m\"\u001b[39m, random_search_xgb\u001b[38;5;241m.\u001b[39mbest_params_)\n",
            "\u001b[0;31mNameError\u001b[0m: name 'random_search_xgb' is not defined"
          ],
          "output_type": "error"
        }
      ]
    },
    {
      "cell_type": "code",
      "source": "scoring = [\"accuracy\", \"recall\", \"precision\", \"f1\"]\npipe_xgb2 = make_pipeline(preprocessor, XGBClassifier(n_estimators=100, learning_rate = 0.1)) \nscores_xgb2 = cross_validate(pipe_xgb2, X_train, y_train, scoring=scoring)\npd.concat(\n    [pd.DataFrame(scores_xgb2).mean(), pd.DataFrame(scores_xgb2).std()],\n    axis=1, keys=[\"validation scores\", \"stdev\"]\n)",
      "metadata": {
        "trusted": true
      },
      "execution_count": 42,
      "outputs": [
        {
          "ename": "<class 'NameError'>",
          "evalue": "name 'make_pipeline' is not defined",
          "traceback": [
            "\u001b[0;31m---------------------------------------------------------------------------\u001b[0m",
            "\u001b[0;31mNameError\u001b[0m                                 Traceback (most recent call last)",
            "Cell \u001b[0;32mIn[42], line 2\u001b[0m\n\u001b[1;32m      1\u001b[0m scoring \u001b[38;5;241m=\u001b[39m [\u001b[38;5;124m\"\u001b[39m\u001b[38;5;124maccuracy\u001b[39m\u001b[38;5;124m\"\u001b[39m, \u001b[38;5;124m\"\u001b[39m\u001b[38;5;124mrecall\u001b[39m\u001b[38;5;124m\"\u001b[39m, \u001b[38;5;124m\"\u001b[39m\u001b[38;5;124mprecision\u001b[39m\u001b[38;5;124m\"\u001b[39m, \u001b[38;5;124m\"\u001b[39m\u001b[38;5;124mf1\u001b[39m\u001b[38;5;124m\"\u001b[39m]\n\u001b[0;32m----> 2\u001b[0m pipe_xgb2 \u001b[38;5;241m=\u001b[39m \u001b[43mmake_pipeline\u001b[49m(preprocessor, XGBClassifier(n_estimators\u001b[38;5;241m=\u001b[39m\u001b[38;5;241m100\u001b[39m, learning_rate \u001b[38;5;241m=\u001b[39m \u001b[38;5;241m0.1\u001b[39m)) \n\u001b[1;32m      3\u001b[0m scores_xgb2 \u001b[38;5;241m=\u001b[39m cross_validate(pipe_xgb2, X_train, y_train, scoring\u001b[38;5;241m=\u001b[39mscoring)\n\u001b[1;32m      4\u001b[0m pd\u001b[38;5;241m.\u001b[39mconcat(\n\u001b[1;32m      5\u001b[0m     [pd\u001b[38;5;241m.\u001b[39mDataFrame(scores_xgb2)\u001b[38;5;241m.\u001b[39mmean(), pd\u001b[38;5;241m.\u001b[39mDataFrame(scores_xgb2)\u001b[38;5;241m.\u001b[39mstd()],\n\u001b[1;32m      6\u001b[0m     axis\u001b[38;5;241m=\u001b[39m\u001b[38;5;241m1\u001b[39m, keys\u001b[38;5;241m=\u001b[39m[\u001b[38;5;124m\"\u001b[39m\u001b[38;5;124mvalidation scores\u001b[39m\u001b[38;5;124m\"\u001b[39m, \u001b[38;5;124m\"\u001b[39m\u001b[38;5;124mstdev\u001b[39m\u001b[38;5;124m\"\u001b[39m]\n\u001b[1;32m      7\u001b[0m )\n",
            "\u001b[0;31mNameError\u001b[0m: name 'make_pipeline' is not defined"
          ],
          "output_type": "error"
        }
      ]
    },
    {
      "cell_type": "markdown",
      "source": "<br><br>",
      "metadata": {}
    },
    {
      "cell_type": "markdown",
      "source": "## 11. Interpretation and feature importances <a name=\"1\"></a>\n<hr>\nrubric={points:15}\n\n**Your tasks:**\n\n1. Use the methods we saw in class (e.g., `eli5`, `shap`) (or any other methods of your choice) to explain feature importances of one of the best performing models. Summarize your observations. ",
      "metadata": {}
    },
    {
      "cell_type": "markdown",
      "source": "<br><br>",
      "metadata": {}
    },
    {
      "cell_type": "markdown",
      "source": "## 12. Results on the test set <a name=\"12\"></a>\n<hr>\n\nrubric={points:5}\n\n**Your tasks:**\n\n1. Try your best performing model on the test data and report test scores. \n2. Do the test scores agree with the validation scores from before? To what extent do you trust your results? Do you think you've had issues with optimization bias? ",
      "metadata": {}
    },
    {
      "cell_type": "markdown",
      "source": "<br><br>",
      "metadata": {}
    },
    {
      "cell_type": "markdown",
      "source": "## (Optional) 13. Explaining predictions \nrubric={points:1}\n\n**Your tasks**\n\n1. Take one or two test predictions and explain them with SHAP force plots.  ",
      "metadata": {}
    },
    {
      "cell_type": "markdown",
      "source": "<br><br>",
      "metadata": {}
    },
    {
      "cell_type": "markdown",
      "source": "## 14. Summary of results <a name=\"13\"></a>\n<hr>\nrubric={points:10}\n\n**Your tasks:**\n\n1. Report your final test score along with the metric you used. \n2. Write concluding remarks.\n3. Discuss other ideas that you did not try but could potentially improve the performance/interpretability . ",
      "metadata": {}
    },
    {
      "cell_type": "markdown",
      "source": "<br><br><br><br>",
      "metadata": {}
    },
    {
      "cell_type": "markdown",
      "source": "## Submission instructions \n\n**PLEASE READ:** When you are ready to submit your assignment do the following:\n\n1. Run all cells in your notebook to make sure there are no errors by doing `Kernel -> Restart Kernel and Clear All Outputs` and then `Run -> Run All Cells`. \n2. Notebooks with cell execution numbers out of order or not starting from “1” will have marks deducted. Notebooks without the output displayed may not be graded at all (because we need to see the output in order to grade your work).\n3. Upload the assignment using Gradescope's drag and drop tool. Check out this [Gradescope Student Guide](https://lthub.ubc.ca/guides/gradescope-student-guide/) if you need help with Gradescope submission. ",
      "metadata": {}
    }
  ]
}