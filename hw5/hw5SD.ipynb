{
 "cells": [
  {
   "cell_type": "markdown",
   "metadata": {},
   "source": [
    "# CPSC 330 - Applied Machine Learning \n",
    "\n",
    "## Homework 5: Evaluation metrics\n",
    "### Associated lectures: [Lectures 9, 10](https://ubc-cs.github.io/cpsc330/README.html) \n",
    "\n",
    "**Due date: Monday, Feb 27, 2023 at 11:59pm**"
   ]
  },
  {
   "cell_type": "markdown",
   "metadata": {},
   "source": [
    "## Imports"
   ]
  },
  {
   "cell_type": "code",
   "execution_count": 1,
   "metadata": {},
   "outputs": [],
   "source": [
    "import os\n",
    "import re\n",
    "import sys\n",
    "from hashlib import sha1\n",
    "\n",
    "import matplotlib.pyplot as plt\n",
    "import numpy as np\n",
    "import pandas as pd\n",
    "# import tests_hw5\n",
    "from sklearn import datasets\n",
    "from sklearn.compose import make_column_transformer\n",
    "from sklearn.dummy import DummyClassifier, DummyRegressor\n",
    "from sklearn.ensemble import RandomForestClassifier, RandomForestRegressor\n",
    "from sklearn.linear_model import LogisticRegression, Ridge\n",
    "from sklearn.metrics import (\n",
    "    accuracy_score,\n",
    "    classification_report,\n",
    "    confusion_matrix,\n",
    "    f1_score,\n",
    "    make_scorer,\n",
    "    precision_score,\n",
    "    recall_score,\n",
    ")\n",
    "from sklearn.model_selection import (\n",
    "    GridSearchCV,\n",
    "    RandomizedSearchCV,\n",
    "    cross_val_score,\n",
    "    cross_validate,\n",
    "    train_test_split,\n",
    ")\n",
    "from sklearn.pipeline import Pipeline, make_pipeline\n",
    "from sklearn.preprocessing import OneHotEncoder, OrdinalEncoder, StandardScaler"
   ]
  },
  {
   "cell_type": "markdown",
   "metadata": {},
   "source": [
    "## Instructions \n",
    "<hr>\n",
    "rubric={points:3}\n",
    "\n",
    "Follow the [homework submission instructions](https://github.com/UBC-CS/cpsc330-2022W2/blob/main/docs/homework_instructions.md). \n",
    "\n",
    "**You may work with a partner on this homework and submit your assignment as a group.** Below are some instructions on working as a group.  \n",
    "- The maximum group size is 2. \n",
    "- Use group work as an opportunity to collaborate and learn new things from each other. \n",
    "- Be respectful to each other and make sure you understand all the concepts in the assignment well. \n",
    "- It's your responsibility to make sure that the assignment is submitted by one of the group members before the deadline. \n",
    "- You can find the instructions on how to do group submission on Gradescope [here](https://help.gradescope.com/article/m5qz2xsnjy-student-add-group-members)."
   ]
  },
  {
   "cell_type": "markdown",
   "metadata": {},
   "source": [
    "<br><br>"
   ]
  },
  {
   "cell_type": "markdown",
   "metadata": {},
   "source": [
    "## Exercise 1: Precision, recall, and f1 score by hand <a name=\"1\"></a>\n",
    "<hr>"
   ]
  },
  {
   "cell_type": "markdown",
   "metadata": {},
   "source": [
    "Consider the problem of predicting whether a patient has cancer or not. It is important to catch this disease early to reduce mortality rate; late diagnosis will result in metastasis to other organs, which adversely impacts patient's prognosis. Below are confusion matrices of two machine learning models: Model A and Model B. \n",
    "\n",
    "- Model A\n",
    "\n",
    "|         | Predicted disease | Predicted no disease |\n",
    "| :------------- | -----------------------: | -----------------------: |\n",
    "| **Actual disease**       | 48 | 32 |\n",
    "| **Actual no disease**       | 20 | 100 |\n",
    "\n",
    "\n",
    "- Model B\n",
    "\n",
    "|        | Predicted disease | Predicted no disease |\n",
    "| :------------- | -----------------------: | -----------------------: |\n",
    "| **Actual disease**       | 43 | 22 |\n",
    "| **Actual no disease**       | 35 | 100 |"
   ]
  },
  {
   "cell_type": "markdown",
   "metadata": {},
   "source": [
    "### 1.1 Positive vs. negative class \n",
    "rubric={points:2}\n",
    "\n",
    "**Your tasks:**\n",
    "\n",
    "Precision, recall, and f1 score depend upon which class is considered \"positive\", that is the thing you wish to find. In the example above, which class is likely to be the \"positive\" class? Why? "
   ]
  },
  {
   "cell_type": "markdown",
   "metadata": {},
   "source": [
    "The positive class is the result class that the problem cares the most, in this case, the problem is whether a patient has cancer or not and  having the disease is the more important and demanding result. So the positive class is disease."
   ]
  },
  {
   "cell_type": "markdown",
   "metadata": {},
   "source": [
    "<br><br>"
   ]
  },
  {
   "cell_type": "markdown",
   "metadata": {},
   "source": [
    "### 1.2 Accuracy\n",
    "rubric={points:2}\n",
    "\n",
    "**Your tasks:**\n",
    "\n",
    "Calculate accuracies for Model A and Model B. \n",
    "\n",
    "We'll store all metrics associated with Model A and Model B in the `results_dict` below. "
   ]
  },
  {
   "cell_type": "code",
   "execution_count": 2,
   "metadata": {},
   "outputs": [],
   "source": [
    "results_dict = {\"A\": {}, \"B\": {}}"
   ]
  },
  {
   "cell_type": "code",
   "execution_count": 3,
   "metadata": {},
   "outputs": [
    {
     "name": "stdout",
     "output_type": "stream",
     "text": [
      "0.74\n",
      "0.715\n"
     ]
    }
   ],
   "source": [
    "results_dict[\"A\"][\"accuracy\"] = (48 + 100)/(48 + 100 + 32 + 20)\n",
    "results_dict[\"B\"][\"accuracy\"] = (43 + 100)/(43 + 100 + 35 + 22)\n",
    "print(results_dict[\"A\"][\"accuracy\"])\n",
    "print(results_dict[\"B\"][\"accuracy\"])"
   ]
  },
  {
   "cell_type": "markdown",
   "metadata": {},
   "source": [
    "<br><br>"
   ]
  },
  {
   "cell_type": "markdown",
   "metadata": {},
   "source": [
    "### 1.3 Which model would you pick? \n",
    "rubric={points:1}\n",
    "\n",
    "**Your tasks:**\n",
    "\n",
    "Which model would you pick simply based on the accuracy metric? "
   ]
  },
  {
   "cell_type": "markdown",
   "metadata": {},
   "source": [
    "Model A since it has a higher accuracy."
   ]
  },
  {
   "cell_type": "markdown",
   "metadata": {},
   "source": [
    "<br><br>"
   ]
  },
  {
   "cell_type": "markdown",
   "metadata": {},
   "source": [
    "### 1.4 Precision, recall, f1-score\n",
    "rubric={points:6}\n",
    "\n",
    "**Your tasks:**\n",
    "\n",
    "1. Calculate precision, recall, f1-score for Model A and Model B manually, without using `scikit-learn` tools. \n"
   ]
  },
  {
   "cell_type": "code",
   "execution_count": 4,
   "metadata": {},
   "outputs": [],
   "source": [
    "results_dict[\"A\"][\"precision\"] = 48/68\n",
    "results_dict[\"B\"][\"precision\"] = 43/78\n",
    "results_dict[\"A\"][\"recall\"] = 48/80\n",
    "results_dict[\"B\"][\"recall\"] = 43/65\n",
    "results_dict[\"A\"][\"f1\"] = 2*results_dict[\"A\"][\"precision\"]*results_dict[\"A\"][\"recall\"]/(results_dict[\"A\"][\"precision\"]+results_dict[\"A\"][\"recall\"])\n",
    "results_dict[\"B\"][\"f1\"] = 2*results_dict[\"B\"][\"precision\"]*results_dict[\"B\"][\"recall\"]/(results_dict[\"B\"][\"precision\"]+results_dict[\"B\"][\"recall\"])"
   ]
  },
  {
   "cell_type": "markdown",
   "metadata": {},
   "source": [
    "Show the dataframe with all results. "
   ]
  },
  {
   "cell_type": "code",
   "execution_count": 5,
   "metadata": {},
   "outputs": [
    {
     "data": {
      "text/html": [
       "<div>\n",
       "<style scoped>\n",
       "    .dataframe tbody tr th:only-of-type {\n",
       "        vertical-align: middle;\n",
       "    }\n",
       "\n",
       "    .dataframe tbody tr th {\n",
       "        vertical-align: top;\n",
       "    }\n",
       "\n",
       "    .dataframe thead th {\n",
       "        text-align: right;\n",
       "    }\n",
       "</style>\n",
       "<table border=\"1\" class=\"dataframe\">\n",
       "  <thead>\n",
       "    <tr style=\"text-align: right;\">\n",
       "      <th></th>\n",
       "      <th>A</th>\n",
       "      <th>B</th>\n",
       "    </tr>\n",
       "  </thead>\n",
       "  <tbody>\n",
       "    <tr>\n",
       "      <th>accuracy</th>\n",
       "      <td>0.740000</td>\n",
       "      <td>0.715000</td>\n",
       "    </tr>\n",
       "    <tr>\n",
       "      <th>precision</th>\n",
       "      <td>0.705882</td>\n",
       "      <td>0.551282</td>\n",
       "    </tr>\n",
       "    <tr>\n",
       "      <th>recall</th>\n",
       "      <td>0.600000</td>\n",
       "      <td>0.661538</td>\n",
       "    </tr>\n",
       "    <tr>\n",
       "      <th>f1</th>\n",
       "      <td>0.648649</td>\n",
       "      <td>0.601399</td>\n",
       "    </tr>\n",
       "  </tbody>\n",
       "</table>\n",
       "</div>"
      ],
      "text/plain": [
       "                  A         B\n",
       "accuracy   0.740000  0.715000\n",
       "precision  0.705882  0.551282\n",
       "recall     0.600000  0.661538\n",
       "f1         0.648649  0.601399"
      ]
     },
     "execution_count": 5,
     "metadata": {},
     "output_type": "execute_result"
    }
   ],
   "source": [
    "pd.DataFrame(results_dict)"
   ]
  },
  {
   "cell_type": "markdown",
   "metadata": {},
   "source": [
    "<br><br>"
   ]
  },
  {
   "cell_type": "markdown",
   "metadata": {},
   "source": [
    "### 1.5 Discussion\n",
    "rubric={points:4}\n",
    "\n",
    "**Your tasks:**\n",
    "1. Given the type of problem (early cancer diagnosis), which metric is more informative in this problem? Why? \n",
    "2. Which model would you pick based on this information? "
   ]
  },
  {
   "cell_type": "markdown",
   "metadata": {},
   "source": [
    "1. Since this probelm is about Spotting the postivtive class and the FN is more damaging to this problem, so recall which takes account the FN value is more informative in this problem.\n",
    "2. Model B."
   ]
  },
  {
   "cell_type": "markdown",
   "metadata": {},
   "source": [
    "<br><br>"
   ]
  },
  {
   "cell_type": "markdown",
   "metadata": {},
   "source": [
    "### (Optional) 1.6 \n",
    "rubric={points:1}\n",
    "\n",
    "**Your tasks:**\n",
    "\n",
    "Provide 2 to 3 example classification datasets (with links) where accuracy metric would be misleading. Discuss which evaluation metric would be more appropriate for each dataset. You may consider datasets we have used in this course so far. You could also look up datasets on Kaggle. "
   ]
  },
  {
   "cell_type": "markdown",
   "metadata": {},
   "source": [
    "https://www.kaggle.com/datasets/mlg-ulb/creditcardfraud\n",
    "Since the dataset is highly imbalance with fraudulent credit card transactions only account the 0.172% of all transactions. The accuracy metric would be misleading since it would be dominated by the predictions of negative classes. Recall would be more appropriated because based on the context \"It is important that credit card companies are able to recognize fraudulent credit card transactions\".\n",
    "\n",
    "https://www.kaggle.com/datasets/mathchi/diabetes-data-set\n",
    "Since \"The objective is to predict based on diagnostic measurements whether a patient has diabetes\", the diagnosis diabetes is more important to this problem, thus accuracy metric would be misleading and f1 metrics is more appropriate at evaluating the model overall in respect to the positive class.\n"
   ]
  },
  {
   "cell_type": "markdown",
   "metadata": {},
   "source": [
    "<br><br><br><br>"
   ]
  },
  {
   "cell_type": "markdown",
   "metadata": {},
   "source": [
    "### Exercise 2: Classification evaluation metrics using `sklearn` <a name=\"2\"></a>\n",
    "<hr>\n",
    "\n",
    "In general, when a dataset is imbalanced, accuracy does not provide the whole story. In class, we looked at credit card fraud dataset which is a classic example of an imbalanced dataset. \n",
    "\n",
    "Another example is customer churn datasets. [Customer churn](https://en.wikipedia.org/wiki/Customer_attrition) refers to the notion of customers leaving a subscription service like Netflix. In this exercise, we will try to predict customer churn in a dataset where most of the customers stay with the service and a small minority cancel their subscription. To start, please download the [Kaggle telecom customer churn dataset](https://www.kaggle.com/becksddf/churn-in-telecoms-dataset). Once you have the data, you should be able to run the following code:"
   ]
  },
  {
   "cell_type": "markdown",
   "metadata": {},
   "source": [
    "The starter code below reads the data CSV as a pandas dataframe and splits it into 70% train and 30% test. \n",
    "\n",
    "Note that `churn` column in the dataset is the target. \"True\" means the customer left the subscription (churned) and \"False\" means they stayed.\n",
    "\n",
    "> Note that for this kind of problem a more appropriate technique is something called survival analysis and we'll be talking about it later in the course. For now, we'll just treat it as a binary classification problem. "
   ]
  },
  {
   "cell_type": "code",
   "execution_count": 6,
   "metadata": {},
   "outputs": [
    {
     "data": {
      "text/html": [
       "<div>\n",
       "<style scoped>\n",
       "    .dataframe tbody tr th:only-of-type {\n",
       "        vertical-align: middle;\n",
       "    }\n",
       "\n",
       "    .dataframe tbody tr th {\n",
       "        vertical-align: top;\n",
       "    }\n",
       "\n",
       "    .dataframe thead th {\n",
       "        text-align: right;\n",
       "    }\n",
       "</style>\n",
       "<table border=\"1\" class=\"dataframe\">\n",
       "  <thead>\n",
       "    <tr style=\"text-align: right;\">\n",
       "      <th></th>\n",
       "      <th>state</th>\n",
       "      <th>account length</th>\n",
       "      <th>area code</th>\n",
       "      <th>phone number</th>\n",
       "      <th>international plan</th>\n",
       "      <th>voice mail plan</th>\n",
       "      <th>number vmail messages</th>\n",
       "      <th>total day minutes</th>\n",
       "      <th>total day calls</th>\n",
       "      <th>total day charge</th>\n",
       "      <th>...</th>\n",
       "      <th>total eve calls</th>\n",
       "      <th>total eve charge</th>\n",
       "      <th>total night minutes</th>\n",
       "      <th>total night calls</th>\n",
       "      <th>total night charge</th>\n",
       "      <th>total intl minutes</th>\n",
       "      <th>total intl calls</th>\n",
       "      <th>total intl charge</th>\n",
       "      <th>customer service calls</th>\n",
       "      <th>churn</th>\n",
       "    </tr>\n",
       "  </thead>\n",
       "  <tbody>\n",
       "    <tr>\n",
       "      <th>1402</th>\n",
       "      <td>NE</td>\n",
       "      <td>70</td>\n",
       "      <td>415</td>\n",
       "      <td>421-8535</td>\n",
       "      <td>no</td>\n",
       "      <td>no</td>\n",
       "      <td>0</td>\n",
       "      <td>213.4</td>\n",
       "      <td>86</td>\n",
       "      <td>36.28</td>\n",
       "      <td>...</td>\n",
       "      <td>77</td>\n",
       "      <td>17.40</td>\n",
       "      <td>256.6</td>\n",
       "      <td>101</td>\n",
       "      <td>11.55</td>\n",
       "      <td>5.7</td>\n",
       "      <td>4</td>\n",
       "      <td>1.54</td>\n",
       "      <td>1</td>\n",
       "      <td>False</td>\n",
       "    </tr>\n",
       "    <tr>\n",
       "      <th>1855</th>\n",
       "      <td>WI</td>\n",
       "      <td>67</td>\n",
       "      <td>510</td>\n",
       "      <td>417-2265</td>\n",
       "      <td>no</td>\n",
       "      <td>no</td>\n",
       "      <td>0</td>\n",
       "      <td>109.1</td>\n",
       "      <td>134</td>\n",
       "      <td>18.55</td>\n",
       "      <td>...</td>\n",
       "      <td>76</td>\n",
       "      <td>12.10</td>\n",
       "      <td>91.2</td>\n",
       "      <td>86</td>\n",
       "      <td>4.10</td>\n",
       "      <td>10.9</td>\n",
       "      <td>5</td>\n",
       "      <td>2.94</td>\n",
       "      <td>2</td>\n",
       "      <td>False</td>\n",
       "    </tr>\n",
       "    <tr>\n",
       "      <th>633</th>\n",
       "      <td>NJ</td>\n",
       "      <td>122</td>\n",
       "      <td>415</td>\n",
       "      <td>327-9341</td>\n",
       "      <td>no</td>\n",
       "      <td>yes</td>\n",
       "      <td>34</td>\n",
       "      <td>146.4</td>\n",
       "      <td>104</td>\n",
       "      <td>24.89</td>\n",
       "      <td>...</td>\n",
       "      <td>103</td>\n",
       "      <td>7.62</td>\n",
       "      <td>220.0</td>\n",
       "      <td>91</td>\n",
       "      <td>9.90</td>\n",
       "      <td>15.6</td>\n",
       "      <td>4</td>\n",
       "      <td>4.21</td>\n",
       "      <td>2</td>\n",
       "      <td>False</td>\n",
       "    </tr>\n",
       "    <tr>\n",
       "      <th>1483</th>\n",
       "      <td>NV</td>\n",
       "      <td>107</td>\n",
       "      <td>510</td>\n",
       "      <td>419-9688</td>\n",
       "      <td>yes</td>\n",
       "      <td>no</td>\n",
       "      <td>0</td>\n",
       "      <td>234.1</td>\n",
       "      <td>91</td>\n",
       "      <td>39.80</td>\n",
       "      <td>...</td>\n",
       "      <td>105</td>\n",
       "      <td>13.86</td>\n",
       "      <td>282.5</td>\n",
       "      <td>100</td>\n",
       "      <td>12.71</td>\n",
       "      <td>10.0</td>\n",
       "      <td>3</td>\n",
       "      <td>2.70</td>\n",
       "      <td>1</td>\n",
       "      <td>False</td>\n",
       "    </tr>\n",
       "    <tr>\n",
       "      <th>2638</th>\n",
       "      <td>HI</td>\n",
       "      <td>105</td>\n",
       "      <td>510</td>\n",
       "      <td>364-8128</td>\n",
       "      <td>no</td>\n",
       "      <td>no</td>\n",
       "      <td>0</td>\n",
       "      <td>125.4</td>\n",
       "      <td>116</td>\n",
       "      <td>21.32</td>\n",
       "      <td>...</td>\n",
       "      <td>95</td>\n",
       "      <td>22.23</td>\n",
       "      <td>241.6</td>\n",
       "      <td>104</td>\n",
       "      <td>10.87</td>\n",
       "      <td>11.4</td>\n",
       "      <td>9</td>\n",
       "      <td>3.08</td>\n",
       "      <td>2</td>\n",
       "      <td>False</td>\n",
       "    </tr>\n",
       "    <tr>\n",
       "      <th>...</th>\n",
       "      <td>...</td>\n",
       "      <td>...</td>\n",
       "      <td>...</td>\n",
       "      <td>...</td>\n",
       "      <td>...</td>\n",
       "      <td>...</td>\n",
       "      <td>...</td>\n",
       "      <td>...</td>\n",
       "      <td>...</td>\n",
       "      <td>...</td>\n",
       "      <td>...</td>\n",
       "      <td>...</td>\n",
       "      <td>...</td>\n",
       "      <td>...</td>\n",
       "      <td>...</td>\n",
       "      <td>...</td>\n",
       "      <td>...</td>\n",
       "      <td>...</td>\n",
       "      <td>...</td>\n",
       "      <td>...</td>\n",
       "      <td>...</td>\n",
       "    </tr>\n",
       "    <tr>\n",
       "      <th>2154</th>\n",
       "      <td>WY</td>\n",
       "      <td>126</td>\n",
       "      <td>408</td>\n",
       "      <td>339-9798</td>\n",
       "      <td>yes</td>\n",
       "      <td>no</td>\n",
       "      <td>0</td>\n",
       "      <td>197.6</td>\n",
       "      <td>126</td>\n",
       "      <td>33.59</td>\n",
       "      <td>...</td>\n",
       "      <td>112</td>\n",
       "      <td>20.95</td>\n",
       "      <td>285.3</td>\n",
       "      <td>104</td>\n",
       "      <td>12.84</td>\n",
       "      <td>12.5</td>\n",
       "      <td>8</td>\n",
       "      <td>3.38</td>\n",
       "      <td>2</td>\n",
       "      <td>False</td>\n",
       "    </tr>\n",
       "    <tr>\n",
       "      <th>3089</th>\n",
       "      <td>WV</td>\n",
       "      <td>70</td>\n",
       "      <td>510</td>\n",
       "      <td>348-3777</td>\n",
       "      <td>no</td>\n",
       "      <td>yes</td>\n",
       "      <td>30</td>\n",
       "      <td>143.4</td>\n",
       "      <td>72</td>\n",
       "      <td>24.38</td>\n",
       "      <td>...</td>\n",
       "      <td>92</td>\n",
       "      <td>14.45</td>\n",
       "      <td>127.9</td>\n",
       "      <td>68</td>\n",
       "      <td>5.76</td>\n",
       "      <td>9.4</td>\n",
       "      <td>4</td>\n",
       "      <td>2.54</td>\n",
       "      <td>3</td>\n",
       "      <td>False</td>\n",
       "    </tr>\n",
       "    <tr>\n",
       "      <th>1766</th>\n",
       "      <td>NJ</td>\n",
       "      <td>125</td>\n",
       "      <td>415</td>\n",
       "      <td>406-6400</td>\n",
       "      <td>no</td>\n",
       "      <td>no</td>\n",
       "      <td>0</td>\n",
       "      <td>182.3</td>\n",
       "      <td>64</td>\n",
       "      <td>30.99</td>\n",
       "      <td>...</td>\n",
       "      <td>121</td>\n",
       "      <td>11.88</td>\n",
       "      <td>171.6</td>\n",
       "      <td>96</td>\n",
       "      <td>7.72</td>\n",
       "      <td>11.6</td>\n",
       "      <td>7</td>\n",
       "      <td>3.13</td>\n",
       "      <td>2</td>\n",
       "      <td>False</td>\n",
       "    </tr>\n",
       "    <tr>\n",
       "      <th>1122</th>\n",
       "      <td>NE</td>\n",
       "      <td>159</td>\n",
       "      <td>415</td>\n",
       "      <td>362-5111</td>\n",
       "      <td>no</td>\n",
       "      <td>no</td>\n",
       "      <td>0</td>\n",
       "      <td>189.1</td>\n",
       "      <td>105</td>\n",
       "      <td>32.15</td>\n",
       "      <td>...</td>\n",
       "      <td>147</td>\n",
       "      <td>20.92</td>\n",
       "      <td>242.0</td>\n",
       "      <td>106</td>\n",
       "      <td>10.89</td>\n",
       "      <td>10.4</td>\n",
       "      <td>5</td>\n",
       "      <td>2.81</td>\n",
       "      <td>1</td>\n",
       "      <td>True</td>\n",
       "    </tr>\n",
       "    <tr>\n",
       "      <th>1346</th>\n",
       "      <td>PA</td>\n",
       "      <td>106</td>\n",
       "      <td>408</td>\n",
       "      <td>403-9167</td>\n",
       "      <td>yes</td>\n",
       "      <td>no</td>\n",
       "      <td>0</td>\n",
       "      <td>133.7</td>\n",
       "      <td>45</td>\n",
       "      <td>22.73</td>\n",
       "      <td>...</td>\n",
       "      <td>107</td>\n",
       "      <td>15.96</td>\n",
       "      <td>181.9</td>\n",
       "      <td>89</td>\n",
       "      <td>8.19</td>\n",
       "      <td>10.7</td>\n",
       "      <td>2</td>\n",
       "      <td>2.89</td>\n",
       "      <td>1</td>\n",
       "      <td>True</td>\n",
       "    </tr>\n",
       "  </tbody>\n",
       "</table>\n",
       "<p>2333 rows × 21 columns</p>\n",
       "</div>"
      ],
      "text/plain": [
       "     state  account length  area code phone number international plan  \\\n",
       "1402    NE              70        415     421-8535                 no   \n",
       "1855    WI              67        510     417-2265                 no   \n",
       "633     NJ             122        415     327-9341                 no   \n",
       "1483    NV             107        510     419-9688                yes   \n",
       "2638    HI             105        510     364-8128                 no   \n",
       "...    ...             ...        ...          ...                ...   \n",
       "2154    WY             126        408     339-9798                yes   \n",
       "3089    WV              70        510     348-3777                 no   \n",
       "1766    NJ             125        415     406-6400                 no   \n",
       "1122    NE             159        415     362-5111                 no   \n",
       "1346    PA             106        408     403-9167                yes   \n",
       "\n",
       "     voice mail plan  number vmail messages  total day minutes  \\\n",
       "1402              no                      0              213.4   \n",
       "1855              no                      0              109.1   \n",
       "633              yes                     34              146.4   \n",
       "1483              no                      0              234.1   \n",
       "2638              no                      0              125.4   \n",
       "...              ...                    ...                ...   \n",
       "2154              no                      0              197.6   \n",
       "3089             yes                     30              143.4   \n",
       "1766              no                      0              182.3   \n",
       "1122              no                      0              189.1   \n",
       "1346              no                      0              133.7   \n",
       "\n",
       "      total day calls  total day charge  ...  total eve calls  \\\n",
       "1402               86             36.28  ...               77   \n",
       "1855              134             18.55  ...               76   \n",
       "633               104             24.89  ...              103   \n",
       "1483               91             39.80  ...              105   \n",
       "2638              116             21.32  ...               95   \n",
       "...               ...               ...  ...              ...   \n",
       "2154              126             33.59  ...              112   \n",
       "3089               72             24.38  ...               92   \n",
       "1766               64             30.99  ...              121   \n",
       "1122              105             32.15  ...              147   \n",
       "1346               45             22.73  ...              107   \n",
       "\n",
       "      total eve charge  total night minutes  total night calls  \\\n",
       "1402             17.40                256.6                101   \n",
       "1855             12.10                 91.2                 86   \n",
       "633               7.62                220.0                 91   \n",
       "1483             13.86                282.5                100   \n",
       "2638             22.23                241.6                104   \n",
       "...                ...                  ...                ...   \n",
       "2154             20.95                285.3                104   \n",
       "3089             14.45                127.9                 68   \n",
       "1766             11.88                171.6                 96   \n",
       "1122             20.92                242.0                106   \n",
       "1346             15.96                181.9                 89   \n",
       "\n",
       "      total night charge  total intl minutes  total intl calls  \\\n",
       "1402               11.55                 5.7                 4   \n",
       "1855                4.10                10.9                 5   \n",
       "633                 9.90                15.6                 4   \n",
       "1483               12.71                10.0                 3   \n",
       "2638               10.87                11.4                 9   \n",
       "...                  ...                 ...               ...   \n",
       "2154               12.84                12.5                 8   \n",
       "3089                5.76                 9.4                 4   \n",
       "1766                7.72                11.6                 7   \n",
       "1122               10.89                10.4                 5   \n",
       "1346                8.19                10.7                 2   \n",
       "\n",
       "      total intl charge  customer service calls  churn  \n",
       "1402               1.54                       1  False  \n",
       "1855               2.94                       2  False  \n",
       "633                4.21                       2  False  \n",
       "1483               2.70                       1  False  \n",
       "2638               3.08                       2  False  \n",
       "...                 ...                     ...    ...  \n",
       "2154               3.38                       2  False  \n",
       "3089               2.54                       3  False  \n",
       "1766               3.13                       2  False  \n",
       "1122               2.81                       1   True  \n",
       "1346               2.89                       1   True  \n",
       "\n",
       "[2333 rows x 21 columns]"
      ]
     },
     "execution_count": 6,
     "metadata": {},
     "output_type": "execute_result"
    }
   ],
   "source": [
    "df = pd.read_csv(\"bigml_59c28831336c6604c800002a.csv\", encoding=\"utf-8\")\n",
    "train_df, test_df = train_test_split(df, test_size=0.3, random_state=123)\n",
    "train_df"
   ]
  },
  {
   "cell_type": "markdown",
   "metadata": {},
   "source": [
    "<br><br>"
   ]
  },
  {
   "cell_type": "markdown",
   "metadata": {},
   "source": [
    "### 2.1 Distribution of target values\n",
    "rubric={points:4}\n",
    "\n",
    "**Your tasks:**\n",
    "\n",
    "Examine the distribution of target values in the train split. Do you see class imbalance? If yes, do we need to deal with it? Why or why not? "
   ]
  },
  {
   "cell_type": "code",
   "execution_count": 7,
   "metadata": {},
   "outputs": [
    {
     "name": "stdout",
     "output_type": "stream",
     "text": [
      "2333\n"
     ]
    },
    {
     "data": {
      "text/plain": [
       "349"
      ]
     },
     "execution_count": 7,
     "metadata": {},
     "output_type": "execute_result"
    }
   ],
   "source": [
    "print(train_df.shape[0])\n",
    "train_df[(train_df[\"churn\"] == True)].shape[0]"
   ]
  },
  {
   "cell_type": "markdown",
   "metadata": {},
   "source": [
    "Yes. We do not need to deal with it at this stage since we cannot re collect the data, plus the imbalance is the nature of "
   ]
  },
  {
   "cell_type": "markdown",
   "metadata": {},
   "source": [
    "<br><br>"
   ]
  },
  {
   "cell_type": "markdown",
   "metadata": {},
   "source": [
    "### (Optional) 2.2 EDA \n",
    "rubric={points:1}\n",
    "\n",
    "**Your tasks:**\n",
    "\n",
    "Come up with **two** exploratory questions you would like to answer and explore those. Briefly discuss your results in 1-3 sentences.\n",
    "\n",
    "You are welcome to use `pandas_profiling` (see Lecture 10) but you don't have to."
   ]
  },
  {
   "cell_type": "markdown",
   "metadata": {},
   "source": [
    " "
   ]
  },
  {
   "cell_type": "markdown",
   "metadata": {},
   "source": [
    "<br><br>"
   ]
  },
  {
   "cell_type": "markdown",
   "metadata": {},
   "source": [
    "### 2.3 Column transformer \n",
    "rubric={points:14}\n",
    "\n",
    "The code below creates `X_train`, `y_train`, `X_test`, `y_test` for you. \n",
    "In preparation for building a classifier, set up a `ColumnTransformer` that performs whatever feature transformations you deem sensible. This can include dropping features if you think they are not helpful. Remember that by default `ColumnTransformer` will drop any columns that aren't accounted for when it's created.\n",
    "\n",
    "For each group of features (e.g. numeric, categorical or else) explain why you are applying the particular transformation. For example, \"I am doing transformation X to the following categorical features: `a`, `b`, `c` because of reason Y,\" etc.\n",
    "\n",
    "Finally, fit `ColumnTransformer` on your training set; and use the `ColumnTransformer` to transform your train data."
   ]
  },
  {
   "cell_type": "code",
   "execution_count": 8,
   "metadata": {},
   "outputs": [],
   "source": [
    "X_train = train_df.drop(columns=[\"churn\"])\n",
    "X_test = test_df.drop(columns=[\"churn\"])\n",
    "\n",
    "y_train = train_df[\"churn\"]\n",
    "y_test = test_df[\"churn\"]"
   ]
  },
  {
   "cell_type": "code",
   "execution_count": 9,
   "metadata": {},
   "outputs": [],
   "source": [
    "#citation: https://canvas.ubc.ca/courses/106375/files/folder/Homework%20solutions\n",
    "# X_train.info()"
   ]
  },
  {
   "cell_type": "code",
   "execution_count": 10,
   "metadata": {},
   "outputs": [],
   "source": [
    "# I am doing transformation Scaling to the numeric_features features because scaling \n",
    "# all features with different ranges can avoid the features with smaller values being ignored\n",
    "numeric_features = ['account length', 'area code', 'number vmail messages', 'total day minutes',\n",
    "                    'total day calls', 'total day charge', 'total eve minutes', 'total eve calls', \n",
    "                    'total eve charge', 'total night minutes', 'total night calls', 'total night charge',\n",
    "                    'total intl minutes', 'total intl calls', 'customer service calls']\n",
    "# I am doing transformation OneHotEncoder to the feature 'state' because it is a categorical \n",
    "# feature and each category of the feature is independent from another, thus new new binary columns \n",
    "# need to be created to represent those categories\n",
    "# I am doing transformation OneHotEncoder to the feature 'area code' because even though the values \n",
    "# are in int64 but indeed one integer represents one area(a category), thus new new binary columns \n",
    "# need to be created to represent those categories \n",
    "categorical_features = ['state', 'area code']\n",
    "# I am doing transformation OneHotEncoder to the binary_features features because these features \n",
    "# only have binary categories \"yes\" and \"no\"\n",
    "binary_features = ['international plan', 'voice mail plan']\n",
    "# I am dropping feature 'phone number because it does not provide useful characteristic to predict\n",
    "# the target\n",
    "drop_features = ['phone number']"
   ]
  },
  {
   "cell_type": "code",
   "execution_count": 11,
   "metadata": {},
   "outputs": [],
   "source": [
    "numeric_transformer = make_pipeline(StandardScaler())\n",
    "\n",
    "categorical_transformer = make_pipeline(\n",
    "    OneHotEncoder(handle_unknown=\"ignore\", sparse_output=False),\n",
    ")\n",
    "\n",
    "binary_transformer = make_pipeline(\n",
    "    OneHotEncoder(drop=\"if_binary\", dtype=int),\n",
    ")\n",
    "\n",
    "preprocessor_2_3 = make_column_transformer(\n",
    "    (numeric_transformer, numeric_features),   \n",
    "    (binary_transformer, binary_features),    \n",
    "    (categorical_transformer, categorical_features),\n",
    "    (\"drop\", drop_features),\n",
    ")\n",
    "transformed_2_3 = preprocessor_2_3.fit_transform(X_train, y_train)"
   ]
  },
  {
   "cell_type": "code",
   "execution_count": 12,
   "metadata": {},
   "outputs": [
    {
     "data": {
      "text/html": [
       "<div>\n",
       "<style scoped>\n",
       "    .dataframe tbody tr th:only-of-type {\n",
       "        vertical-align: middle;\n",
       "    }\n",
       "\n",
       "    .dataframe tbody tr th {\n",
       "        vertical-align: top;\n",
       "    }\n",
       "\n",
       "    .dataframe thead th {\n",
       "        text-align: right;\n",
       "    }\n",
       "</style>\n",
       "<table border=\"1\" class=\"dataframe\">\n",
       "  <thead>\n",
       "    <tr style=\"text-align: right;\">\n",
       "      <th></th>\n",
       "      <th>account length</th>\n",
       "      <th>area code</th>\n",
       "      <th>number vmail messages</th>\n",
       "      <th>total day minutes</th>\n",
       "      <th>total day calls</th>\n",
       "      <th>total day charge</th>\n",
       "      <th>total eve minutes</th>\n",
       "      <th>total eve calls</th>\n",
       "      <th>total eve charge</th>\n",
       "      <th>total night minutes</th>\n",
       "      <th>...</th>\n",
       "      <th>state_UT</th>\n",
       "      <th>state_VA</th>\n",
       "      <th>state_VT</th>\n",
       "      <th>state_WA</th>\n",
       "      <th>state_WI</th>\n",
       "      <th>state_WV</th>\n",
       "      <th>state_WY</th>\n",
       "      <th>area code_408</th>\n",
       "      <th>area code_415</th>\n",
       "      <th>area code_510</th>\n",
       "    </tr>\n",
       "  </thead>\n",
       "  <tbody>\n",
       "    <tr>\n",
       "      <th>0</th>\n",
       "      <td>-0.767893</td>\n",
       "      <td>-0.509593</td>\n",
       "      <td>-0.587624</td>\n",
       "      <td>0.618769</td>\n",
       "      <td>-0.721211</td>\n",
       "      <td>0.618927</td>\n",
       "      <td>0.069871</td>\n",
       "      <td>-1.156734</td>\n",
       "      <td>0.069926</td>\n",
       "      <td>1.088667</td>\n",
       "      <td>...</td>\n",
       "      <td>0.0</td>\n",
       "      <td>0.0</td>\n",
       "      <td>0.0</td>\n",
       "      <td>0.0</td>\n",
       "      <td>0.0</td>\n",
       "      <td>0.0</td>\n",
       "      <td>0.0</td>\n",
       "      <td>0.0</td>\n",
       "      <td>1.0</td>\n",
       "      <td>0.0</td>\n",
       "    </tr>\n",
       "    <tr>\n",
       "      <th>1</th>\n",
       "      <td>-0.843585</td>\n",
       "      <td>1.760678</td>\n",
       "      <td>-0.587624</td>\n",
       "      <td>-1.293778</td>\n",
       "      <td>1.655252</td>\n",
       "      <td>-1.293517</td>\n",
       "      <td>-1.167277</td>\n",
       "      <td>-1.207278</td>\n",
       "      <td>-1.166291</td>\n",
       "      <td>-2.162302</td>\n",
       "      <td>...</td>\n",
       "      <td>0.0</td>\n",
       "      <td>0.0</td>\n",
       "      <td>0.0</td>\n",
       "      <td>0.0</td>\n",
       "      <td>1.0</td>\n",
       "      <td>0.0</td>\n",
       "      <td>0.0</td>\n",
       "      <td>0.0</td>\n",
       "      <td>0.0</td>\n",
       "      <td>1.0</td>\n",
       "    </tr>\n",
       "    <tr>\n",
       "      <th>2</th>\n",
       "      <td>0.544113</td>\n",
       "      <td>-0.509593</td>\n",
       "      <td>1.900976</td>\n",
       "      <td>-0.609809</td>\n",
       "      <td>0.169963</td>\n",
       "      <td>-0.609654</td>\n",
       "      <td>-2.210130</td>\n",
       "      <td>0.157417</td>\n",
       "      <td>-2.211244</td>\n",
       "      <td>0.369287</td>\n",
       "      <td>...</td>\n",
       "      <td>0.0</td>\n",
       "      <td>0.0</td>\n",
       "      <td>0.0</td>\n",
       "      <td>0.0</td>\n",
       "      <td>0.0</td>\n",
       "      <td>0.0</td>\n",
       "      <td>0.0</td>\n",
       "      <td>0.0</td>\n",
       "      <td>1.0</td>\n",
       "      <td>0.0</td>\n",
       "    </tr>\n",
       "    <tr>\n",
       "      <th>3</th>\n",
       "      <td>0.165650</td>\n",
       "      <td>1.760678</td>\n",
       "      <td>-0.587624</td>\n",
       "      <td>0.998345</td>\n",
       "      <td>-0.473663</td>\n",
       "      <td>0.998611</td>\n",
       "      <td>-0.754894</td>\n",
       "      <td>0.258506</td>\n",
       "      <td>-0.755774</td>\n",
       "      <td>1.597736</td>\n",
       "      <td>...</td>\n",
       "      <td>0.0</td>\n",
       "      <td>0.0</td>\n",
       "      <td>0.0</td>\n",
       "      <td>0.0</td>\n",
       "      <td>0.0</td>\n",
       "      <td>0.0</td>\n",
       "      <td>0.0</td>\n",
       "      <td>0.0</td>\n",
       "      <td>0.0</td>\n",
       "      <td>1.0</td>\n",
       "    </tr>\n",
       "    <tr>\n",
       "      <th>4</th>\n",
       "      <td>0.115188</td>\n",
       "      <td>1.760678</td>\n",
       "      <td>-0.587624</td>\n",
       "      <td>-0.994886</td>\n",
       "      <td>0.764078</td>\n",
       "      <td>-0.994731</td>\n",
       "      <td>1.195994</td>\n",
       "      <td>-0.246937</td>\n",
       "      <td>1.196515</td>\n",
       "      <td>0.793839</td>\n",
       "      <td>...</td>\n",
       "      <td>0.0</td>\n",
       "      <td>0.0</td>\n",
       "      <td>0.0</td>\n",
       "      <td>0.0</td>\n",
       "      <td>0.0</td>\n",
       "      <td>0.0</td>\n",
       "      <td>0.0</td>\n",
       "      <td>0.0</td>\n",
       "      <td>0.0</td>\n",
       "      <td>1.0</td>\n",
       "    </tr>\n",
       "    <tr>\n",
       "      <th>...</th>\n",
       "      <td>...</td>\n",
       "      <td>...</td>\n",
       "      <td>...</td>\n",
       "      <td>...</td>\n",
       "      <td>...</td>\n",
       "      <td>...</td>\n",
       "      <td>...</td>\n",
       "      <td>...</td>\n",
       "      <td>...</td>\n",
       "      <td>...</td>\n",
       "      <td>...</td>\n",
       "      <td>...</td>\n",
       "      <td>...</td>\n",
       "      <td>...</td>\n",
       "      <td>...</td>\n",
       "      <td>...</td>\n",
       "      <td>...</td>\n",
       "      <td>...</td>\n",
       "      <td>...</td>\n",
       "      <td>...</td>\n",
       "      <td>...</td>\n",
       "    </tr>\n",
       "    <tr>\n",
       "      <th>2328</th>\n",
       "      <td>0.645037</td>\n",
       "      <td>-0.676876</td>\n",
       "      <td>-0.587624</td>\n",
       "      <td>0.329045</td>\n",
       "      <td>1.259175</td>\n",
       "      <td>0.328771</td>\n",
       "      <td>0.898602</td>\n",
       "      <td>0.612316</td>\n",
       "      <td>0.897957</td>\n",
       "      <td>1.652771</td>\n",
       "      <td>...</td>\n",
       "      <td>0.0</td>\n",
       "      <td>0.0</td>\n",
       "      <td>0.0</td>\n",
       "      <td>0.0</td>\n",
       "      <td>0.0</td>\n",
       "      <td>0.0</td>\n",
       "      <td>1.0</td>\n",
       "      <td>1.0</td>\n",
       "      <td>0.0</td>\n",
       "      <td>0.0</td>\n",
       "    </tr>\n",
       "    <tr>\n",
       "      <th>2329</th>\n",
       "      <td>-0.767893</td>\n",
       "      <td>1.760678</td>\n",
       "      <td>1.608200</td>\n",
       "      <td>-0.664820</td>\n",
       "      <td>-1.414346</td>\n",
       "      <td>-0.664665</td>\n",
       "      <td>-0.618094</td>\n",
       "      <td>-0.398570</td>\n",
       "      <td>-0.618157</td>\n",
       "      <td>-1.440956</td>\n",
       "      <td>...</td>\n",
       "      <td>0.0</td>\n",
       "      <td>0.0</td>\n",
       "      <td>0.0</td>\n",
       "      <td>0.0</td>\n",
       "      <td>0.0</td>\n",
       "      <td>1.0</td>\n",
       "      <td>0.0</td>\n",
       "      <td>0.0</td>\n",
       "      <td>0.0</td>\n",
       "      <td>1.0</td>\n",
       "    </tr>\n",
       "    <tr>\n",
       "      <th>2330</th>\n",
       "      <td>0.619806</td>\n",
       "      <td>-0.509593</td>\n",
       "      <td>-0.587624</td>\n",
       "      <td>0.048489</td>\n",
       "      <td>-1.810423</td>\n",
       "      <td>0.048322</td>\n",
       "      <td>-1.216842</td>\n",
       "      <td>1.067214</td>\n",
       "      <td>-1.217606</td>\n",
       "      <td>-0.582024</td>\n",
       "      <td>...</td>\n",
       "      <td>0.0</td>\n",
       "      <td>0.0</td>\n",
       "      <td>0.0</td>\n",
       "      <td>0.0</td>\n",
       "      <td>0.0</td>\n",
       "      <td>0.0</td>\n",
       "      <td>0.0</td>\n",
       "      <td>0.0</td>\n",
       "      <td>1.0</td>\n",
       "      <td>0.0</td>\n",
       "    </tr>\n",
       "    <tr>\n",
       "      <th>2331</th>\n",
       "      <td>1.477656</td>\n",
       "      <td>-0.509593</td>\n",
       "      <td>-0.587624</td>\n",
       "      <td>0.173180</td>\n",
       "      <td>0.219472</td>\n",
       "      <td>0.173445</td>\n",
       "      <td>0.890672</td>\n",
       "      <td>2.381365</td>\n",
       "      <td>0.890960</td>\n",
       "      <td>0.801701</td>\n",
       "      <td>...</td>\n",
       "      <td>0.0</td>\n",
       "      <td>0.0</td>\n",
       "      <td>0.0</td>\n",
       "      <td>0.0</td>\n",
       "      <td>0.0</td>\n",
       "      <td>0.0</td>\n",
       "      <td>0.0</td>\n",
       "      <td>0.0</td>\n",
       "      <td>1.0</td>\n",
       "      <td>0.0</td>\n",
       "    </tr>\n",
       "    <tr>\n",
       "      <th>2332</th>\n",
       "      <td>0.140419</td>\n",
       "      <td>-0.676876</td>\n",
       "      <td>-0.587624</td>\n",
       "      <td>-0.842689</td>\n",
       "      <td>-2.751107</td>\n",
       "      <td>-0.842642</td>\n",
       "      <td>-0.265190</td>\n",
       "      <td>0.359594</td>\n",
       "      <td>-0.265952</td>\n",
       "      <td>-0.379576</td>\n",
       "      <td>...</td>\n",
       "      <td>0.0</td>\n",
       "      <td>0.0</td>\n",
       "      <td>0.0</td>\n",
       "      <td>0.0</td>\n",
       "      <td>0.0</td>\n",
       "      <td>0.0</td>\n",
       "      <td>0.0</td>\n",
       "      <td>1.0</td>\n",
       "      <td>0.0</td>\n",
       "      <td>0.0</td>\n",
       "    </tr>\n",
       "  </tbody>\n",
       "</table>\n",
       "<p>2333 rows × 71 columns</p>\n",
       "</div>"
      ],
      "text/plain": [
       "      account length  area code  number vmail messages  total day minutes  \\\n",
       "0          -0.767893  -0.509593              -0.587624           0.618769   \n",
       "1          -0.843585   1.760678              -0.587624          -1.293778   \n",
       "2           0.544113  -0.509593               1.900976          -0.609809   \n",
       "3           0.165650   1.760678              -0.587624           0.998345   \n",
       "4           0.115188   1.760678              -0.587624          -0.994886   \n",
       "...              ...        ...                    ...                ...   \n",
       "2328        0.645037  -0.676876              -0.587624           0.329045   \n",
       "2329       -0.767893   1.760678               1.608200          -0.664820   \n",
       "2330        0.619806  -0.509593              -0.587624           0.048489   \n",
       "2331        1.477656  -0.509593              -0.587624           0.173180   \n",
       "2332        0.140419  -0.676876              -0.587624          -0.842689   \n",
       "\n",
       "      total day calls  total day charge  total eve minutes  total eve calls  \\\n",
       "0           -0.721211          0.618927           0.069871        -1.156734   \n",
       "1            1.655252         -1.293517          -1.167277        -1.207278   \n",
       "2            0.169963         -0.609654          -2.210130         0.157417   \n",
       "3           -0.473663          0.998611          -0.754894         0.258506   \n",
       "4            0.764078         -0.994731           1.195994        -0.246937   \n",
       "...               ...               ...                ...              ...   \n",
       "2328         1.259175          0.328771           0.898602         0.612316   \n",
       "2329        -1.414346         -0.664665          -0.618094        -0.398570   \n",
       "2330        -1.810423          0.048322          -1.216842         1.067214   \n",
       "2331         0.219472          0.173445           0.890672         2.381365   \n",
       "2332        -2.751107         -0.842642          -0.265190         0.359594   \n",
       "\n",
       "      total eve charge  total night minutes  ...  state_UT  state_VA  \\\n",
       "0             0.069926             1.088667  ...       0.0       0.0   \n",
       "1            -1.166291            -2.162302  ...       0.0       0.0   \n",
       "2            -2.211244             0.369287  ...       0.0       0.0   \n",
       "3            -0.755774             1.597736  ...       0.0       0.0   \n",
       "4             1.196515             0.793839  ...       0.0       0.0   \n",
       "...                ...                  ...  ...       ...       ...   \n",
       "2328          0.897957             1.652771  ...       0.0       0.0   \n",
       "2329         -0.618157            -1.440956  ...       0.0       0.0   \n",
       "2330         -1.217606            -0.582024  ...       0.0       0.0   \n",
       "2331          0.890960             0.801701  ...       0.0       0.0   \n",
       "2332         -0.265952            -0.379576  ...       0.0       0.0   \n",
       "\n",
       "      state_VT  state_WA  state_WI  state_WV  state_WY  area code_408  \\\n",
       "0          0.0       0.0       0.0       0.0       0.0            0.0   \n",
       "1          0.0       0.0       1.0       0.0       0.0            0.0   \n",
       "2          0.0       0.0       0.0       0.0       0.0            0.0   \n",
       "3          0.0       0.0       0.0       0.0       0.0            0.0   \n",
       "4          0.0       0.0       0.0       0.0       0.0            0.0   \n",
       "...        ...       ...       ...       ...       ...            ...   \n",
       "2328       0.0       0.0       0.0       0.0       1.0            1.0   \n",
       "2329       0.0       0.0       0.0       1.0       0.0            0.0   \n",
       "2330       0.0       0.0       0.0       0.0       0.0            0.0   \n",
       "2331       0.0       0.0       0.0       0.0       0.0            0.0   \n",
       "2332       0.0       0.0       0.0       0.0       0.0            1.0   \n",
       "\n",
       "      area code_415  area code_510  \n",
       "0               1.0            0.0  \n",
       "1               0.0            1.0  \n",
       "2               1.0            0.0  \n",
       "3               0.0            1.0  \n",
       "4               0.0            1.0  \n",
       "...             ...            ...  \n",
       "2328            0.0            0.0  \n",
       "2329            0.0            1.0  \n",
       "2330            1.0            0.0  \n",
       "2331            1.0            0.0  \n",
       "2332            0.0            0.0  \n",
       "\n",
       "[2333 rows x 71 columns]"
      ]
     },
     "execution_count": 12,
     "metadata": {},
     "output_type": "execute_result"
    }
   ],
   "source": [
    "column_names_2_3 = (\n",
    "    numeric_features\n",
    "    + preprocessor_2_3.named_transformers_[\"pipeline-2\"].get_feature_names_out().tolist()\n",
    "    + preprocessor_2_3.named_transformers_[\"pipeline-3\"].get_feature_names_out().tolist()\n",
    ")\n",
    "pd.DataFrame(transformed_2_3, columns=column_names_2_3)"
   ]
  },
  {
   "cell_type": "markdown",
   "metadata": {},
   "source": [
    "<br><br>"
   ]
  },
  {
   "cell_type": "markdown",
   "metadata": {},
   "source": [
    "<br><br>"
   ]
  },
  {
   "cell_type": "markdown",
   "metadata": {},
   "source": [
    "### 2.4 area code feature\n",
    "rubric={points:4}\n",
    "\n",
    "The original dataset had a feature called `area code`.\n",
    "\n",
    "1. The area codes are numbers. Does it make sense to encode them as one-hot-endoded (OHE) or not? Please justify your response.\n",
    "2. What were the possible values of `area code`? \n",
    "3. If area code is encoded with OHE, how many new features are created to replace it?"
   ]
  },
  {
   "cell_type": "code",
   "execution_count": 13,
   "metadata": {},
   "outputs": [
    {
     "data": {
      "text/plain": [
       "array([415, 510, 408])"
      ]
     },
     "execution_count": 13,
     "metadata": {},
     "output_type": "execute_result"
    }
   ],
   "source": [
    "train_df[\"area code\"].unique()"
   ]
  },
  {
   "cell_type": "markdown",
   "metadata": {},
   "source": [
    "1. Even though the values are numbers but indeed each number represents one area which is a category. So it make sense to encode them as OHE.\n",
    "2. 415, 510, 408\n",
    "3. Three."
   ]
  },
  {
   "cell_type": "markdown",
   "metadata": {},
   "source": [
    "<br><br>"
   ]
  },
  {
   "cell_type": "markdown",
   "metadata": {},
   "source": [
    "### 2.5 Logistic regression\n",
    "rubric={points:12} \n",
    "\n",
    "**Your tasks:**\n",
    "\n",
    "1. Report the cross-validation results of a `LogisticRegression` model, with default Hparams, on the following metrics: `\"accuracy\", \"precision\", \"recall\", \"f1\"`\n",
    "2. Are you satisfied with the results? Explain why or why not. Discuss in a few sentences. "
   ]
  },
  {
   "cell_type": "code",
   "execution_count": 14,
   "metadata": {},
   "outputs": [
    {
     "data": {
      "text/plain": [
       "fit_time          0.039615\n",
       "score_time        0.005189\n",
       "test_accuracy     0.855978\n",
       "test_precision    0.548663\n",
       "test_recall       0.209317\n",
       "test_f1           0.302739\n",
       "dtype: float64"
      ]
     },
     "execution_count": 14,
     "metadata": {},
     "output_type": "execute_result"
    }
   ],
   "source": [
    "#citation: cpsc330 lecture 9\n",
    "scoring = [\n",
    "    \"accuracy\",\n",
    "    \"precision\",\n",
    "    \"recall\",\n",
    "    \"f1\",\n",
    "]  \n",
    "pipe_2_5 = make_pipeline(preprocessor_2_3, LogisticRegression())\n",
    "pipe_2_5.fit(X_train, y_train)\n",
    "scores = cross_validate(\n",
    "    pipe_2_5, X_train, y_train, return_train_score=False, scoring=scoring\n",
    ")\n",
    "pd.DataFrame(scores).mean()"
   ]
  },
  {
   "cell_type": "markdown",
   "metadata": {},
   "source": [
    "1. \"accuracy\": 0.855978\n",
    "    \"precision\": 0.548663\n",
    "    \"recall\": 0.209317\n",
    "    \"f1\": 0.302739\n",
    "2. No, the high accuracy score is due to the fact that this is an imbalanced data set where most \n",
    "target feature have churn=False.\n",
    "But we can tell from the recall that only 20% of real positives had been predicted correctly; and only 55% are real positives among all positive predictions.\n",
    "Overall, the model is not good at predicting TPs."
   ]
  },
  {
   "cell_type": "markdown",
   "metadata": {},
   "source": [
    "<br><br>"
   ]
  },
  {
   "cell_type": "markdown",
   "metadata": {},
   "source": [
    "### 2.6 Logistic regression with `class_weight`\n",
    "rubric={points:6}\n",
    "\n",
    "**Your tasks:**\n",
    "\n",
    "1. Set the `class_weight` parameter of your logistic regression model to `'balanced'` and report the same metrics as in the previous part. \n",
    "2. Do you prefer this model to the one in the previous part? Discuss your results in a few sentences while comparing the metrics of this model and the previous model."
   ]
  },
  {
   "cell_type": "code",
   "execution_count": 15,
   "metadata": {},
   "outputs": [
    {
     "data": {
      "text/plain": [
       "fit_time          0.044215\n",
       "score_time        0.005483\n",
       "test_accuracy     0.760379\n",
       "test_precision    0.350255\n",
       "test_recall       0.696356\n",
       "test_f1           0.465596\n",
       "dtype: float64"
      ]
     },
     "execution_count": 15,
     "metadata": {},
     "output_type": "execute_result"
    }
   ],
   "source": [
    "pipe_2_6 = make_pipeline(\n",
    "    preprocessor_2_3, LogisticRegression(class_weight=\"balanced\")\n",
    ")\n",
    "pipe_2_6.fit(X_train, y_train)\n",
    "scores_2_6 = cross_validate(\n",
    "    pipe_2_6, X_train, y_train, return_train_score=False, scoring=scoring\n",
    ")\n",
    "pd.DataFrame(scores_2_6).mean()"
   ]
  },
  {
   "cell_type": "markdown",
   "metadata": {},
   "source": [
    "1. \"accuracy\": 0.760379 \"precision\": 0.350255 \"recall\": 0.696356 \"f1\": 0.465596\n",
    "2. Both the accuracy and precision had decreased in this model. The recall metrics is much higher than the previous model where 70% of real positives had been predicted correctly among all real positives. \n",
    "Yes, I prefer this model. Since goal is to capture the customer churn, thus more real positive are captured the better. So the model with high recall is more preferable. ?????f1 since both class is important?????"
   ]
  },
  {
   "cell_type": "markdown",
   "metadata": {},
   "source": [
    "<br><br>"
   ]
  },
  {
   "cell_type": "markdown",
   "metadata": {},
   "source": [
    "### 2.7 Hyperparameter optimization\n",
    "rubric={points:10}\n",
    "\n",
    "1. Jointly optimize `C` and `class_weight` with `GridSearchCV` and `scoring=\"f1\"`.\n",
    "  - For `class_weight`, consider 3 values: \n",
    "    - `None` (no weight)\n",
    "    - \"weight of class 0 = 1\"  and  \"weight of class 1 = 3\"\n",
    "    - '`balanced`'\n",
    "  - For `C`, choose some reasonable values\n",
    "2. What values of `C` and `class_weight` are chosen and what is the best cross-validation f1 score?"
   ]
  },
  {
   "cell_type": "code",
   "execution_count": 16,
   "metadata": {},
   "outputs": [
    {
     "name": "stdout",
     "output_type": "stream",
     "text": [
      "0.47873599874436196\n",
      "{'logisticregression__C': 0.1, 'logisticregression__class_weight': 'balanced'}\n"
     ]
    }
   ],
   "source": [
    "#citation: lecture 8\n",
    "pipe_2_7 = make_pipeline(preprocessor_2_3, LogisticRegression(max_iter=1000))\n",
    "\n",
    "param_grid_2_7 = {\n",
    "    \"logisticregression__C\": [0.001, 0.01, 0.1, 1, 10, 100],\n",
    "    \"logisticregression__class_weight\": [None, {0:1, 1: 10}, {0:1, 1: 100}, {0:1, 1: 1000}, {0:1, 1: 10000}, \"balanced\"],\n",
    "}\n",
    "grid_search_2_7 = GridSearchCV(\n",
    "    pipe_2_7, param_grid_2_7, scoring=\"f1\", return_train_score=False\n",
    ")\n",
    "grid_search_2_7.fit(X_train, y_train)\n",
    "print(grid_search_2_7.best_score_)\n",
    "print(grid_search_2_7.best_params_)"
   ]
  },
  {
   "cell_type": "markdown",
   "metadata": {},
   "source": [
    "2. choose C=0.1 and class_weight='balanced'. The best f1 score is 0.47873599874436196"
   ]
  },
  {
   "cell_type": "markdown",
   "metadata": {},
   "source": [
    "\n",
    "<br><br>"
   ]
  },
  {
   "cell_type": "markdown",
   "metadata": {},
   "source": [
    "### 2.8 Test results\n",
    "rubric={points:10}\n",
    "\n",
    "**Your tasks**\n",
    "1. Evaluate the best model on the test set. In particular show each of the following on the test set:  \n",
    "    - Plot Confusion matrix\n",
    "    - Plot Precision-recall curve \n",
    "    - Calculate average precision score\n",
    "    - Plot ROC curve\n",
    "    - Report AUC score\n",
    "3. Comment on the AUC score and give an intuitive explanation of what this value of AUC means for this problem."
   ]
  },
  {
   "cell_type": "code",
   "execution_count": 17,
   "metadata": {},
   "outputs": [],
   "source": [
    "pipe_2_8 = make_pipeline(preprocessor_2_3, LogisticRegression(max_iter=1000, C=0.1, class_weight='balanced'))\n",
    "pipe_2_8.fit(X_train, y_train)\n",
    "predictions_2_8 = pipe_2_8.predict(X_test)"
   ]
  },
  {
   "cell_type": "code",
   "execution_count": 18,
   "metadata": {},
   "outputs": [
    {
     "name": "stdout",
     "output_type": "stream",
     "text": [
      "Confusion matrix for fraud data set\n"
     ]
    },
    {
     "data": {
      "image/png": "[encoded data removed]",
      "text/plain": [
       "<Figure size 640x480 with 2 Axes>"
      ]
     },
     "metadata": {},
     "output_type": "display_data"
    }
   ],
   "source": [
    "#citation: https://scikit-learn.org/stable/modules/generated/sklearn.metrics.ConfusionMatrixDisplay.html\n",
    "# lecture 9\n",
    "from sklearn.metrics import ConfusionMatrixDisplay\n",
    "cm_2_8 = confusion_matrix(y_test, predictions_2_8)\n",
    "print(\"Confusion matrix for fraud data set\")\n",
    "disp = ConfusionMatrixDisplay(confusion_matrix=cm_2_8, display_labels=[\"Non churn\", \"churn\"])\n",
    "disp.plot()\n",
    "plt.show()"
   ]
  },
  {
   "cell_type": "code",
   "execution_count": 19,
   "metadata": {},
   "outputs": [
    {
     "data": {
      "image/png": "[encoded data removed]",
      "text/plain": [
       "<Figure size 640x480 with 1 Axes>"
      ]
     },
     "metadata": {},
     "output_type": "display_data"
    }
   ],
   "source": [
    "from sklearn.metrics import precision_recall_curve\n",
    "precision_2_8, recall_2_8, thresholds_2_8 = precision_recall_curve(\n",
    "    y_test, pipe_2_8.predict_proba(X_test)[:, 1]\n",
    ")\n",
    "plt.plot(precision_2_8, recall_2_8, label=\"logistic regression: Precision-recall curve\")\n",
    "plt.xlabel(\"Precision\")\n",
    "plt.ylabel(\"Recall\")\n",
    "plt.plot(\n",
    "    precision_score(y_test, pipe_2_8.predict(X_test)),\n",
    "    recall_score(y_test, pipe_2_8.predict(X_test)),\n",
    "    \"or\",\n",
    "    markersize=10,\n",
    "    label=\"threshold 0.5\",\n",
    ")\n",
    "plt.legend(loc=\"best\");"
   ]
  },
  {
   "cell_type": "code",
   "execution_count": 20,
   "metadata": {},
   "outputs": [
    {
     "name": "stdout",
     "output_type": "stream",
     "text": [
      "Average precision of logistic regression: 0.456\n"
     ]
    }
   ],
   "source": [
    "from sklearn.metrics import average_precision_score\n",
    "\n",
    "ap_2_8 = average_precision_score(y_test, pipe_2_8.predict_proba(X_test)[:, 1])\n",
    "print(\"Average precision of logistic regression: {:.3f}\".format(ap_2_8))"
   ]
  },
  {
   "cell_type": "code",
   "execution_count": 21,
   "metadata": {},
   "outputs": [
    {
     "data": {
      "image/png": "[encoded data removed]",
      "text/plain": [
       "<Figure size 640x480 with 1 Axes>"
      ]
     },
     "metadata": {},
     "output_type": "display_data"
    }
   ],
   "source": [
    "from sklearn.metrics import roc_curve\n",
    "\n",
    "fpr, tpr, thresholds = roc_curve(y_test, pipe_2_8.predict_proba(X_test)[:, 1])\n",
    "plt.plot(fpr, tpr, label=\"ROC Curve\")\n",
    "plt.xlabel(\"FPR\")\n",
    "plt.ylabel(\"TPR (recall)\")\n",
    "\n",
    "default_threshold = np.argmin(np.abs(thresholds - 0.5))\n",
    "\n",
    "plt.plot(\n",
    "    fpr[default_threshold],\n",
    "    tpr[default_threshold],\n",
    "    \"or\",\n",
    "    markersize=10,\n",
    "    label=\"threshold 0.5\",\n",
    ")\n",
    "plt.legend(loc=\"best\");"
   ]
  },
  {
   "cell_type": "code",
   "execution_count": 22,
   "metadata": {},
   "outputs": [
    {
     "name": "stdout",
     "output_type": "stream",
     "text": [
      "AUC for logistic regression: 0.823\n"
     ]
    }
   ],
   "source": [
    "from sklearn.metrics import roc_auc_score\n",
    "\n",
    "roc_2_8 = roc_auc_score(y_test, pipe_2_8.predict_proba(X_test)[:, 1])\n",
    "print(\"AUC for logistic regression: {:.3f}\".format(roc_2_8))"
   ]
  },
  {
   "cell_type": "markdown",
   "metadata": {},
   "source": [
    "2. AUC score is the value of area under the ROC curve. It is the sum of all recall values at every FPR value(the predicted probability of that example belongs to the negative class).\n",
    "AUC = 0.823: The probability that a randomly picked an instance with churn = True has a higher score according to the classifier than a randomly picked an instance with churn = False is 0.823. "
   ]
  },
  {
   "cell_type": "markdown",
   "metadata": {},
   "source": [
    "<br><br><br><br>"
   ]
  },
  {
   "cell_type": "markdown",
   "metadata": {},
   "source": [
    "### Exercise 3: Regression metrics <a name=\"3\"></a>\n",
    "<hr> \n"
   ]
  },
  {
   "cell_type": "markdown",
   "metadata": {},
   "source": [
    "For this exercise, we'll use [California housing dataset](https://scikit-learn.org/stable/modules/generated/sklearn.datasets.fetch_california_housing.html) from `sklearn datasets`. The code below loads the dataset.  "
   ]
  },
  {
   "cell_type": "code",
   "execution_count": 23,
   "metadata": {},
   "outputs": [],
   "source": [
    "from sklearn.datasets import fetch_california_housing\n",
    "\n",
    "housing_df = fetch_california_housing(as_frame=True).frame"
   ]
  },
  {
   "cell_type": "markdown",
   "metadata": {},
   "source": [
    "### 3.1: Data spitting and exploration \n",
    "rubric={points:4}\n",
    "\n",
    "**Your tasks:**\n",
    "\n",
    "1. Split the data into train (75%) and test (25%) splits. \n",
    "2. Explore the train split. Do you need to apply any transformations on the data? If yes, create a preprocessor with the appropriate transformations. \n",
    "3. Separate `X` and `y` to train and test splits. "
   ]
  },
  {
   "cell_type": "code",
   "execution_count": 24,
   "metadata": {},
   "outputs": [
    {
     "name": "stdout",
     "output_type": "stream",
     "text": [
      "(15480, 9)\n",
      "<class 'pandas.core.frame.DataFrame'>\n",
      "Int64Index: 15480 entries, 19995 to 19966\n",
      "Data columns (total 9 columns):\n",
      " #   Column       Non-Null Count  Dtype  \n",
      "---  ------       --------------  -----  \n",
      " 0   MedInc       15480 non-null  float64\n",
      " 1   HouseAge     15480 non-null  float64\n",
      " 2   AveRooms     15480 non-null  float64\n",
      " 3   AveBedrms    15480 non-null  float64\n",
      " 4   Population   15480 non-null  float64\n",
      " 5   AveOccup     15480 non-null  float64\n",
      " 6   Latitude     15480 non-null  float64\n",
      " 7   Longitude    15480 non-null  float64\n",
      " 8   MedHouseVal  15480 non-null  float64\n",
      "dtypes: float64(9)\n",
      "memory usage: 1.2 MB\n",
      "None\n"
     ]
    },
    {
     "data": {
      "text/html": [
       "<div>\n",
       "<style scoped>\n",
       "    .dataframe tbody tr th:only-of-type {\n",
       "        vertical-align: middle;\n",
       "    }\n",
       "\n",
       "    .dataframe tbody tr th {\n",
       "        vertical-align: top;\n",
       "    }\n",
       "\n",
       "    .dataframe thead th {\n",
       "        text-align: right;\n",
       "    }\n",
       "</style>\n",
       "<table border=\"1\" class=\"dataframe\">\n",
       "  <thead>\n",
       "    <tr style=\"text-align: right;\">\n",
       "      <th></th>\n",
       "      <th>MedInc</th>\n",
       "      <th>HouseAge</th>\n",
       "      <th>AveRooms</th>\n",
       "      <th>AveBedrms</th>\n",
       "      <th>Population</th>\n",
       "      <th>AveOccup</th>\n",
       "      <th>Latitude</th>\n",
       "      <th>Longitude</th>\n",
       "      <th>MedHouseVal</th>\n",
       "    </tr>\n",
       "  </thead>\n",
       "  <tbody>\n",
       "    <tr>\n",
       "      <th>19995</th>\n",
       "      <td>1.0349</td>\n",
       "      <td>6.0</td>\n",
       "      <td>4.165217</td>\n",
       "      <td>0.982609</td>\n",
       "      <td>734.0</td>\n",
       "      <td>3.191304</td>\n",
       "      <td>36.19</td>\n",
       "      <td>-119.35</td>\n",
       "      <td>0.678</td>\n",
       "    </tr>\n",
       "    <tr>\n",
       "      <th>17889</th>\n",
       "      <td>4.7625</td>\n",
       "      <td>13.0</td>\n",
       "      <td>5.265207</td>\n",
       "      <td>1.002433</td>\n",
       "      <td>1087.0</td>\n",
       "      <td>2.644769</td>\n",
       "      <td>37.41</td>\n",
       "      <td>-121.95</td>\n",
       "      <td>1.375</td>\n",
       "    </tr>\n",
       "    <tr>\n",
       "      <th>1977</th>\n",
       "      <td>3.5192</td>\n",
       "      <td>9.0</td>\n",
       "      <td>8.747475</td>\n",
       "      <td>1.845118</td>\n",
       "      <td>796.0</td>\n",
       "      <td>2.680135</td>\n",
       "      <td>38.61</td>\n",
       "      <td>-120.44</td>\n",
       "      <td>0.980</td>\n",
       "    </tr>\n",
       "    <tr>\n",
       "      <th>6861</th>\n",
       "      <td>2.8672</td>\n",
       "      <td>30.0</td>\n",
       "      <td>4.635616</td>\n",
       "      <td>1.090411</td>\n",
       "      <td>1130.0</td>\n",
       "      <td>3.095890</td>\n",
       "      <td>34.06</td>\n",
       "      <td>-118.13</td>\n",
       "      <td>1.985</td>\n",
       "    </tr>\n",
       "    <tr>\n",
       "      <th>11247</th>\n",
       "      <td>4.1276</td>\n",
       "      <td>13.0</td>\n",
       "      <td>4.429936</td>\n",
       "      <td>0.963376</td>\n",
       "      <td>1749.0</td>\n",
       "      <td>2.785032</td>\n",
       "      <td>33.81</td>\n",
       "      <td>-118.00</td>\n",
       "      <td>1.538</td>\n",
       "    </tr>\n",
       "    <tr>\n",
       "      <th>...</th>\n",
       "      <td>...</td>\n",
       "      <td>...</td>\n",
       "      <td>...</td>\n",
       "      <td>...</td>\n",
       "      <td>...</td>\n",
       "      <td>...</td>\n",
       "      <td>...</td>\n",
       "      <td>...</td>\n",
       "      <td>...</td>\n",
       "    </tr>\n",
       "    <tr>\n",
       "      <th>7763</th>\n",
       "      <td>3.6389</td>\n",
       "      <td>36.0</td>\n",
       "      <td>5.584615</td>\n",
       "      <td>1.115385</td>\n",
       "      <td>490.0</td>\n",
       "      <td>3.769231</td>\n",
       "      <td>33.91</td>\n",
       "      <td>-118.10</td>\n",
       "      <td>1.676</td>\n",
       "    </tr>\n",
       "    <tr>\n",
       "      <th>15377</th>\n",
       "      <td>4.5391</td>\n",
       "      <td>14.0</td>\n",
       "      <td>6.016688</td>\n",
       "      <td>1.017972</td>\n",
       "      <td>2436.0</td>\n",
       "      <td>3.127086</td>\n",
       "      <td>33.37</td>\n",
       "      <td>-117.24</td>\n",
       "      <td>1.809</td>\n",
       "    </tr>\n",
       "    <tr>\n",
       "      <th>17730</th>\n",
       "      <td>5.6306</td>\n",
       "      <td>5.0</td>\n",
       "      <td>5.958393</td>\n",
       "      <td>1.031564</td>\n",
       "      <td>2435.0</td>\n",
       "      <td>3.493544</td>\n",
       "      <td>37.33</td>\n",
       "      <td>-121.76</td>\n",
       "      <td>2.862</td>\n",
       "    </tr>\n",
       "    <tr>\n",
       "      <th>15725</th>\n",
       "      <td>3.8750</td>\n",
       "      <td>44.0</td>\n",
       "      <td>4.739264</td>\n",
       "      <td>1.024540</td>\n",
       "      <td>561.0</td>\n",
       "      <td>1.720859</td>\n",
       "      <td>37.78</td>\n",
       "      <td>-122.44</td>\n",
       "      <td>4.125</td>\n",
       "    </tr>\n",
       "    <tr>\n",
       "      <th>19966</th>\n",
       "      <td>2.5156</td>\n",
       "      <td>20.0</td>\n",
       "      <td>5.491379</td>\n",
       "      <td>1.117816</td>\n",
       "      <td>1241.0</td>\n",
       "      <td>3.566092</td>\n",
       "      <td>36.21</td>\n",
       "      <td>-119.08</td>\n",
       "      <td>0.593</td>\n",
       "    </tr>\n",
       "  </tbody>\n",
       "</table>\n",
       "<p>15480 rows × 9 columns</p>\n",
       "</div>"
      ],
      "text/plain": [
       "       MedInc  HouseAge  AveRooms  AveBedrms  Population  AveOccup  Latitude  \\\n",
       "19995  1.0349       6.0  4.165217   0.982609       734.0  3.191304     36.19   \n",
       "17889  4.7625      13.0  5.265207   1.002433      1087.0  2.644769     37.41   \n",
       "1977   3.5192       9.0  8.747475   1.845118       796.0  2.680135     38.61   \n",
       "6861   2.8672      30.0  4.635616   1.090411      1130.0  3.095890     34.06   \n",
       "11247  4.1276      13.0  4.429936   0.963376      1749.0  2.785032     33.81   \n",
       "...       ...       ...       ...        ...         ...       ...       ...   \n",
       "7763   3.6389      36.0  5.584615   1.115385       490.0  3.769231     33.91   \n",
       "15377  4.5391      14.0  6.016688   1.017972      2436.0  3.127086     33.37   \n",
       "17730  5.6306       5.0  5.958393   1.031564      2435.0  3.493544     37.33   \n",
       "15725  3.8750      44.0  4.739264   1.024540       561.0  1.720859     37.78   \n",
       "19966  2.5156      20.0  5.491379   1.117816      1241.0  3.566092     36.21   \n",
       "\n",
       "       Longitude  MedHouseVal  \n",
       "19995    -119.35        0.678  \n",
       "17889    -121.95        1.375  \n",
       "1977     -120.44        0.980  \n",
       "6861     -118.13        1.985  \n",
       "11247    -118.00        1.538  \n",
       "...          ...          ...  \n",
       "7763     -118.10        1.676  \n",
       "15377    -117.24        1.809  \n",
       "17730    -121.76        2.862  \n",
       "15725    -122.44        4.125  \n",
       "19966    -119.08        0.593  \n",
       "\n",
       "[15480 rows x 9 columns]"
      ]
     },
     "execution_count": 24,
     "metadata": {},
     "output_type": "execute_result"
    }
   ],
   "source": [
    "housing_train_df, housing_test_df = train_test_split(housing_df, test_size=0.25, random_state=123)\n",
    "print(housing_train_df.shape)\n",
    "print(housing_train_df.info())\n",
    "housing_train_df"
   ]
  },
  {
   "cell_type": "code",
   "execution_count": 25,
   "metadata": {},
   "outputs": [],
   "source": [
    "#2. Scaling to all the features are needed\n",
    "numeric_features_3_1 = ['MedInc', 'HouseAge', 'AveRooms', 'AveBedrms', 'Population', 'AveOccup',\n",
    "       'Latitude', 'Longitude']\n",
    "preprocessor_3_1 = make_column_transformer(\n",
    "    (numeric_transformer, numeric_features_3_1),   \n",
    ")"
   ]
  },
  {
   "cell_type": "code",
   "execution_count": 26,
   "metadata": {},
   "outputs": [],
   "source": [
    "#3\n",
    "housing_X_train = housing_train_df.drop(columns=[\"MedHouseVal\"])\n",
    "housing_X_test = housing_test_df.drop(columns=[\"MedHouseVal\"])\n",
    "\n",
    "housing_y_train = housing_train_df[\"MedHouseVal\"]\n",
    "housing_y_test = housing_test_df[\"MedHouseVal\"]"
   ]
  },
  {
   "cell_type": "code",
   "execution_count": null,
   "metadata": {},
   "outputs": [],
   "source": []
  },
  {
   "cell_type": "markdown",
   "metadata": {},
   "source": [
    "<br><br>"
   ]
  },
  {
   "cell_type": "markdown",
   "metadata": {},
   "source": [
    "### 3.2 Baseline: Linear Regression \n",
    "rubric={points:2}\n",
    "\n",
    "**Your tasks:**\n",
    "1. Carry out cross-validation using `sklearn.linear_model.LinearRegression` with default scoring. \n",
    "2. What metric is used for scoring by default? "
   ]
  },
  {
   "cell_type": "code",
   "execution_count": 27,
   "metadata": {},
   "outputs": [
    {
     "data": {
      "text/html": [
       "<div>\n",
       "<style scoped>\n",
       "    .dataframe tbody tr th:only-of-type {\n",
       "        vertical-align: middle;\n",
       "    }\n",
       "\n",
       "    .dataframe tbody tr th {\n",
       "        vertical-align: top;\n",
       "    }\n",
       "\n",
       "    .dataframe thead th {\n",
       "        text-align: right;\n",
       "    }\n",
       "</style>\n",
       "<table border=\"1\" class=\"dataframe\">\n",
       "  <thead>\n",
       "    <tr style=\"text-align: right;\">\n",
       "      <th></th>\n",
       "      <th>0</th>\n",
       "    </tr>\n",
       "  </thead>\n",
       "  <tbody>\n",
       "    <tr>\n",
       "      <th>0</th>\n",
       "      <td>0.608602</td>\n",
       "    </tr>\n",
       "    <tr>\n",
       "      <th>1</th>\n",
       "      <td>0.599240</td>\n",
       "    </tr>\n",
       "    <tr>\n",
       "      <th>2</th>\n",
       "      <td>0.616816</td>\n",
       "    </tr>\n",
       "    <tr>\n",
       "      <th>3</th>\n",
       "      <td>0.592949</td>\n",
       "    </tr>\n",
       "    <tr>\n",
       "      <th>4</th>\n",
       "      <td>0.015128</td>\n",
       "    </tr>\n",
       "  </tbody>\n",
       "</table>\n",
       "</div>"
      ],
      "text/plain": [
       "          0\n",
       "0  0.608602\n",
       "1  0.599240\n",
       "2  0.616816\n",
       "3  0.592949\n",
       "4  0.015128"
      ]
     },
     "execution_count": 27,
     "metadata": {},
     "output_type": "execute_result"
    }
   ],
   "source": [
    "#citation: lecture 10 and lecture 5\n",
    "from sklearn.linear_model import LinearRegression\n",
    "\n",
    "pipe_3_2 = make_pipeline(preprocessor_3_1, LinearRegression())\n",
    "scores_3_2 = cross_val_score(pipe_3_2, housing_X_train, housing_y_train)\n",
    "pd.DataFrame(scores_3_2)"
   ]
  },
  {
   "cell_type": "markdown",
   "metadata": {},
   "source": [
    "2. $R^2$ is used by defualt by LinearRegression."
   ]
  },
  {
   "cell_type": "markdown",
   "metadata": {},
   "source": [
    "<br><br>"
   ]
  },
  {
   "cell_type": "markdown",
   "metadata": {},
   "source": [
    "### 3.3 Random Forest Regressor\n",
    "rubric={points:7}\n",
    "\n",
    "In this exercise, we are going to use [`RandomForestRegressor`](https://scikit-learn.org/stable/modules/generated/sklearn.ensemble.RandomForestRegressor.html) model which we haven't looked into yet. At this point you should feel comfortable using models with our usual ML workflow even if you don't know the details. We'll talk about `RandomForestRegressor` later in the course.  \n",
    "\n",
    "The code below defines a custom scorer called `mape_scorer` and creates dictionaries for two model (`models`) and five evaluation metrics (`score_types_reg`). \n",
    "\n",
    "**Your tasks:**\n",
    "\n",
    "1. Using the `models` and the evaluation metrics `score_types_reg` in the code below, carry out cross-validation with each model, by passing the evaluation metrics to `scoring` argument of `cross_validate`. Use a pipeline with the model as an estimator if you are applying any transformations. \n",
    "2. Show results as a dataframe. \n",
    "3. Interpret the results. How do the models compare to the baseline? Which model seems to be performing well with different metrics? \n"
   ]
  },
  {
   "cell_type": "code",
   "execution_count": 28,
   "metadata": {},
   "outputs": [],
   "source": [
    "models = {\n",
    "    \"Ridge\": Ridge(),\n",
    "    \"Random Forest\": RandomForestRegressor(),\n",
    "}\n",
    "\n",
    "score_types_reg = {\n",
    "    \"neg_mean_squared_error\": \"neg_mean_squared_error\",\n",
    "    \"neg_root_mean_squared_error\": \"neg_root_mean_squared_error\",\n",
    "    \"neg_mean_absolute_error\": \"neg_mean_absolute_error\",\n",
    "    \"r2\": \"r2\",\n",
    "    \"neg_mean_absolute_percentage_error\": \"neg_mean_absolute_percentage_error\",\n",
    "}"
   ]
  },
  {
   "cell_type": "code",
   "execution_count": 29,
   "metadata": {},
   "outputs": [
    {
     "data": {
      "text/html": [
       "<div>\n",
       "<style scoped>\n",
       "    .dataframe tbody tr th:only-of-type {\n",
       "        vertical-align: middle;\n",
       "    }\n",
       "\n",
       "    .dataframe tbody tr th {\n",
       "        vertical-align: top;\n",
       "    }\n",
       "\n",
       "    .dataframe thead th {\n",
       "        text-align: right;\n",
       "    }\n",
       "</style>\n",
       "<table border=\"1\" class=\"dataframe\">\n",
       "  <thead>\n",
       "    <tr style=\"text-align: right;\">\n",
       "      <th></th>\n",
       "      <th>fit_time</th>\n",
       "      <th>score_time</th>\n",
       "      <th>test_neg_mean_squared_error</th>\n",
       "      <th>test_neg_root_mean_squared_error</th>\n",
       "      <th>test_neg_mean_absolute_error</th>\n",
       "      <th>test_r2</th>\n",
       "      <th>test_neg_mean_absolute_percentage_error</th>\n",
       "    </tr>\n",
       "  </thead>\n",
       "  <tbody>\n",
       "    <tr>\n",
       "      <th>0</th>\n",
       "      <td>0.005483</td>\n",
       "      <td>0.002136</td>\n",
       "      <td>-0.549963</td>\n",
       "      <td>-0.741595</td>\n",
       "      <td>-0.539838</td>\n",
       "      <td>0.608633</td>\n",
       "      <td>-0.321621</td>\n",
       "    </tr>\n",
       "    <tr>\n",
       "      <th>1</th>\n",
       "      <td>0.004033</td>\n",
       "      <td>0.003366</td>\n",
       "      <td>-0.539582</td>\n",
       "      <td>-0.734563</td>\n",
       "      <td>-0.544145</td>\n",
       "      <td>0.599232</td>\n",
       "      <td>-0.319187</td>\n",
       "    </tr>\n",
       "    <tr>\n",
       "      <th>2</th>\n",
       "      <td>0.003958</td>\n",
       "      <td>0.002080</td>\n",
       "      <td>-0.509989</td>\n",
       "      <td>-0.714135</td>\n",
       "      <td>-0.522755</td>\n",
       "      <td>0.616812</td>\n",
       "      <td>-0.313360</td>\n",
       "    </tr>\n",
       "    <tr>\n",
       "      <th>3</th>\n",
       "      <td>0.003913</td>\n",
       "      <td>0.002436</td>\n",
       "      <td>-0.538532</td>\n",
       "      <td>-0.733847</td>\n",
       "      <td>-0.536827</td>\n",
       "      <td>0.592940</td>\n",
       "      <td>-0.322003</td>\n",
       "    </tr>\n",
       "    <tr>\n",
       "      <th>4</th>\n",
       "      <td>0.003527</td>\n",
       "      <td>0.001777</td>\n",
       "      <td>-1.255748</td>\n",
       "      <td>-1.120602</td>\n",
       "      <td>-0.536979</td>\n",
       "      <td>0.014994</td>\n",
       "      <td>-0.320155</td>\n",
       "    </tr>\n",
       "  </tbody>\n",
       "</table>\n",
       "</div>"
      ],
      "text/plain": [
       "   fit_time  score_time  test_neg_mean_squared_error  \\\n",
       "0  0.005483    0.002136                    -0.549963   \n",
       "1  0.004033    0.003366                    -0.539582   \n",
       "2  0.003958    0.002080                    -0.509989   \n",
       "3  0.003913    0.002436                    -0.538532   \n",
       "4  0.003527    0.001777                    -1.255748   \n",
       "\n",
       "   test_neg_root_mean_squared_error  test_neg_mean_absolute_error   test_r2  \\\n",
       "0                         -0.741595                     -0.539838  0.608633   \n",
       "1                         -0.734563                     -0.544145  0.599232   \n",
       "2                         -0.714135                     -0.522755  0.616812   \n",
       "3                         -0.733847                     -0.536827  0.592940   \n",
       "4                         -1.120602                     -0.536979  0.014994   \n",
       "\n",
       "   test_neg_mean_absolute_percentage_error  \n",
       "0                                -0.321621  \n",
       "1                                -0.319187  \n",
       "2                                -0.313360  \n",
       "3                                -0.322003  \n",
       "4                                -0.320155  "
      ]
     },
     "metadata": {},
     "output_type": "display_data"
    },
    {
     "data": {
      "text/html": [
       "<div>\n",
       "<style scoped>\n",
       "    .dataframe tbody tr th:only-of-type {\n",
       "        vertical-align: middle;\n",
       "    }\n",
       "\n",
       "    .dataframe tbody tr th {\n",
       "        vertical-align: top;\n",
       "    }\n",
       "\n",
       "    .dataframe thead th {\n",
       "        text-align: right;\n",
       "    }\n",
       "</style>\n",
       "<table border=\"1\" class=\"dataframe\">\n",
       "  <thead>\n",
       "    <tr style=\"text-align: right;\">\n",
       "      <th></th>\n",
       "      <th>fit_time</th>\n",
       "      <th>score_time</th>\n",
       "      <th>test_neg_mean_squared_error</th>\n",
       "      <th>test_neg_root_mean_squared_error</th>\n",
       "      <th>test_neg_mean_absolute_error</th>\n",
       "      <th>test_r2</th>\n",
       "      <th>test_neg_mean_absolute_percentage_error</th>\n",
       "    </tr>\n",
       "  </thead>\n",
       "  <tbody>\n",
       "    <tr>\n",
       "      <th>0</th>\n",
       "      <td>6.144675</td>\n",
       "      <td>0.062753</td>\n",
       "      <td>-0.261793</td>\n",
       "      <td>-0.511657</td>\n",
       "      <td>-0.339003</td>\n",
       "      <td>0.813702</td>\n",
       "      <td>-0.196905</td>\n",
       "    </tr>\n",
       "    <tr>\n",
       "      <th>1</th>\n",
       "      <td>6.131603</td>\n",
       "      <td>0.061286</td>\n",
       "      <td>-0.274607</td>\n",
       "      <td>-0.524029</td>\n",
       "      <td>-0.339603</td>\n",
       "      <td>0.796039</td>\n",
       "      <td>-0.184491</td>\n",
       "    </tr>\n",
       "    <tr>\n",
       "      <th>2</th>\n",
       "      <td>6.076734</td>\n",
       "      <td>0.061368</td>\n",
       "      <td>-0.251702</td>\n",
       "      <td>-0.501699</td>\n",
       "      <td>-0.329315</td>\n",
       "      <td>0.810880</td>\n",
       "      <td>-0.186291</td>\n",
       "    </tr>\n",
       "    <tr>\n",
       "      <th>3</th>\n",
       "      <td>6.044387</td>\n",
       "      <td>0.059108</td>\n",
       "      <td>-0.286120</td>\n",
       "      <td>-0.534902</td>\n",
       "      <td>-0.347603</td>\n",
       "      <td>0.783730</td>\n",
       "      <td>-0.196578</td>\n",
       "    </tr>\n",
       "    <tr>\n",
       "      <th>4</th>\n",
       "      <td>6.039924</td>\n",
       "      <td>0.058909</td>\n",
       "      <td>-0.267356</td>\n",
       "      <td>-0.517065</td>\n",
       "      <td>-0.335348</td>\n",
       "      <td>0.790287</td>\n",
       "      <td>-0.190411</td>\n",
       "    </tr>\n",
       "  </tbody>\n",
       "</table>\n",
       "</div>"
      ],
      "text/plain": [
       "   fit_time  score_time  test_neg_mean_squared_error  \\\n",
       "0  6.144675    0.062753                    -0.261793   \n",
       "1  6.131603    0.061286                    -0.274607   \n",
       "2  6.076734    0.061368                    -0.251702   \n",
       "3  6.044387    0.059108                    -0.286120   \n",
       "4  6.039924    0.058909                    -0.267356   \n",
       "\n",
       "   test_neg_root_mean_squared_error  test_neg_mean_absolute_error   test_r2  \\\n",
       "0                         -0.511657                     -0.339003  0.813702   \n",
       "1                         -0.524029                     -0.339603  0.796039   \n",
       "2                         -0.501699                     -0.329315  0.810880   \n",
       "3                         -0.534902                     -0.347603  0.783730   \n",
       "4                         -0.517065                     -0.335348  0.790287   \n",
       "\n",
       "   test_neg_mean_absolute_percentage_error  \n",
       "0                                -0.196905  \n",
       "1                                -0.184491  \n",
       "2                                -0.186291  \n",
       "3                                -0.196578  \n",
       "4                                -0.190411  "
      ]
     },
     "metadata": {},
     "output_type": "display_data"
    }
   ],
   "source": [
    "for model in models.values():\n",
    "    pipe_3_3 = make_pipeline(preprocessor_3_1, model)\n",
    "    scores_3_3 = cross_validate(pipe_3_3, housing_X_train, housing_y_train, scoring = score_types_reg)\n",
    "    display(pd.DataFrame(scores_3_3))"
   ]
  },
  {
   "cell_type": "markdown",
   "metadata": {},
   "source": [
    "3. The metrics of Ridge model are highly identical to the baseline model but has faster fit time. The Random Forest model has fit time and score time much slower than the baseline, but all its metrics are higher than the baseline. Here all the metrics are negative values except for r2, meaning that the higher these metrics better. Thus, the Random Forest model have smaller errors than the baseline, hence it has better predictions."
   ]
  },
  {
   "cell_type": "code",
   "execution_count": 30,
   "metadata": {},
   "outputs": [
    {
     "data": {
      "text/html": [
       "<div>\n",
       "<style scoped>\n",
       "    .dataframe tbody tr th:only-of-type {\n",
       "        vertical-align: middle;\n",
       "    }\n",
       "\n",
       "    .dataframe tbody tr th {\n",
       "        vertical-align: top;\n",
       "    }\n",
       "\n",
       "    .dataframe thead th {\n",
       "        text-align: right;\n",
       "    }\n",
       "</style>\n",
       "<table border=\"1\" class=\"dataframe\">\n",
       "  <thead>\n",
       "    <tr style=\"text-align: right;\">\n",
       "      <th></th>\n",
       "      <th>fit_time</th>\n",
       "      <th>score_time</th>\n",
       "      <th>test_neg_mean_squared_error</th>\n",
       "      <th>test_neg_root_mean_squared_error</th>\n",
       "      <th>test_neg_mean_absolute_error</th>\n",
       "      <th>test_r2</th>\n",
       "      <th>test_neg_mean_absolute_percentage_error</th>\n",
       "    </tr>\n",
       "  </thead>\n",
       "  <tbody>\n",
       "    <tr>\n",
       "      <th>0</th>\n",
       "      <td>0.017586</td>\n",
       "      <td>0.002957</td>\n",
       "      <td>-0.550005</td>\n",
       "      <td>-0.741624</td>\n",
       "      <td>-0.539838</td>\n",
       "      <td>0.608602</td>\n",
       "      <td>-0.321621</td>\n",
       "    </tr>\n",
       "    <tr>\n",
       "      <th>1</th>\n",
       "      <td>0.016508</td>\n",
       "      <td>0.002434</td>\n",
       "      <td>-0.539571</td>\n",
       "      <td>-0.734555</td>\n",
       "      <td>-0.544146</td>\n",
       "      <td>0.599240</td>\n",
       "      <td>-0.319198</td>\n",
       "    </tr>\n",
       "    <tr>\n",
       "      <th>2</th>\n",
       "      <td>0.016769</td>\n",
       "      <td>0.002264</td>\n",
       "      <td>-0.509984</td>\n",
       "      <td>-0.714132</td>\n",
       "      <td>-0.522756</td>\n",
       "      <td>0.616816</td>\n",
       "      <td>-0.313362</td>\n",
       "    </tr>\n",
       "    <tr>\n",
       "      <th>3</th>\n",
       "      <td>0.015927</td>\n",
       "      <td>0.002440</td>\n",
       "      <td>-0.538520</td>\n",
       "      <td>-0.733839</td>\n",
       "      <td>-0.536830</td>\n",
       "      <td>0.592949</td>\n",
       "      <td>-0.322015</td>\n",
       "    </tr>\n",
       "    <tr>\n",
       "      <th>4</th>\n",
       "      <td>0.016604</td>\n",
       "      <td>0.002057</td>\n",
       "      <td>-1.255578</td>\n",
       "      <td>-1.120526</td>\n",
       "      <td>-0.536993</td>\n",
       "      <td>0.015128</td>\n",
       "      <td>-0.320178</td>\n",
       "    </tr>\n",
       "  </tbody>\n",
       "</table>\n",
       "</div>"
      ],
      "text/plain": [
       "   fit_time  score_time  test_neg_mean_squared_error  \\\n",
       "0  0.017586    0.002957                    -0.550005   \n",
       "1  0.016508    0.002434                    -0.539571   \n",
       "2  0.016769    0.002264                    -0.509984   \n",
       "3  0.015927    0.002440                    -0.538520   \n",
       "4  0.016604    0.002057                    -1.255578   \n",
       "\n",
       "   test_neg_root_mean_squared_error  test_neg_mean_absolute_error   test_r2  \\\n",
       "0                         -0.741624                     -0.539838  0.608602   \n",
       "1                         -0.734555                     -0.544146  0.599240   \n",
       "2                         -0.714132                     -0.522756  0.616816   \n",
       "3                         -0.733839                     -0.536830  0.592949   \n",
       "4                         -1.120526                     -0.536993  0.015128   \n",
       "\n",
       "   test_neg_mean_absolute_percentage_error  \n",
       "0                                -0.321621  \n",
       "1                                -0.319198  \n",
       "2                                -0.313362  \n",
       "3                                -0.322015  \n",
       "4                                -0.320178  "
      ]
     },
     "execution_count": 30,
     "metadata": {},
     "output_type": "execute_result"
    }
   ],
   "source": [
    "# Baseline model\n",
    "pipe_3_3_baseline = make_pipeline(preprocessor_3_1, LinearRegression())\n",
    "scores_3_3_baseline = cross_validate(pipe_3_3_baseline, housing_X_train, housing_y_train, scoring = score_types_reg)\n",
    "pd.DataFrame(scores_3_3_baseline)"
   ]
  },
  {
   "cell_type": "markdown",
   "metadata": {},
   "source": [
    "<br><br>"
   ]
  },
  {
   "cell_type": "markdown",
   "metadata": {},
   "source": [
    "### 3.4 Hyperparameter optimization \n",
    "rubric={points:1}\n",
    "\n",
    "1. Carry out hyperparameter optimization using `RandomizedSearchCV` and `Ridge` with the following `param_dist`. The `alpha` hyperparameter of `Ridge` controls the fundamental tradeoff. Choose `neg_mean_absolute_percentage_error` as the HParam optimization metric.\n",
    "\n",
    "2. What was the best `alpha` hyper-parameter found?"
   ]
  },
  {
   "cell_type": "code",
   "execution_count": 31,
   "metadata": {},
   "outputs": [],
   "source": [
    "from scipy.stats import loguniform\n",
    "\n",
    "param_dist = {\"ridge__alpha\": loguniform(1e-3, 1e3)}"
   ]
  },
  {
   "cell_type": "code",
   "execution_count": 32,
   "metadata": {},
   "outputs": [
    {
     "data": {
      "text/html": [
       "<div>\n",
       "<style scoped>\n",
       "    .dataframe tbody tr th:only-of-type {\n",
       "        vertical-align: middle;\n",
       "    }\n",
       "\n",
       "    .dataframe tbody tr th {\n",
       "        vertical-align: top;\n",
       "    }\n",
       "\n",
       "    .dataframe thead th {\n",
       "        text-align: right;\n",
       "    }\n",
       "</style>\n",
       "<table border=\"1\" class=\"dataframe\">\n",
       "  <thead>\n",
       "    <tr style=\"text-align: right;\">\n",
       "      <th>rank_test_neg_mean_absolute_error</th>\n",
       "      <th>1</th>\n",
       "      <th>2</th>\n",
       "      <th>3</th>\n",
       "      <th>4</th>\n",
       "      <th>5</th>\n",
       "      <th>6</th>\n",
       "      <th>7</th>\n",
       "      <th>8</th>\n",
       "      <th>9</th>\n",
       "      <th>10</th>\n",
       "    </tr>\n",
       "  </thead>\n",
       "  <tbody>\n",
       "    <tr>\n",
       "      <th>param_ridge__alpha</th>\n",
       "      <td>15.094374</td>\n",
       "      <td>12.852228</td>\n",
       "      <td>20.740242</td>\n",
       "      <td>2.031836</td>\n",
       "      <td>0.768407</td>\n",
       "      <td>0.345652</td>\n",
       "      <td>0.225271</td>\n",
       "      <td>0.0521</td>\n",
       "      <td>0.022967</td>\n",
       "      <td>766.628906</td>\n",
       "    </tr>\n",
       "    <tr>\n",
       "      <th>split0_test_neg_mean_absolute_error</th>\n",
       "      <td>-0.539861</td>\n",
       "      <td>-0.539855</td>\n",
       "      <td>-0.539881</td>\n",
       "      <td>-0.539839</td>\n",
       "      <td>-0.539838</td>\n",
       "      <td>-0.539838</td>\n",
       "      <td>-0.539838</td>\n",
       "      <td>-0.539838</td>\n",
       "      <td>-0.539838</td>\n",
       "      <td>-0.558719</td>\n",
       "    </tr>\n",
       "    <tr>\n",
       "      <th>split1_test_neg_mean_absolute_error</th>\n",
       "      <td>-0.544168</td>\n",
       "      <td>-0.544159</td>\n",
       "      <td>-0.544191</td>\n",
       "      <td>-0.544143</td>\n",
       "      <td>-0.544145</td>\n",
       "      <td>-0.544146</td>\n",
       "      <td>-0.544146</td>\n",
       "      <td>-0.544146</td>\n",
       "      <td>-0.544146</td>\n",
       "      <td>-0.562497</td>\n",
       "    </tr>\n",
       "    <tr>\n",
       "      <th>split2_test_neg_mean_absolute_error</th>\n",
       "      <td>-0.522768</td>\n",
       "      <td>-0.522764</td>\n",
       "      <td>-0.522786</td>\n",
       "      <td>-0.522755</td>\n",
       "      <td>-0.522755</td>\n",
       "      <td>-0.522755</td>\n",
       "      <td>-0.522755</td>\n",
       "      <td>-0.522755</td>\n",
       "      <td>-0.522756</td>\n",
       "      <td>-0.542276</td>\n",
       "    </tr>\n",
       "    <tr>\n",
       "      <th>split3_test_neg_mean_absolute_error</th>\n",
       "      <td>-0.536794</td>\n",
       "      <td>-0.536797</td>\n",
       "      <td>-0.536797</td>\n",
       "      <td>-0.536824</td>\n",
       "      <td>-0.536828</td>\n",
       "      <td>-0.536829</td>\n",
       "      <td>-0.536829</td>\n",
       "      <td>-0.53683</td>\n",
       "      <td>-0.53683</td>\n",
       "      <td>-0.554985</td>\n",
       "    </tr>\n",
       "    <tr>\n",
       "      <th>split4_test_neg_mean_absolute_error</th>\n",
       "      <td>-0.53682</td>\n",
       "      <td>-0.536844</td>\n",
       "      <td>-0.536769</td>\n",
       "      <td>-0.536966</td>\n",
       "      <td>-0.536983</td>\n",
       "      <td>-0.536988</td>\n",
       "      <td>-0.53699</td>\n",
       "      <td>-0.536992</td>\n",
       "      <td>-0.536992</td>\n",
       "      <td>-0.550372</td>\n",
       "    </tr>\n",
       "    <tr>\n",
       "      <th>mean_test_neg_mean_absolute_error</th>\n",
       "      <td>-0.536082</td>\n",
       "      <td>-0.536084</td>\n",
       "      <td>-0.536085</td>\n",
       "      <td>-0.536106</td>\n",
       "      <td>-0.53611</td>\n",
       "      <td>-0.536111</td>\n",
       "      <td>-0.536112</td>\n",
       "      <td>-0.536112</td>\n",
       "      <td>-0.536112</td>\n",
       "      <td>-0.55377</td>\n",
       "    </tr>\n",
       "  </tbody>\n",
       "</table>\n",
       "</div>"
      ],
      "text/plain": [
       "rank_test_neg_mean_absolute_error           1          2          3   \\\n",
       "param_ridge__alpha                   15.094374  12.852228  20.740242   \n",
       "split0_test_neg_mean_absolute_error  -0.539861  -0.539855  -0.539881   \n",
       "split1_test_neg_mean_absolute_error  -0.544168  -0.544159  -0.544191   \n",
       "split2_test_neg_mean_absolute_error  -0.522768  -0.522764  -0.522786   \n",
       "split3_test_neg_mean_absolute_error  -0.536794  -0.536797  -0.536797   \n",
       "split4_test_neg_mean_absolute_error   -0.53682  -0.536844  -0.536769   \n",
       "mean_test_neg_mean_absolute_error    -0.536082  -0.536084  -0.536085   \n",
       "\n",
       "rank_test_neg_mean_absolute_error          4         5         6         7   \\\n",
       "param_ridge__alpha                   2.031836  0.768407  0.345652  0.225271   \n",
       "split0_test_neg_mean_absolute_error -0.539839 -0.539838 -0.539838 -0.539838   \n",
       "split1_test_neg_mean_absolute_error -0.544143 -0.544145 -0.544146 -0.544146   \n",
       "split2_test_neg_mean_absolute_error -0.522755 -0.522755 -0.522755 -0.522755   \n",
       "split3_test_neg_mean_absolute_error -0.536824 -0.536828 -0.536829 -0.536829   \n",
       "split4_test_neg_mean_absolute_error -0.536966 -0.536983 -0.536988  -0.53699   \n",
       "mean_test_neg_mean_absolute_error   -0.536106  -0.53611 -0.536111 -0.536112   \n",
       "\n",
       "rank_test_neg_mean_absolute_error          8         9           10  \n",
       "param_ridge__alpha                     0.0521  0.022967  766.628906  \n",
       "split0_test_neg_mean_absolute_error -0.539838 -0.539838   -0.558719  \n",
       "split1_test_neg_mean_absolute_error -0.544146 -0.544146   -0.562497  \n",
       "split2_test_neg_mean_absolute_error -0.522755 -0.522756   -0.542276  \n",
       "split3_test_neg_mean_absolute_error  -0.53683  -0.53683   -0.554985  \n",
       "split4_test_neg_mean_absolute_error -0.536992 -0.536992   -0.550372  \n",
       "mean_test_neg_mean_absolute_error   -0.536112 -0.536112    -0.55377  "
      ]
     },
     "execution_count": 32,
     "metadata": {},
     "output_type": "execute_result"
    }
   ],
   "source": [
    "#citation: lecture 8\n",
    "score_types_reg_3_4 = {\n",
    "    \"neg_mean_absolute_error\": \"neg_mean_absolute_error\",\n",
    "}\n",
    "\n",
    "pipe_3_4 = make_pipeline(preprocessor_3_1, Ridge())\n",
    "random_search_3_4 = RandomizedSearchCV(\n",
    "    pipe_3_4, param_distributions=param_dist, random_state=123, scoring = score_types_reg_3_4,\n",
    "    refit=False\n",
    ")\n",
    "random_search_3_4.fit(housing_X_train, housing_y_train);\n",
    "\n",
    "pd.DataFrame(random_search_3_4.cv_results_)[\n",
    "    [\n",
    "        \"param_ridge__alpha\",\n",
    "        \"split0_test_neg_mean_absolute_error\",\n",
    "        \"split1_test_neg_mean_absolute_error\",\n",
    "        \"split2_test_neg_mean_absolute_error\",\n",
    "        \"split3_test_neg_mean_absolute_error\",\n",
    "        \"split4_test_neg_mean_absolute_error\",\n",
    "        \"mean_test_neg_mean_absolute_error\",\n",
    "        \"rank_test_neg_mean_absolute_error\"\n",
    "    ]\n",
    "].set_index(\"rank_test_neg_mean_absolute_error\").sort_index().T"
   ]
  },
  {
   "cell_type": "markdown",
   "metadata": {},
   "source": [
    "2. The best alpha is 15.094374"
   ]
  },
  {
   "cell_type": "markdown",
   "metadata": {},
   "source": [
    "<br><br>"
   ]
  },
  {
   "cell_type": "markdown",
   "metadata": {},
   "source": [
    "### 3.5 Test results\n",
    "rubric={points:4}\n",
    "\n",
    "**Your tasks:**\n",
    "\n",
    "Test the best model (from 3.4) on the test set based on the `neg_mean_absolute_percentage_error` score."
   ]
  },
  {
   "cell_type": "code",
   "execution_count": 33,
   "metadata": {
    "tags": []
   },
   "outputs": [
    {
     "data": {
      "text/html": [
       "<div>\n",
       "<style scoped>\n",
       "    .dataframe tbody tr th:only-of-type {\n",
       "        vertical-align: middle;\n",
       "    }\n",
       "\n",
       "    .dataframe tbody tr th {\n",
       "        vertical-align: top;\n",
       "    }\n",
       "\n",
       "    .dataframe thead th {\n",
       "        text-align: right;\n",
       "    }\n",
       "</style>\n",
       "<table border=\"1\" class=\"dataframe\">\n",
       "  <thead>\n",
       "    <tr style=\"text-align: right;\">\n",
       "      <th></th>\n",
       "      <th>fit_time</th>\n",
       "      <th>score_time</th>\n",
       "      <th>test_neg_mean_absolute_percentage_error</th>\n",
       "    </tr>\n",
       "  </thead>\n",
       "  <tbody>\n",
       "    <tr>\n",
       "      <th>0</th>\n",
       "      <td>0.003983</td>\n",
       "      <td>0.001356</td>\n",
       "      <td>-0.298016</td>\n",
       "    </tr>\n",
       "    <tr>\n",
       "      <th>1</th>\n",
       "      <td>0.002920</td>\n",
       "      <td>0.001231</td>\n",
       "      <td>-0.401263</td>\n",
       "    </tr>\n",
       "    <tr>\n",
       "      <th>2</th>\n",
       "      <td>0.002933</td>\n",
       "      <td>0.001270</td>\n",
       "      <td>-0.316059</td>\n",
       "    </tr>\n",
       "    <tr>\n",
       "      <th>3</th>\n",
       "      <td>0.002905</td>\n",
       "      <td>0.001456</td>\n",
       "      <td>-0.317174</td>\n",
       "    </tr>\n",
       "    <tr>\n",
       "      <th>4</th>\n",
       "      <td>0.002794</td>\n",
       "      <td>0.001265</td>\n",
       "      <td>-0.339503</td>\n",
       "    </tr>\n",
       "  </tbody>\n",
       "</table>\n",
       "</div>"
      ],
      "text/plain": [
       "   fit_time  score_time  test_neg_mean_absolute_percentage_error\n",
       "0  0.003983    0.001356                                -0.298016\n",
       "1  0.002920    0.001231                                -0.401263\n",
       "2  0.002933    0.001270                                -0.316059\n",
       "3  0.002905    0.001456                                -0.317174\n",
       "4  0.002794    0.001265                                -0.339503"
      ]
     },
     "execution_count": 33,
     "metadata": {},
     "output_type": "execute_result"
    }
   ],
   "source": [
    "#citation: lecture 8 and 10\n",
    "score_types_reg_3_5 = {\n",
    "    \"neg_mean_absolute_percentage_error\": \"neg_mean_absolute_percentage_error\",\n",
    "}\n",
    "\n",
    "pipe_3_5 = make_pipeline(preprocessor_3_1, Ridge(alpha=15.094374))\n",
    "scores_3_5 = cross_validate(pipe_3_5, housing_X_test, housing_y_test, scoring=score_types_reg_3_5)\n",
    "pd.DataFrame(scores_3_5)"
   ]
  },
  {
   "cell_type": "markdown",
   "metadata": {},
   "source": [
    "<br><br>"
   ]
  },
  {
   "cell_type": "markdown",
   "metadata": {},
   "source": [
    "### 3.6 Model interpretation  \n",
    "rubric={points:4}\n",
    "\n",
    "Ridge is a linear model and it learns coefficients associated with each feature during `fit()`. \n",
    "\n",
    "**Your tasks:**\n",
    "\n",
    "1. Explore coefficients learned by the `Ridge` model above as a pandas dataframe with two columns: \n",
    "   - features \n",
    "   - coefficients\n",
    "2. Increasing which feature values would result in higher housing price? "
   ]
  },
  {
   "cell_type": "code",
   "execution_count": 43,
   "metadata": {},
   "outputs": [
    {
     "ename": "AttributeError",
     "evalue": "'Ridge' object has no attribute 'feature_'",
     "output_type": "error",
     "traceback": [
      "\u001b[0;31m---------------------------------------------------------------------------\u001b[0m",
      "\u001b[0;31mAttributeError\u001b[0m                            Traceback (most recent call last)",
      "Cell \u001b[0;32mIn[43], line 2\u001b[0m\n\u001b[1;32m      1\u001b[0m pipe_3_5[\u001b[38;5;124m\"\u001b[39m\u001b[38;5;124mridge\u001b[39m\u001b[38;5;124m\"\u001b[39m]\u001b[38;5;241m.\u001b[39mfit(housing_X_train, housing_y_train)\n\u001b[0;32m----> 2\u001b[0m \u001b[43mpipe_3_5\u001b[49m\u001b[43m[\u001b[49m\u001b[38;5;124;43m\"\u001b[39;49m\u001b[38;5;124;43mridge\u001b[39;49m\u001b[38;5;124;43m\"\u001b[39;49m\u001b[43m]\u001b[49m\u001b[38;5;241;43m.\u001b[39;49m\u001b[43mfeature_\u001b[49m\n",
      "\u001b[0;31mAttributeError\u001b[0m: 'Ridge' object has no attribute 'feature_'"
     ]
    }
   ],
   "source": [
    "pipe_3_5[\"ridge\"].fit(housing_X_train, housing_y_train)\n",
    "pipe_3_5[\"ridge\"].feature_"
   ]
  },
  {
   "cell_type": "markdown",
   "metadata": {},
   "source": [
    "<br><br>"
   ]
  },
  {
   "cell_type": "markdown",
   "metadata": {
    "jp-MarkdownHeadingCollapsed": true,
    "tags": []
   },
   "source": [
    "## Submission instructions \n",
    "\n",
    "**PLEASE READ:** When you are ready to submit your assignment do the following:\n",
    "\n",
    "1. Run all cells in your notebook to make sure there are no errors by doing `Kernel -> Restart Kernel and Clear All Outputs` and then `Run -> Run All Cells`. \n",
    "2. Notebooks with cell execution numbers out of order or not starting from “1” will have marks deducted. Notebooks without the output displayed may not be graded at all (because we need to see the output in order to grade your work).\n",
    "3. Upload the assignment using Gradescope's drag and drop tool. Check out this [Gradescope Student Guide](https://lthub.ubc.ca/guides/gradescope-student-guide/) if you need help with Gradescope submission. "
   ]
  }
 ],
 "metadata": {
  "anaconda-cloud": {},
  "kernelspec": {
   "display_name": "Python [conda env:.conda-cpsc330]",
   "language": "python",
   "name": "conda-env-.conda-cpsc330-py"
  },
  "language_info": {
   "codemirror_mode": {
    "name": "ipython",
    "version": 3
   },
   "file_extension": ".py",
   "mimetype": "text/x-python",
   "name": "python",
   "nbconvert_exporter": "python",
   "pygments_lexer": "ipython3",
   "version": "3.10.8"
  },
  "name": "_merged",
  "toc": {
   "colors": {
    "hover_highlight": "#DAA520",
    "navigate_num": "#000000",
    "navigate_text": "#333333",
    "running_highlight": "#FF0000",
    "selected_highlight": "#FFD700",
    "sidebar_border": "#EEEEEE",
    "wrapper_background": "#FFFFFF"
   },
   "moveMenuLeft": true,
   "nav_menu": {
    "height": "438px",
    "width": "252px"
   },
   "navigate_menu": true,
   "number_sections": true,
   "sideBar": true,
   "threshold": 4,
   "toc_cell": false,
   "toc_section_display": "block",
   "toc_window_display": false,
   "widenNotebook": false
  }
 },
 "nbformat": 4,
 "nbformat_minor": 4
}
